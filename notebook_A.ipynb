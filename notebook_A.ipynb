{
 "cells": [
  {
   "cell_type": "markdown",
   "metadata": {
    "deletable": false,
    "editable": false,
    "nbgrader": {
     "cell_type": "markdown",
     "checksum": "c1d6d8209921bc9f9eab439765f4d2dc",
     "grade": false,
     "grade_id": "cell-2e8dabd8897e1fea",
     "locked": true,
     "schema_version": 3,
     "solution": false,
     "task": false
    }
   },
   "source": [
    "Before you turn this assignment in, make sure everything runs as expected. **Restart the kernel and run all cells** (in the menubar, select Kernel$\\rightarrow$Restart Kernel and Run All Cells...).\n",
    "\n",
    "Make sure you fill in any place that says \"YOUR ANSWER HERE\" or `YOUR CODE HERE` and remove the `raise NotImplementedError()` lines. \n",
    "\n",
    "Code blocks starting with a `# tests` comment provide unit tests which have to run without errors in order to get full points. Be aware that there might be further 'secret' tests to check correct implementation! I.e. the provided unit tests are necessary but not sufficient for full points!\n",
    "\n",
    "You are always welcome to add **additional plots, tests, or debug outputs**.\n",
    "However, make sure to: **1) not break the automated tests**, and **2) switch off any excessive debug output** when you submit your notebook!\n",
    "\n",
    "Do not delete or copy existing cells!!\n",
    "\n",
    "If you process this notebook outside of JupyterHub make sure:\n",
    "- You may create new cells if necessary, but usually you only need to modify the cells where indicated!\n",
    "- Do not change the metadata or change cells which are read only!\n",
    "- If the validation fails after modifying the notebook outside of JupyterHub, fetch a fresh version from the server and only copy/paste the parts that you changed into the fresh notebook!\n",
    "- If the notebook cannot be autograded because of changes made outside of JupyterHub, you may loose points!\n",
    "\n",
    "Please add your name and student ID below:"
   ]
  },
  {
   "cell_type": "code",
   "execution_count": 41,
   "metadata": {},
   "outputs": [],
   "source": [
    "NAME = \"Reema George Dass\"\n",
    "STUDENT_ID = \"12144026\""
   ]
  },
  {
   "cell_type": "code",
   "execution_count": 42,
   "metadata": {
    "deletable": false,
    "editable": false,
    "nbgrader": {
     "cell_type": "code",
     "checksum": "9f7fdc89f976fb4ac999a0ede1705805",
     "grade": true,
     "grade_id": "name_and_id_test",
     "locked": true,
     "points": 0,
     "schema_version": 3,
     "solution": false,
     "task": false
    }
   },
   "outputs": [],
   "source": [
    "assert len(NAME) > 0, \"Enter your name!\"\n",
    "assert len(STUDENT_ID) > 0, \"Enter your student ID!\""
   ]
  },
  {
   "cell_type": "markdown",
   "metadata": {
    "deletable": false,
    "editable": false,
    "id": "tL620UDQuJf-",
    "nbgrader": {
     "cell_type": "markdown",
     "checksum": "f79d3d3e9565357c4e69f800b36bb412",
     "grade": false,
     "grade_id": "cell-0f58b6936ef4f40a",
     "locked": true,
     "schema_version": 3,
     "solution": false,
     "task": false
    },
    "tags": []
   },
   "source": [
    "# Exercise 1\n",
    "\n",
    "The submission deadline is **13.11.2022 23:55.**"
   ]
  },
  {
   "cell_type": "markdown",
   "metadata": {
    "deletable": false,
    "editable": false,
    "id": "7QOohJI8uJgE",
    "nbgrader": {
     "cell_type": "markdown",
     "checksum": "86961b3a5516a7681d221a990a0ef7f8",
     "grade": false,
     "grade_id": "cell-344a23109a194ec2",
     "locked": true,
     "schema_version": 3,
     "solution": false,
     "task": false
    },
    "tags": []
   },
   "source": [
    "## Task Description\n",
    "\n",
    "The goal of this exercise is to model the relationship between weather observations and the prevalence of new weekly influenza infections.\n",
    "\n",
    "To investigate a potential relationship, we will use two datasets:\n",
    " * tri-daily weather reports from 2009 - 2021 of an unnamed city in Europe.\n",
    " * weekly reports on new influenza infections in the same city for the same time.\n",
    "\n",
    "In this exercise, you will \n",
    " * use `pandas` to read, prepare and transform data,\n",
    " * use `matplotlib` to visually analyse data,\n",
    " * use `scikit-learn` to build prediction models.\n",
    "\n",
    "The data to be used can be found in: `~/shared/data/`. \n",
    "\n",
    "To complete this exercise, you will have to:\n",
    "* prepare the data, which (at minimum) involves the following:\n",
    "    - load and prepare the data\n",
    "    - handling missing values\n",
    "    - handling outliers\n",
    "    - temporal alignment of the two datasets\n",
    "* analyse the data:\n",
    "    - compare descriptive statistics\n",
    "    - visually investigate the raw data to gain an understanding of the data identify patterns, outliers etc.,\n",
    "    - look at the relationship between the variables of interest\n",
    "* model the relationship:\n",
    "    - fit a model that predicts new infections from weather observation data\n",
    "    \n",
    "    \n",
    "**Note:** In case you encounter problems with loading and processing the data (tasks 1-5), we will provide you also with a pickled version of a preprocessed and merged datasets that you can use to complete the remaining parts of the exercise (tasks 6-8).\n",
    "\n",
    "There is a total of 100 points that can be reached which are distributed in two notebooks in the following way:\n",
    "\n",
    "Notebook A (this notebook), total 55 points:\n",
    " - Task 1: 20 points\n",
    " - Task 2: 15 points\n",
    " - Task 3: 10 points\n",
    " - Task 4: 5 points\n",
    " - Task 5: 5 points\n",
    "\n",
    "\n",
    " Notebook B, total 45 points:\n",
    " - Task 6: 15 points\n",
    " - Task 7: 20 points\n",
    " - Task 8: 10 points"
   ]
  },
  {
   "cell_type": "code",
   "execution_count": 43,
   "metadata": {
    "deletable": false,
    "editable": false,
    "id": "5FCqq4N2uJgD",
    "nbgrader": {
     "cell_type": "code",
     "checksum": "13771d1ccc2bb316fe44a64bdd8372c9",
     "grade": false,
     "grade_id": "cell-16f055fc7f1e7564",
     "locked": true,
     "schema_version": 3,
     "solution": false,
     "task": false
    },
    "tags": []
   },
   "outputs": [],
   "source": [
    "# DO NOT MODIFY OR COPY THIS CELL!! \n",
    "# Note: The only imports allowed are Python's standard library, pandas, numpy, scipy, matplotlib, seaborn and scikit-learn\n",
    "import numpy as np\n",
    "import pandas as pd\n",
    "import glob\n",
    "import os\n",
    "import matplotlib.pyplot as plt\n",
    "import seaborn as sns\n",
    "import datetime\n",
    "import pickle\n",
    "import typing"
   ]
  },
  {
   "cell_type": "markdown",
   "metadata": {
    "deletable": false,
    "editable": false,
    "id": "tPTXx31BuJgH",
    "nbgrader": {
     "cell_type": "markdown",
     "checksum": "f43babe36e657e7b9bdcd7465bfca64b",
     "grade": false,
     "grade_id": "cell-ee1735e45c45a5d9",
     "locked": true,
     "schema_version": 3,
     "solution": false,
     "task": false
    },
    "tags": []
   },
   "source": [
    "## Task 1: Load Data (20 Points)"
   ]
  },
  {
   "cell_type": "markdown",
   "metadata": {
    "deletable": false,
    "editable": false,
    "id": "g9hckbneuJgI",
    "nbgrader": {
     "cell_type": "markdown",
     "checksum": "7599ddaaf69668f69899c40a956631a5",
     "grade": false,
     "grade_id": "cell-d579b789cc8242e7",
     "locked": true,
     "schema_version": 3,
     "solution": false,
     "task": false
    },
    "tags": []
   },
   "source": [
    "### 1.1: Weather observations\n",
    "\n",
    "As a first step, implement the method `load_weather_data()`, which should read all individual (yearly) datasets from the csv files in `data\\weather\\` into a single `pd.DataFrame` and return it.\n",
    "\n",
    "- make sure that you load all the data (2009-2021, 13 years)\n",
    "- split the tri-daily and daily data (tri-daily data has _7h, _14h, and _19h suffixes for column headers), and convert the tri-daily data from a wide to a long format (use pandas' [wide_to_long](https://pandas.pydata.org/docs/reference/api/pandas.wide_to_long.html) or [melt](https://pandas.pydata.org/docs/reference/api/pandas.melt.html#pandas.melt) functions). Introduce a new `hours` column which's values should be taken from the column suffixes.\n",
    "- make sure all columns are appropriately typed (numeric values -> float, countables, i.e. days -> int, etc.)! Especially the `date` column! See datetime and [`pandas.Timestamp`](https://pandas.pydata.org/pandas-docs/stable/reference/api/pandas.Timestamp.html)!\n",
    "- from the `date` column create `year`, `month`, `week`, `day` columns, where `week` contains the week number of the date. Use Pandas built-in datetime handling features.\n",
    "- from the wide to long transform, you should have an `hour` column with the 7, 14, or 19 hours values.\n",
    "- create a `MultiIndex` from the date columns with the following hierarchy: `year` - `month` - `week` - `day` - `hour` (make sure to label them accordingly)\n",
    "\n",
    "**Hints:**\n",
    "\n",
    " - LOOK at the data in the original files\n",
    " - It is advisable not to append each data set individually, but to read each data frame, store it into a list and  combine them once at the end.\n",
    " - Note that for the `precip` data column you will get an unexpected (object) datatype. For this task it is ok to leave it like that, it is due to special values, see next chapters!\n",
    " - Your resulting data frame should look as follows:\n",
    "\n",
    "![Weather data frame example](weather_data_dataframe_sample.png)"
   ]
  },
  {
   "cell_type": "code",
   "execution_count": 44,
   "metadata": {
    "deletable": false,
    "editable": false,
    "id": "PQ6VwrxR47jF",
    "nbgrader": {
     "cell_type": "code",
     "checksum": "2c43cabd8639cc1e5724ea1cd71d2cac",
     "grade": false,
     "grade_id": "cell-a96c14d36ff029a6",
     "locked": true,
     "schema_version": 3,
     "solution": false,
     "task": false
    },
    "tags": []
   },
   "outputs": [],
   "source": [
    "# DO NOT MODIFY OR COPY THIS CELL!! \n",
    "data_path = os.path.join(os.path.expanduser('~'), \"shared\", \"data\")\n",
    "weather_data_path = os.path.join(data_path, 'weather')\n",
    "influenza_data_path = os.path.join(data_path, 'influenza')"
   ]
  },
  {
   "cell_type": "code",
   "execution_count": 45,
   "metadata": {
    "deletable": false,
    "id": "n0MM-kr-m3Ax",
    "nbgrader": {
     "cell_type": "code",
     "checksum": "21019dc19a2de51b21fe04e3e485abfa",
     "grade": false,
     "grade_id": "cell-6c7dab00d63ebef3",
     "locked": false,
     "schema_version": 3,
     "solution": true,
     "task": false
    },
    "tags": []
   },
   "outputs": [],
   "source": [
    "def load_weather_data(weather_data_path:str) -> typing.Tuple[pd.DataFrame, pd.DataFrame]:\n",
    "\n",
    "    \"\"\" \n",
    "    Load all weather data files and combine them into a single Pandas DataFrame.\n",
    "    Split the tri-daily data from the daily data.\n",
    "    For the tri-daily data create a new hour column using the indicated hour in the column names.\n",
    "    Add a week column and a hierarchical index (year, month, week, day, hour).\n",
    "    For the daily-only data also add a hierarchical index (year, month, week, day).\n",
    "    \n",
    "    Parameters\n",
    "    --------\n",
    "    weather_data_path: path to directory containing weather data CSV files\n",
    "    \n",
    "    Returns\n",
    "    --------\n",
    "    weather_data: data frame containing the tri-daily (hours) weather data\n",
    "    weather_data_daily: data frame containing the daily weather data (e.g. precip, precipType, etc.)\n",
    "    \"\"\"\n",
    "    \n",
    "    df_list = []\n",
    "    weather_data=pd.DataFrame()\n",
    "    weather_data_daily=pd.DataFrame()\n",
    "    for file in os.listdir(weather_data_path):\n",
    "        filename = os.fsdecode(file)\n",
    "        if filename.endswith(\".csv\"): \n",
    "            df_list.append(pd.read_csv(weather_data_path+\"/\"+filename, sep = ';'))\n",
    "        else:\n",
    "              continue\n",
    "    weather_data = pd.concat(df_list)\n",
    "    \n",
    "    weather_data['date']=pd.to_datetime(weather_data['date'])\n",
    "   \n",
    "   \n",
    "\n",
    "    weather_data_daily=weather_data[[\"date\",\"precip\",\"precipType\"]]\n",
    "    weather_data=weather_data.drop(columns=[\"precip\",\"precipType\"])\n",
    "\n",
    "    weather_data.rename(columns = {'airPressure_7h':'airPressure_7', 'airPressure_14h':'airPressure_14', 'airPressure_19h':'airPressure_19', \n",
    "                         'skyCover_7h':'skyCover_7', 'skyCover_14h':'skyCover_14', 'skyCover_19h':'skyCover_19', 'temp_7h':'temp_7',\n",
    "                         'temp_14h':'temp_14', 'temp_19h':'temp_19', 'hum_7h':'hum_7', 'hum_14h':'hum_14',\"windBeauf_7h\":\"windBeauf_7\"\n",
    "                        , 'hum_19h':'hum_19', 'windDir_7h':'windDir_7', 'windDir_14h':'windDir_14', 'windDir_19h':'windDir_19', 'windBeauf_19h':'windBeauf_19',\"windBeauf_14h\":\"windBeauf_14\"}, inplace = True)\n",
    "    \n",
    "    weather_data=pd.wide_to_long(weather_data, stubnames=['airPressure','windBeauf','skyCover','temp','windDir','hum',], i=['date'], j='hour',sep='_', suffix=r'\\d*')\n",
    "   \n",
    "    weather_data=weather_data.reset_index(drop=False)\n",
    "    weather_data['year'] = pd.DatetimeIndex(weather_data['date']).year\n",
    "    weather_data['month'] = pd.DatetimeIndex(weather_data['date']).month\n",
    "    weather_data['day'] = pd.DatetimeIndex(weather_data['date']).day\n",
    "    weather_data['week'] = pd.DatetimeIndex(weather_data['date']).week\n",
    "    \n",
    "    weather_data=weather_data.set_index(['year', 'month', 'week', 'day','hour']).sort_index()\n",
    "    \n",
    "    weather_data_daily['year'] = pd.DatetimeIndex(weather_data_daily['date']).year\n",
    "    weather_data_daily['month'] = pd.DatetimeIndex(weather_data_daily['date']).month\n",
    "    weather_data_daily['day'] = pd.DatetimeIndex(weather_data_daily['date']).day\n",
    "    weather_data_daily['week'] = pd.DatetimeIndex(weather_data_daily['date']).week\n",
    "\n",
    "    weather_data_daily=weather_data_daily.set_index(['year', 'month', 'week', 'day']).sort_index()\n",
    "\n",
    "    return weather_data, weather_data_daily\n",
    "\n",
    "\n"
   ]
  },
  {
   "cell_type": "code",
   "execution_count": 46,
   "metadata": {
    "colab": {
     "base_uri": "https://localhost:8080/",
     "height": 510
    },
    "deletable": false,
    "editable": false,
    "id": "vfY3gTFZtVLo",
    "nbgrader": {
     "cell_type": "code",
     "checksum": "ad8b6e2e8d67617f2b7b3441dee28004",
     "grade": false,
     "grade_id": "cell-f91fef9d5c18b362",
     "locked": true,
     "schema_version": 3,
     "solution": false,
     "task": false
    },
    "outputId": "339c3ef8-d3e8-4601-89e6-bd5f37f2281f",
    "tags": []
   },
   "outputs": [
    {
     "name": "stdout",
     "output_type": "stream",
     "text": [
      "hourly weather data:\n"
     ]
    },
    {
     "name": "stderr",
     "output_type": "stream",
     "text": [
      "/tmp/ipykernel_211/3417010805.py:31: UserWarning: Parsing dates in DD/MM/YYYY format when dayfirst=False (the default) was specified. This may lead to inconsistently parsed dates! Specify a format to ensure consistent parsing.\n",
      "  weather_data['date']=pd.to_datetime(weather_data['date'])\n",
      "/tmp/ipykernel_211/3417010805.py:49: FutureWarning: weekofyear and week have been deprecated, please use DatetimeIndex.isocalendar().week instead, which returns a Series. To exactly reproduce the behavior of week and weekofyear and return an Index, you may call pd.Int64Index(idx.isocalendar().week)\n",
      "  weather_data['week'] = pd.DatetimeIndex(weather_data['date']).week\n",
      "/tmp/ipykernel_211/3417010805.py:56: FutureWarning: weekofyear and week have been deprecated, please use DatetimeIndex.isocalendar().week instead, which returns a Series. To exactly reproduce the behavior of week and weekofyear and return an Index, you may call pd.Int64Index(idx.isocalendar().week)\n",
      "  weather_data_daily['week'] = pd.DatetimeIndex(weather_data_daily['date']).week\n"
     ]
    },
    {
     "data": {
      "text/html": [
       "<div>\n",
       "<style scoped>\n",
       "    .dataframe tbody tr th:only-of-type {\n",
       "        vertical-align: middle;\n",
       "    }\n",
       "\n",
       "    .dataframe tbody tr th {\n",
       "        vertical-align: top;\n",
       "    }\n",
       "\n",
       "    .dataframe thead th {\n",
       "        text-align: right;\n",
       "    }\n",
       "</style>\n",
       "<table border=\"1\" class=\"dataframe\">\n",
       "  <thead>\n",
       "    <tr style=\"text-align: right;\">\n",
       "      <th></th>\n",
       "      <th></th>\n",
       "      <th></th>\n",
       "      <th></th>\n",
       "      <th></th>\n",
       "      <th>date</th>\n",
       "      <th>airPressure</th>\n",
       "      <th>windBeauf</th>\n",
       "      <th>skyCover</th>\n",
       "      <th>temp</th>\n",
       "      <th>windDir</th>\n",
       "      <th>hum</th>\n",
       "    </tr>\n",
       "    <tr>\n",
       "      <th>year</th>\n",
       "      <th>month</th>\n",
       "      <th>week</th>\n",
       "      <th>day</th>\n",
       "      <th>hour</th>\n",
       "      <th></th>\n",
       "      <th></th>\n",
       "      <th></th>\n",
       "      <th></th>\n",
       "      <th></th>\n",
       "      <th></th>\n",
       "      <th></th>\n",
       "    </tr>\n",
       "  </thead>\n",
       "  <tbody>\n",
       "    <tr>\n",
       "      <th rowspan=\"5\" valign=\"top\">2009</th>\n",
       "      <th rowspan=\"5\" valign=\"top\">1</th>\n",
       "      <th rowspan=\"5\" valign=\"top\">1</th>\n",
       "      <th rowspan=\"3\" valign=\"top\">1</th>\n",
       "      <th>7</th>\n",
       "      <td>2009-01-01</td>\n",
       "      <td>999.7</td>\n",
       "      <td>2</td>\n",
       "      <td>10</td>\n",
       "      <td>-4.5</td>\n",
       "      <td>W</td>\n",
       "      <td>79</td>\n",
       "    </tr>\n",
       "    <tr>\n",
       "      <th>14</th>\n",
       "      <td>2009-01-01</td>\n",
       "      <td>998.8</td>\n",
       "      <td>2</td>\n",
       "      <td>5</td>\n",
       "      <td>-0.1</td>\n",
       "      <td>NW</td>\n",
       "      <td>71</td>\n",
       "    </tr>\n",
       "    <tr>\n",
       "      <th>19</th>\n",
       "      <td>2009-01-01</td>\n",
       "      <td>1000.7</td>\n",
       "      <td>2</td>\n",
       "      <td>10</td>\n",
       "      <td>-1.8</td>\n",
       "      <td>NW</td>\n",
       "      <td>72</td>\n",
       "    </tr>\n",
       "    <tr>\n",
       "      <th rowspan=\"2\" valign=\"top\">2</th>\n",
       "      <th>7</th>\n",
       "      <td>2009-01-02</td>\n",
       "      <td>988.5</td>\n",
       "      <td>2</td>\n",
       "      <td>10</td>\n",
       "      <td>-2.4</td>\n",
       "      <td>E</td>\n",
       "      <td>91</td>\n",
       "    </tr>\n",
       "    <tr>\n",
       "      <th>14</th>\n",
       "      <td>2009-01-02</td>\n",
       "      <td>988.2</td>\n",
       "      <td>3</td>\n",
       "      <td>10</td>\n",
       "      <td>-0.5</td>\n",
       "      <td>SE</td>\n",
       "      <td>87</td>\n",
       "    </tr>\n",
       "  </tbody>\n",
       "</table>\n",
       "</div>"
      ],
      "text/plain": [
       "                               date  airPressure  windBeauf  skyCover  temp  \\\n",
       "year month week day hour                                                      \n",
       "2009 1     1    1   7    2009-01-01        999.7          2        10  -4.5   \n",
       "                    14   2009-01-01        998.8          2         5  -0.1   \n",
       "                    19   2009-01-01       1000.7          2        10  -1.8   \n",
       "                2   7    2009-01-02        988.5          2        10  -2.4   \n",
       "                    14   2009-01-02        988.2          3        10  -0.5   \n",
       "\n",
       "                         windDir  hum  \n",
       "year month week day hour               \n",
       "2009 1     1    1   7          W   79  \n",
       "                    14        NW   71  \n",
       "                    19        NW   72  \n",
       "                2   7          E   91  \n",
       "                    14        SE   87  "
      ]
     },
     "metadata": {},
     "output_type": "display_data"
    },
    {
     "name": "stdout",
     "output_type": "stream",
     "text": [
      "\n",
      "daily weather data:\n"
     ]
    },
    {
     "data": {
      "text/html": [
       "<div>\n",
       "<style scoped>\n",
       "    .dataframe tbody tr th:only-of-type {\n",
       "        vertical-align: middle;\n",
       "    }\n",
       "\n",
       "    .dataframe tbody tr th {\n",
       "        vertical-align: top;\n",
       "    }\n",
       "\n",
       "    .dataframe thead th {\n",
       "        text-align: right;\n",
       "    }\n",
       "</style>\n",
       "<table border=\"1\" class=\"dataframe\">\n",
       "  <thead>\n",
       "    <tr style=\"text-align: right;\">\n",
       "      <th></th>\n",
       "      <th></th>\n",
       "      <th></th>\n",
       "      <th></th>\n",
       "      <th>date</th>\n",
       "      <th>precip</th>\n",
       "      <th>precipType</th>\n",
       "    </tr>\n",
       "    <tr>\n",
       "      <th>year</th>\n",
       "      <th>month</th>\n",
       "      <th>week</th>\n",
       "      <th>day</th>\n",
       "      <th></th>\n",
       "      <th></th>\n",
       "      <th></th>\n",
       "    </tr>\n",
       "  </thead>\n",
       "  <tbody>\n",
       "    <tr>\n",
       "      <th rowspan=\"5\" valign=\"top\">2009</th>\n",
       "      <th rowspan=\"5\" valign=\"top\">1</th>\n",
       "      <th rowspan=\"4\" valign=\"top\">1</th>\n",
       "      <th>1</th>\n",
       "      <td>2009-01-01</td>\n",
       "      <td>0</td>\n",
       "      <td>NaN</td>\n",
       "    </tr>\n",
       "    <tr>\n",
       "      <th>2</th>\n",
       "      <td>2009-01-02</td>\n",
       "      <td>0.9</td>\n",
       "      <td>snow</td>\n",
       "    </tr>\n",
       "    <tr>\n",
       "      <th>3</th>\n",
       "      <td>2009-01-03</td>\n",
       "      <td>traces</td>\n",
       "      <td>rain</td>\n",
       "    </tr>\n",
       "    <tr>\n",
       "      <th>4</th>\n",
       "      <td>2009-01-04</td>\n",
       "      <td>0</td>\n",
       "      <td>NaN</td>\n",
       "    </tr>\n",
       "    <tr>\n",
       "      <th>2</th>\n",
       "      <th>5</th>\n",
       "      <td>2009-01-05</td>\n",
       "      <td>0.4</td>\n",
       "      <td>rain</td>\n",
       "    </tr>\n",
       "  </tbody>\n",
       "</table>\n",
       "</div>"
      ],
      "text/plain": [
       "                          date  precip precipType\n",
       "year month week day                              \n",
       "2009 1     1    1   2009-01-01       0        NaN\n",
       "                2   2009-01-02     0.9       snow\n",
       "                3   2009-01-03  traces       rain\n",
       "                4   2009-01-04       0        NaN\n",
       "           2    5   2009-01-05     0.4       rain"
      ]
     },
     "metadata": {},
     "output_type": "display_data"
    }
   ],
   "source": [
    "# DO NOT MODIFY OR COPY THIS CELL!! \n",
    "weather_data, daily_weather_data = load_weather_data(weather_data_path)\n",
    "# print first couple of rows:\n",
    "print('hourly weather data:')\n",
    "display(weather_data.head())\n",
    "print('\\ndaily weather data:')\n",
    "display(daily_weather_data.head())"
   ]
  },
  {
   "cell_type": "code",
   "execution_count": 47,
   "metadata": {
    "colab": {
     "base_uri": "https://localhost:8080/"
    },
    "id": "JBlDg_afwUwy",
    "outputId": "0f1e519d-c003-4ba8-fcab-1751e1111036"
   },
   "outputs": [
    {
     "name": "stdout",
     "output_type": "stream",
     "text": [
      "Data dimensions are: 14244 rows and 7 columns\n",
      "\n",
      "index types are: \n",
      "-----------------\n",
      "year     int64\n",
      "month    int64\n",
      "week     int64\n",
      "day      int64\n",
      "hour     int64\n",
      "dtype: object\n",
      "\n",
      "column types are: \n",
      "-----------------\n",
      "date           datetime64[ns]\n",
      "airPressure           float64\n",
      "windBeauf               int64\n",
      "skyCover                int64\n",
      "temp                  float64\n",
      "windDir                object\n",
      "hum                     int64\n",
      "dtype: object\n",
      "\n",
      "For daily data: \n",
      "Data dimensions are: 4748 rows and 3 columns\n",
      "\n",
      "index types are: \n",
      "-----------------\n",
      "year     int64\n",
      "month    int64\n",
      "week     int64\n",
      "day      int64\n",
      "dtype: object\n",
      "\n",
      "column types are: \n",
      "-----------------\n",
      "date          datetime64[ns]\n",
      "precip                object\n",
      "precipType            object\n",
      "dtype: object\n"
     ]
    }
   ],
   "source": [
    "# use this cell to inspect the data.\n",
    "\n",
    "print(f\"Data dimensions are: {weather_data.shape[0]} rows and {weather_data.shape[1]} columns\")\n",
    "print(f\"\\nindex types are: \\n-----------------\\n{weather_data.index.dtypes}\")\n",
    "print(f\"\\ncolumn types are: \\n-----------------\\n{weather_data.dtypes}\")\n",
    "\n",
    "print(f\"\\nFor daily data: \\nData dimensions are: {daily_weather_data.shape[0]} rows and {daily_weather_data.shape[1]} columns\")\n",
    "print(f\"\\nindex types are: \\n-----------------\\n{daily_weather_data.index.dtypes}\")\n",
    "print(f\"\\ncolumn types are: \\n-----------------\\n{daily_weather_data.dtypes}\")\n"
   ]
  },
  {
   "cell_type": "markdown",
   "metadata": {
    "deletable": false,
    "editable": false,
    "id": "j-DydORPzWH3",
    "nbgrader": {
     "cell_type": "markdown",
     "checksum": "995ec79083f7028ae26ca357004f4fae",
     "grade": false,
     "grade_id": "cell-b67cb45d509d8ebc",
     "locked": true,
     "schema_version": 3,
     "solution": false,
     "task": false
    },
    "tags": []
   },
   "source": [
    "#### Tests\n",
    "Optional but recommended!\n",
    "Check if the loading of the data was successful using some assertions.\n",
    "The points will automatically assigned by the hidden test, try to make sure that you covered all required points from above!"
   ]
  },
  {
   "cell_type": "code",
   "execution_count": 48,
   "metadata": {
    "id": "U6XXR5hbzRxF"
   },
   "outputs": [],
   "source": [
    "# use this cell to create your own tests. best case: create a test for each requirement above!\n",
    "\n",
    "# Note: you can add new cells also for the other tasks to add your own tests. \n",
    "# But NEVER COPY an existing cell, since this can break the autograding!"
   ]
  },
  {
   "cell_type": "code",
   "execution_count": 49,
   "metadata": {
    "deletable": false,
    "editable": false,
    "id": "WTCWDGxnzU6s",
    "nbgrader": {
     "cell_type": "code",
     "checksum": "3a25ecbef23a2c4e3f59ff1549e1773b",
     "grade": true,
     "grade_id": "cell-873e9bd65e642c4d",
     "locked": true,
     "points": 2,
     "schema_version": 3,
     "solution": false,
     "task": false
    },
    "tags": []
   },
   "outputs": [],
   "source": [
    "# DO NOT MODIFY OR COPY THIS CELL!! \n",
    "# TESTS: dimensions should be like this:\n",
    "assert weather_data.shape[0] == 14244 # 4748\n",
    "assert weather_data.shape[1] >= 7 # 24"
   ]
  },
  {
   "cell_type": "code",
   "execution_count": 50,
   "metadata": {
    "deletable": false,
    "editable": false,
    "id": "teARlPDFuJgL",
    "nbgrader": {
     "cell_type": "code",
     "checksum": "93f8c6dddc39d94c97ac84d6966e6fc3",
     "grade": true,
     "grade_id": "cell-3730b87b3eaced00",
     "locked": true,
     "points": 2,
     "schema_version": 3,
     "solution": false,
     "task": false
    },
    "tags": []
   },
   "outputs": [],
   "source": [
    "# hidden tests for grading DO NOT MODIFY OR COPY THIS CELL!!"
   ]
  },
  {
   "cell_type": "code",
   "execution_count": 51,
   "metadata": {
    "deletable": false,
    "editable": false,
    "id": "2YemAI-6uJgL",
    "nbgrader": {
     "cell_type": "code",
     "checksum": "60ea492d166cd20daa4da103de7923df",
     "grade": true,
     "grade_id": "cell-504e050c5ee55320",
     "locked": true,
     "points": 3,
     "schema_version": 3,
     "solution": false,
     "task": false
    },
    "tags": []
   },
   "outputs": [],
   "source": [
    "# hidden tests, DO NOT MODIFY OR COPY THIS CELL!!"
   ]
  },
  {
   "cell_type": "code",
   "execution_count": 52,
   "metadata": {
    "deletable": false,
    "editable": false,
    "id": "_Lwe8oNT4JUh",
    "nbgrader": {
     "cell_type": "code",
     "checksum": "7910cae70ee2af234d8ce67b6d8bdbe0",
     "grade": true,
     "grade_id": "cell-5dfe6663194550b3",
     "locked": true,
     "points": 2,
     "schema_version": 3,
     "solution": false,
     "task": false
    },
    "tags": []
   },
   "outputs": [],
   "source": [
    "# hidden tests, DO NOT MODIFY OR COPY THIS CELL!!"
   ]
  },
  {
   "cell_type": "markdown",
   "metadata": {
    "deletable": false,
    "editable": false,
    "id": "jAS61ONpuJgL",
    "nbgrader": {
     "cell_type": "markdown",
     "checksum": "149572a55bafe6dbbd73d1532540e4d6",
     "grade": false,
     "grade_id": "cell-10963c38d6f9376b",
     "locked": true,
     "schema_version": 3,
     "solution": false,
     "task": false
    },
    "tags": []
   },
   "source": [
    "#### Question\n",
    "Which combination of year+month has the highest number of entries?\n",
    "- Implement the function below to find the answer!\n",
    "- Find the respective entry/entries using pandas!!"
   ]
  },
  {
   "cell_type": "code",
   "execution_count": 53,
   "metadata": {
    "deletable": false,
    "id": "6WnaJzVm-1cJ",
    "nbgrader": {
     "cell_type": "code",
     "checksum": "31f0ed33f63c8f3cf510ab6374714ace",
     "grade": false,
     "grade_id": "cell-182255c90bc1dc1c",
     "locked": false,
     "schema_version": 3,
     "solution": true,
     "task": false
    },
    "tags": []
   },
   "outputs": [],
   "source": [
    "def get_year_month_highest_entries(data_frame:pd.DataFrame):\n",
    "    year = 0\n",
    "    month = 0\n",
    "\n",
    "    data_frame['date']=pd.to_datetime(data_frame['date'])\n",
    "    data_frame['year'] = pd.DatetimeIndex(data_frame['date']).year\n",
    "    data_frame['month'] = pd.DatetimeIndex(data_frame['date']).month\n",
    "    data_frame.reset_index(drop = True, inplace = True)\n",
    "    year, month = data_frame.groupby(['year','month']).size().idxmax()\n",
    "\n",
    "    return year, month\n",
    "\n"
   ]
  },
  {
   "cell_type": "code",
   "execution_count": 54,
   "metadata": {
    "colab": {
     "base_uri": "https://localhost:8080/"
    },
    "deletable": false,
    "editable": false,
    "id": "Ru1m3q0D-3EX",
    "nbgrader": {
     "cell_type": "code",
     "checksum": "76819a2922454de1afb8fa446e95e79f",
     "grade": false,
     "grade_id": "cell-74c52563439f6402",
     "locked": true,
     "schema_version": 3,
     "solution": false,
     "task": false
    },
    "outputId": "42ccb99a-7b55-4a74-eecd-1ad8a3a54554",
    "tags": []
   },
   "outputs": [
    {
     "name": "stdout",
     "output_type": "stream",
     "text": [
      "Month 1, of year 2009 has the highest number of entries!\n"
     ]
    }
   ],
   "source": [
    "# DO NOT MODIFY OR COPY THIS CELL!!\n",
    "high_num_year, high_num_month = get_year_month_highest_entries(weather_data)\n",
    "print(f\"Month {high_num_month}, of year {high_num_year} has the highest number of entries!\")"
   ]
  },
  {
   "cell_type": "code",
   "execution_count": 55,
   "metadata": {
    "deletable": false,
    "editable": false,
    "id": "AWQ7OK_vuJgN",
    "nbgrader": {
     "cell_type": "code",
     "checksum": "0c2116322b93d94f8d122c67e7c3d5d1",
     "grade": true,
     "grade_id": "cell-ab2a4b58923b3d03",
     "locked": true,
     "points": 2,
     "schema_version": 3,
     "solution": false,
     "task": false
    },
    "tags": []
   },
   "outputs": [],
   "source": [
    "# hidden tests, DO NOT MODIFY OR COPY THIS CELL!!"
   ]
  },
  {
   "cell_type": "markdown",
   "metadata": {
    "deletable": false,
    "editable": false,
    "id": "SLeir2rluJgN",
    "nbgrader": {
     "cell_type": "markdown",
     "checksum": "d79ed485c03e6d1acc511ce417e7cd5f",
     "grade": false,
     "grade_id": "cell-49fb8721ee9b7bfa",
     "locked": true,
     "schema_version": 3,
     "solution": false,
     "task": false
    },
    "tags": []
   },
   "source": [
    "### 1.2: Influenza infections\n",
    "\n",
    "Load and prepare the second dataset (`data/influenza/influenza.csv`), which contains the number of new influenza infections on a weekly basis.\n",
    "- Stack all seasonal data files into one dataframe\n",
    "- Extract a correct `year` and `week` column from the `Season Week` column, see `data/influenza/descriptions.txt` for details.\n",
    "- For each entry, extract the year based on the season and month values\n",
    "- Create a `MultiIndex` from the `year` and `week` columns\n",
    "- Rename column containing influenza cases to `weekly_infections`\n",
    "- Make sure that all columns have appropriate types\n",
    "- Remove rows with missing infection counts\n",
    "- Your resulting data frame should look as follows:\n",
    "\n",
    "![Example data frame](influenza_data_dataframe_sample.png)"
   ]
  },
  {
   "cell_type": "code",
   "execution_count": 56,
   "metadata": {
    "deletable": false,
    "id": "9iy60dbjOwxw",
    "nbgrader": {
     "cell_type": "code",
     "checksum": "854a62a18559bbf02cc12797e35a3ff3",
     "grade": false,
     "grade_id": "cell-fe3966bcb8510be9",
     "locked": false,
     "schema_version": 3,
     "solution": true,
     "task": false
    },
    "tags": []
   },
   "outputs": [],
   "source": [
    "\n",
    "def f(x):\n",
    "    year=0\n",
    "    week=x.split('_')\n",
    "    year=week[0].split('/')\n",
    "    year1=year[0]\n",
    "    year2=year[1]\n",
    "    if int(week[1])<25:\n",
    "        year=year2\n",
    "    else:\n",
    "        year=year1\n",
    "    return year\n",
    "\n",
    "def week(x):\n",
    "    week=x.split('_')\n",
    "    return int(week[1])\n",
    "    \n",
    "          \n",
    "def load_influenza_data() -> pd.DataFrame:\n",
    "    df_list = []\n",
    "    influenza_data=pd.DataFrame()\n",
    "    for file in os.listdir(influenza_data_path):\n",
    "        filename = os.fsdecode(file)\n",
    "        if filename.endswith(\".csv\"): \n",
    "            df_list.append(pd.read_csv(influenza_data_path+\"/\"+filename, sep = ','))\n",
    "        else:\n",
    "              continue\n",
    "    influenza_data = pd.concat(df_list)\n",
    "\n",
    "  \n",
    "    influenza_data['year'] = [f(x) for x in influenza_data['Season Week']]\n",
    "    influenza_data['week'] = [week(x) for x in influenza_data['Season Week']]\n",
    "    \n",
    "    influenza_data.rename(columns = {'New Cases':'weekly_infections'},inplace=True)\n",
    "    influenza_data=influenza_data.drop(columns=[\"Margin\",\"Season Week\"])\n",
    "    influenza_data=influenza_data.set_index(['year', 'week']).sort_index()\n",
    "    influenza_data['weekly_infections']=pd.to_numeric(influenza_data['weekly_infections'],errors='coerce')\n",
    "    influenza_data.dropna(inplace=True)\n",
    "    \n",
    "    \n",
    "    # print(influenza_data.shape)\n",
    "\n",
    "    return influenza_data\n",
    "\n",
    "\n",
    "     "
   ]
  },
  {
   "cell_type": "code",
   "execution_count": 57,
   "metadata": {
    "colab": {
     "base_uri": "https://localhost:8080/",
     "height": 490
    },
    "deletable": false,
    "editable": false,
    "id": "Kf32BXK0TREM",
    "nbgrader": {
     "cell_type": "code",
     "checksum": "5ea26550fc1bcc2ea6ab44e8fc8322b9",
     "grade": false,
     "grade_id": "cell-3e20d32bce359015",
     "locked": true,
     "schema_version": 3,
     "solution": false,
     "task": false
    },
    "outputId": "424f702d-7952-4793-df56-8c19f58e0614",
    "tags": []
   },
   "outputs": [
    {
     "data": {
      "text/html": [
       "<div>\n",
       "<style scoped>\n",
       "    .dataframe tbody tr th:only-of-type {\n",
       "        vertical-align: middle;\n",
       "    }\n",
       "\n",
       "    .dataframe tbody tr th {\n",
       "        vertical-align: top;\n",
       "    }\n",
       "\n",
       "    .dataframe thead th {\n",
       "        text-align: right;\n",
       "    }\n",
       "</style>\n",
       "<table border=\"1\" class=\"dataframe\">\n",
       "  <thead>\n",
       "    <tr style=\"text-align: right;\">\n",
       "      <th></th>\n",
       "      <th></th>\n",
       "      <th>weekly_infections</th>\n",
       "    </tr>\n",
       "    <tr>\n",
       "      <th>year</th>\n",
       "      <th>week</th>\n",
       "      <th></th>\n",
       "    </tr>\n",
       "  </thead>\n",
       "  <tbody>\n",
       "    <tr>\n",
       "      <th rowspan=\"5\" valign=\"top\">2009</th>\n",
       "      <th>40</th>\n",
       "      <td>6600.0</td>\n",
       "    </tr>\n",
       "    <tr>\n",
       "      <th>41</th>\n",
       "      <td>7100.0</td>\n",
       "    </tr>\n",
       "    <tr>\n",
       "      <th>42</th>\n",
       "      <td>7700.0</td>\n",
       "    </tr>\n",
       "    <tr>\n",
       "      <th>43</th>\n",
       "      <td>8300.0</td>\n",
       "    </tr>\n",
       "    <tr>\n",
       "      <th>44</th>\n",
       "      <td>8600.0</td>\n",
       "    </tr>\n",
       "    <tr>\n",
       "      <th>...</th>\n",
       "      <th>...</th>\n",
       "      <td>...</td>\n",
       "    </tr>\n",
       "    <tr>\n",
       "      <th rowspan=\"5\" valign=\"top\">2021</th>\n",
       "      <th>8</th>\n",
       "      <td>2300.0</td>\n",
       "    </tr>\n",
       "    <tr>\n",
       "      <th>9</th>\n",
       "      <td>3000.0</td>\n",
       "    </tr>\n",
       "    <tr>\n",
       "      <th>10</th>\n",
       "      <td>3500.0</td>\n",
       "    </tr>\n",
       "    <tr>\n",
       "      <th>11</th>\n",
       "      <td>3200.0</td>\n",
       "    </tr>\n",
       "    <tr>\n",
       "      <th>12</th>\n",
       "      <td>3000.0</td>\n",
       "    </tr>\n",
       "  </tbody>\n",
       "</table>\n",
       "<p>310 rows × 1 columns</p>\n",
       "</div>"
      ],
      "text/plain": [
       "           weekly_infections\n",
       "year week                   \n",
       "2009 40               6600.0\n",
       "     41               7100.0\n",
       "     42               7700.0\n",
       "     43               8300.0\n",
       "     44               8600.0\n",
       "...                      ...\n",
       "2021 8                2300.0\n",
       "     9                3000.0\n",
       "     10               3500.0\n",
       "     11               3200.0\n",
       "     12               3000.0\n",
       "\n",
       "[310 rows x 1 columns]"
      ]
     },
     "metadata": {},
     "output_type": "display_data"
    }
   ],
   "source": [
    "# DO NOT MODIFY OR COPY THIS CELL!! \n",
    "data_influenza = load_influenza_data()\n",
    "display(data_influenza)"
   ]
  },
  {
   "cell_type": "code",
   "execution_count": 58,
   "metadata": {
    "colab": {
     "base_uri": "https://localhost:8080/"
    },
    "id": "dpThKHTdVc_0",
    "outputId": "068ccb44-9940-4cff-a12e-88aeaaecd38d"
   },
   "outputs": [
    {
     "name": "stdout",
     "output_type": "stream",
     "text": [
      "Data dimensions are: 310 rows and 1 columns\n",
      "\n",
      "index types are: \n",
      "-----------------\n",
      "year    object\n",
      "week     int64\n",
      "dtype: object\n",
      "\n",
      "column types are: \n",
      "-----------------\n",
      "weekly_infections    float64\n",
      "dtype: object\n"
     ]
    }
   ],
   "source": [
    "# use this cell to inspect the data.\n",
    "\n",
    "print(f\"Data dimensions are: {data_influenza.shape[0]} rows and {data_influenza.shape[1]} columns\")\n",
    "print(f\"\\nindex types are: \\n-----------------\\n{data_influenza.index.dtypes}\")\n",
    "print(f\"\\ncolumn types are: \\n-----------------\\n{data_influenza.dtypes}\")"
   ]
  },
  {
   "cell_type": "markdown",
   "metadata": {
    "deletable": false,
    "editable": false,
    "id": "7demfS_RYKRy",
    "nbgrader": {
     "cell_type": "markdown",
     "checksum": "f931f581170a3185980fa44a9005e3f8",
     "grade": false,
     "grade_id": "cell-6cd57bacaefac1d1",
     "locked": true,
     "schema_version": 3,
     "solution": false,
     "task": false
    },
    "tags": []
   },
   "source": [
    "#### Tests\n",
    "Optional but recommended!\n",
    "Check if the loading of the data was successful using some assertions.\n",
    "The points will automatically be assigned by the hidden test, try to make sure that you covered all required points from above!"
   ]
  },
  {
   "cell_type": "code",
   "execution_count": 59,
   "metadata": {
    "id": "C0-EDr95XrIS"
   },
   "outputs": [],
   "source": [
    "# use this cell to create your own tests\n"
   ]
  },
  {
   "cell_type": "code",
   "execution_count": 60,
   "metadata": {
    "deletable": false,
    "editable": false,
    "id": "58GvQuH5WuE3",
    "nbgrader": {
     "cell_type": "code",
     "checksum": "10be5c3abe791fd13c12634b772471e7",
     "grade": true,
     "grade_id": "cell-9795f79f67facf65",
     "locked": true,
     "points": 2,
     "schema_version": 3,
     "solution": false,
     "task": false
    },
    "tags": []
   },
   "outputs": [],
   "source": [
    "# tests DO NOT MODIFY OR COPY THIS CELL!! \n",
    "# final dimensions should be like this:\n",
    "assert data_influenza.shape == (310, 1)"
   ]
  },
  {
   "cell_type": "code",
   "execution_count": 61,
   "metadata": {
    "deletable": false,
    "editable": false,
    "id": "eXA1zkebXWPw",
    "nbgrader": {
     "cell_type": "code",
     "checksum": "c61dbe022dd17bbc50938a9845a57964",
     "grade": true,
     "grade_id": "cell-1d79c03b58eebd2f",
     "locked": true,
     "points": 2,
     "schema_version": 3,
     "solution": false,
     "task": false
    },
    "tags": []
   },
   "outputs": [],
   "source": [
    "# hidden tests, DO NOT MODIFY OR COPY THIS CELL!! "
   ]
  },
  {
   "cell_type": "code",
   "execution_count": 62,
   "metadata": {
    "deletable": false,
    "editable": false,
    "id": "OO3KT68MuJgP",
    "nbgrader": {
     "cell_type": "code",
     "checksum": "23898d11a0b64171a16261ee458b94dc",
     "grade": true,
     "grade_id": "cell-192a6ebaf4390fd0",
     "locked": true,
     "points": 3,
     "schema_version": 3,
     "solution": false,
     "task": false
    },
    "tags": []
   },
   "outputs": [],
   "source": [
    "# hidden tests, DO NOT MODIFY OR COPY THIS CELL!! \n"
   ]
  },
  {
   "cell_type": "markdown",
   "metadata": {
    "deletable": false,
    "editable": false,
    "id": "63ZWOwOtuJgQ",
    "nbgrader": {
     "cell_type": "markdown",
     "checksum": "10edd466d18c1b535b12712a6c3e95b0",
     "grade": false,
     "grade_id": "cell-3660c76491f9a4e2",
     "locked": true,
     "schema_version": 3,
     "solution": false,
     "task": false
    },
    "tags": []
   },
   "source": [
    "#### Question\n",
    "Which combination of year+week shows the highest number of infections? \n",
    "- Implement the function below to return the result!\n",
    "- You should find the respective entry/entries using pandas!\n",
    "- Return the first answer if there is more than one combination fulfilling these criteria."
   ]
  },
  {
   "cell_type": "code",
   "execution_count": 63,
   "metadata": {
    "deletable": false,
    "id": "RQn_De0vY5hm",
    "nbgrader": {
     "cell_type": "code",
     "checksum": "f8eb3125045c23a32583fd120b2ced59",
     "grade": false,
     "grade_id": "cell-d43a00421004df88",
     "locked": false,
     "schema_version": 3,
     "solution": true,
     "task": false
    },
    "tags": []
   },
   "outputs": [
    {
     "data": {
      "text/plain": [
       "('2009', 40)"
      ]
     },
     "execution_count": 63,
     "metadata": {},
     "output_type": "execute_result"
    }
   ],
   "source": [
    "def get_year_week_most_infections(data_frame:pd.DataFrame\n",
    "                                  ) -> typing.Tuple[int, int]:\n",
    "    year = 0\n",
    "    week = 0\n",
    "    \n",
    "    year, week = data_frame.groupby(['year','week']).size().idxmax()\n",
    "\n",
    "    return year, week\n",
    "get_year_week_most_infections(data_influenza)"
   ]
  },
  {
   "cell_type": "code",
   "execution_count": 64,
   "metadata": {
    "colab": {
     "base_uri": "https://localhost:8080/"
    },
    "deletable": false,
    "editable": false,
    "id": "ticGgJUuYow2",
    "nbgrader": {
     "cell_type": "code",
     "checksum": "814f3f2305743c724fd3b616d8342097",
     "grade": false,
     "grade_id": "cell-66fa367aa2a8b5bb",
     "locked": true,
     "schema_version": 3,
     "solution": false,
     "task": false
    },
    "outputId": "c589c4ce-6955-4842-be0e-4b46e6b3bff3",
    "tags": []
   },
   "outputs": [
    {
     "name": "stdout",
     "output_type": "stream",
     "text": [
      "Week 40, of year 2009 has the highest number of infections!\n"
     ]
    }
   ],
   "source": [
    "# DO NOT MODIFY OR COPY THIS CELL!! \n",
    "high_num_year, high_num_week = get_year_week_most_infections(data_influenza)\n",
    "print(f\"Week {high_num_week}, of year {high_num_year} has the highest number of infections!\")"
   ]
  },
  {
   "cell_type": "code",
   "execution_count": 65,
   "metadata": {
    "deletable": false,
    "editable": false,
    "id": "YOiiRIXqMRK_",
    "nbgrader": {
     "cell_type": "code",
     "checksum": "682036f334bd749db39517471f437dcf",
     "grade": true,
     "grade_id": "cell-b13dd3d749592948",
     "locked": true,
     "points": 2,
     "schema_version": 3,
     "solution": false,
     "task": false
    },
    "tags": []
   },
   "outputs": [],
   "source": [
    "# hidden tests, DO NOT MODIFY OR COPY THIS CELL!! \n"
   ]
  },
  {
   "cell_type": "markdown",
   "metadata": {
    "deletable": false,
    "editable": false,
    "id": "LInDG8s0uJgS",
    "nbgrader": {
     "cell_type": "markdown",
     "checksum": "4e5e9c00d7ee3b9fb89ec48f9a0539e6",
     "grade": false,
     "grade_id": "cell-978643b867edf57e",
     "locked": true,
     "schema_version": 3,
     "solution": false,
     "task": false
    },
    "tags": []
   },
   "source": [
    "## Task 2: Handling Missing Values (15 Points)"
   ]
  },
  {
   "cell_type": "markdown",
   "metadata": {
    "deletable": false,
    "editable": false,
    "id": "z8RQwVU-uJgS",
    "nbgrader": {
     "cell_type": "markdown",
     "checksum": "7f35f4fa154cb470e9bce80fadc8e562",
     "grade": false,
     "grade_id": "cell-690270a0d9b477d7",
     "locked": true,
     "schema_version": 3,
     "solution": false,
     "task": false
    },
    "tags": []
   },
   "source": [
    "If you take a closer look at the data, you will notice that a few of the observations are missing.\n",
    "\n",
    "There is a wide range of standard strategies to deal with such missing values, including:\n",
    "\n",
    "- row deletion\n",
    "- substitution methods (e.g., replace with mean or median)\n",
    "- hot-/cold-deck methods (impute from a randomly selected similar record)\n",
    "- regression methods\n",
    "\n",
    "To decide which strategy is appropriate, it is essential to investigate the mechanism that led to the missing values to find out whether the missing data is missing completely at random, missing at random, or missing not at random. \n",
    "\n",
    " - **MCAR** (Missing Completely At Random) means that there is no relationship between the missingness of the data and any of the values.\n",
    " - **MAR** (Missing At Random) means that there is a systematic relationship between the propensity of missing values and the observed data, but not the missing data.\n",
    " - **MNAR** (Missing Not At Random) means that there is a systematic relationship between the propensity of a value to be missing and its values. \n",
    " \n",
    "\n",
    "_______\n",
    "\n",
    "You talked to the meteorologists who compiled the data to find out more about what mechanisms may have caused the missing values: \n",
    "\n",
    "1. They told you that they do not know why some of the temperature (`temp`) and pressure (`airPressure`) readings are missing. They suspect a problem with the IT infrastructure. In any case, the propensity of temperature and pressure values to be missing does not have anything to do with the weather itself.\n",
    "\n",
    "2. For wind intensity values of 0, the wind direction is not provided (for obvious reasons). \n",
    "\n",
    "Check the plausibility of these hypotheses in the data, consider the implications, and devise appropriate strategies to deal with the various missing values.\n",
    "\n",
    "- Handle missing values for the following columns: `temp`, `airPressure`, `windDir`\n",
    "\n",
    "To implement your strategy, you can use a range of standard mechanisms provided by Pandas."
   ]
  },
  {
   "cell_type": "markdown",
   "metadata": {
    "deletable": false,
    "editable": false,
    "id": "wVhPFbEXLfXS",
    "nbgrader": {
     "cell_type": "markdown",
     "checksum": "5f0baaaff371bab27dab290c59106e56",
     "grade": false,
     "grade_id": "cell-b3050272e3cb06e7",
     "locked": true,
     "schema_version": 3,
     "solution": false,
     "task": false
    },
    "tags": []
   },
   "source": [
    "#### Visualize some data\n",
    "Plot temperature (temp) and air pressure (airPressure) as a function of time for the weather data.\n",
    "Additionally plot the average weekly sky coverage over all years."
   ]
  },
  {
   "cell_type": "code",
   "execution_count": 66,
   "metadata": {
    "colab": {
     "base_uri": "https://localhost:8080/",
     "height": 394
    },
    "deletable": false,
    "id": "Howc20nk3_fq",
    "nbgrader": {
     "cell_type": "code",
     "checksum": "0ce510f7bab618dc7bf738545d1f61b3",
     "grade": false,
     "grade_id": "cell-8b05623ec9da853a",
     "locked": false,
     "schema_version": 3,
     "solution": true,
     "task": false
    },
    "outputId": "76dd9548-5671-4b28-a55b-7412cc281e30",
    "tags": []
   },
   "outputs": [
    {
     "data": {
      "text/plain": [
       "<matplotlib.collections.PathCollection at 0x7fee7b47a800>"
      ]
     },
     "execution_count": 66,
     "metadata": {},
     "output_type": "execute_result"
    },
    {
     "data": {
      "image/png": "[encoded data removed]",
      "text/plain": [
       "<Figure size 640x480 with 1 Axes>"
      ]
     },
     "metadata": {},
     "output_type": "display_data"
    }
   ],
   "source": [
    "\n",
    "plt.scatter(\"date\", \"temp\", data=weather_data, marker=\"*\")\n"
   ]
  },
  {
   "cell_type": "code",
   "execution_count": 67,
   "metadata": {
    "colab": {
     "base_uri": "https://localhost:8080/",
     "height": 237
    },
    "deletable": false,
    "id": "1MES-k_TMm1M",
    "nbgrader": {
     "cell_type": "code",
     "checksum": "8e515d6907bc2d155eea2ec69332a62e",
     "grade": false,
     "grade_id": "cell-19e4f9571a256db7",
     "locked": false,
     "schema_version": 3,
     "solution": true,
     "task": false
    },
    "outputId": "229daa37-f83a-4226-9a07-0546c47243c3",
    "tags": []
   },
   "outputs": [
    {
     "data": {
      "text/plain": [
       "<matplotlib.collections.PathCollection at 0x7fee7b55ab60>"
      ]
     },
     "execution_count": 67,
     "metadata": {},
     "output_type": "execute_result"
    },
    {
     "data": {
      "image/png": "[encoded data removed]",
      "text/plain": [
       "<Figure size 640x480 with 1 Axes>"
      ]
     },
     "metadata": {},
     "output_type": "display_data"
    }
   ],
   "source": [
    "plt.scatter(\"date\", \"airPressure\", data=weather_data, marker=\"*\")"
   ]
  },
  {
   "cell_type": "code",
   "execution_count": 72,
   "metadata": {
    "colab": {
     "base_uri": "https://localhost:8080/",
     "height": 242
    },
    "deletable": false,
    "id": "yjyOUf6PMp8A",
    "nbgrader": {
     "cell_type": "code",
     "checksum": "8d1262a50923410ac6ebc3b8f3ce6c3e",
     "grade": false,
     "grade_id": "cell-f2ffd361a8954596",
     "locked": false,
     "schema_version": 3,
     "solution": true,
     "task": false
    },
    "outputId": "af9665e2-1c4f-41af-b562-144c66ae2e2f",
    "tags": []
   },
   "outputs": [
    {
     "name": "stdout",
     "output_type": "stream",
     "text": [
      "Index(['date', 'airPressure', 'windBeauf', 'skyCover', 'temp', 'windDir',\n",
      "       'hum', 'year', 'month'],\n",
      "      dtype='object')\n"
     ]
    },
    {
     "name": "stderr",
     "output_type": "stream",
     "text": [
      "/tmp/ipykernel_211/37260066.py:3: FutureWarning: weekofyear and week have been deprecated, please use DatetimeIndex.isocalendar().week instead, which returns a Series. To exactly reproduce the behavior of week and weekofyear and return an Index, you may call pd.Int64Index(idx.isocalendar().week)\n",
      "  ref['week'] = pd.DatetimeIndex(ref['date']).week\n"
     ]
    },
    {
     "data": {
      "text/plain": [
       "<matplotlib.collections.PathCollection at 0x7fee7b2df7f0>"
      ]
     },
     "execution_count": 72,
     "metadata": {},
     "output_type": "execute_result"
    },
    {
     "data": {
      "image/png": "[encoded data removed]",
      "text/plain": [
       "<Figure size 640x480 with 1 Axes>"
      ]
     },
     "metadata": {},
     "output_type": "display_data"
    }
   ],
   "source": [
    "ref=weather_data.copy()\n",
    "ref['week'] = pd.DatetimeIndex(ref['date']).week\n",
    "\n",
    "\n",
    "ref[\"weekly_mean_coverage\"] = ref.groupby([\"week\"])[\"skyCover\"].mean()\n",
    "plt.scatter(\"date\", \"weekly_mean_coverage\", data=ref)\n",
    "\n"
   ]
  },
  {
   "cell_type": "markdown",
   "metadata": {
    "deletable": false,
    "editable": false,
    "id": "zWDut28JvXps",
    "nbgrader": {
     "cell_type": "markdown",
     "checksum": "7d2064cf4b42c6eb77e9f60dcd3d5578",
     "grade": false,
     "grade_id": "cell-4f139bb699bf2395",
     "locked": true,
     "schema_version": 3,
     "solution": false,
     "task": false
    },
    "tags": []
   },
   "source": [
    "### 2.1: Missing values for temperature and air pressure\n",
    "Find and visualize missing values for `temp` and `airPressure` columns in the `weather_data` data frame.\n"
   ]
  },
  {
   "cell_type": "markdown",
   "metadata": {
    "deletable": false,
    "editable": false,
    "id": "82ynpetztgg6",
    "nbgrader": {
     "cell_type": "markdown",
     "checksum": "fb0185041c46d2c30b287d5e821e8d9d",
     "grade": false,
     "grade_id": "cell-12000995593c8b51",
     "locked": true,
     "schema_version": 3,
     "solution": false,
     "task": false
    },
    "tags": []
   },
   "source": [
    "#### Data inspection\n",
    "First, let's visualize the missing data to get a better feel for what is happening.\n",
    "- Implement the `get_data_around_missing` function below to extract and return a dataframe that only contains rows around missing (`isna`, `isnull`) values for the column indicated by `column`.\n",
    "- First find missing values in the specified column\n",
    "- For each missing value, create a dataframe that contain only rows with a date +- `delta_days` from the date of the missing value.\n",
    "- Put the dataframes into `df_list` and return them."
   ]
  },
  {
   "cell_type": "code",
   "execution_count": 79,
   "metadata": {
    "deletable": false,
    "id": "Kfp3EMMHvXSy",
    "nbgrader": {
     "cell_type": "code",
     "checksum": "dac805d811931270bb0aced1ba910c36",
     "grade": false,
     "grade_id": "cell-5fefb72fda74f2cb",
     "locked": false,
     "schema_version": 3,
     "solution": true,
     "task": false
    },
    "tags": []
   },
   "outputs": [],
   "source": [
    "from ast import literal_eval\n",
    "\n",
    "def get_data_around_missing(df:pd.DataFrame, column:str, \n",
    "                            delta_days:int=2) -> typing.List[pd.DataFrame]:\n",
    "    \"\"\" \n",
    "    Build a list of dataframes containing missing values indicated by column. \n",
    "    Each dataframe contains rows around a missing (isna)\n",
    "    value in column, within a date of +- delta_days.\n",
    "\n",
    "    Parameters\n",
    "    --------\n",
    "    df: dataframe containing the missing values\n",
    "    column: the column to look for missing values\n",
    "    delta_days: the number of days +-around the date of the missing values to keep in the returned data frames\n",
    "    \n",
    "    Returns\n",
    "    --------\n",
    "    df_list: list of dataframes with some missing data\n",
    "    \"\"\"\n",
    "    df_list=[]\n",
    "    new_df=pd.DataFrame()\n",
    "    new_df=df[df[column].isna()]\n",
    "    for index, row in new_df.iterrows():\n",
    "        new=pd.DataFrame()\n",
    "        date=row['date']\n",
    "        dplus=date+pd.to_timedelta(delta_days, unit='d')\n",
    "        dminus=date-pd.to_timedelta(delta_days, unit='d')\n",
    "       \n",
    "        mask = (df['date'] >=dminus) & (df['date'] <= dplus)\n",
    "        \n",
    "        df_list.append(df.loc[mask])\n",
    "    \n",
    "    \n",
    "    return df_list\n"
   ]
  },
  {
   "cell_type": "code",
   "execution_count": 80,
   "metadata": {
    "deletable": false,
    "editable": false,
    "id": "1qn4V_L2wRYN",
    "nbgrader": {
     "cell_type": "code",
     "checksum": "457fc8756f67db6fb238f1f17fc74804",
     "grade": false,
     "grade_id": "cell-5f634a8ba115b51c",
     "locked": true,
     "schema_version": 3,
     "solution": false,
     "task": false
    },
    "tags": []
   },
   "outputs": [],
   "source": [
    "# DO NOT MODIFY OR COPY THIS CELL!! \n",
    "missing_temp_df_list = get_data_around_missing(weather_data, 'temp')\n",
    "missing_airPressure_df_list = get_data_around_missing(weather_data, 'airPressure')"
   ]
  },
  {
   "cell_type": "code",
   "execution_count": 81,
   "metadata": {
    "colab": {
     "base_uri": "https://localhost:8080/"
    },
    "deletable": false,
    "editable": false,
    "id": "k7-aveSJw6uK",
    "nbgrader": {
     "cell_type": "code",
     "checksum": "fe1526b01bb30d479861760342572425",
     "grade": true,
     "grade_id": "cell-7216949db55134b6",
     "locked": true,
     "points": 1,
     "schema_version": 3,
     "solution": false,
     "task": false
    },
    "outputId": "946252dd-366d-42f9-91d2-9a5fb2dd4a28",
    "tags": []
   },
   "outputs": [
    {
     "name": "stdout",
     "output_type": "stream",
     "text": [
      "231\n",
      "181\n"
     ]
    }
   ],
   "source": [
    "# tests, DO NOT MODIFY OR COPY THIS CELL!! \n",
    "print(len(missing_temp_df_list))\n",
    "print(len(missing_airPressure_df_list))\n",
    "\n",
    "assert 150 < len(missing_temp_df_list) < 250, \"There should be between 150 and 150 missing values in temp!\"\n",
    "assert 150 < len(missing_airPressure_df_list) < 250, \"There should be between 150 and 250 missing values in airPressure!\"\n",
    "\n",
    "assert all([isinstance(cur_el, pd.DataFrame) for cur_el in missing_temp_df_list])\n",
    "assert all([isinstance(cur_el, pd.DataFrame) for cur_el in missing_airPressure_df_list])"
   ]
  },
  {
   "cell_type": "code",
   "execution_count": 82,
   "metadata": {
    "deletable": false,
    "editable": false,
    "id": "ZsGVUYl9dGR0",
    "nbgrader": {
     "cell_type": "code",
     "checksum": "1350d9022d49387174b81929eb0de856",
     "grade": true,
     "grade_id": "cell-52bb9dab3bbe03d2",
     "locked": true,
     "points": 1,
     "schema_version": 3,
     "solution": false,
     "task": false
    },
    "tags": []
   },
   "outputs": [],
   "source": [
    "# hidden tests, DO NOT MODIFY OR COPY THIS CELL!! "
   ]
  },
  {
   "cell_type": "markdown",
   "metadata": {
    "deletable": false,
    "editable": false,
    "id": "T7Fim4rb2hcq",
    "nbgrader": {
     "cell_type": "markdown",
     "checksum": "315f831c0d2b734d714f3ff6360611e2",
     "grade": false,
     "grade_id": "cell-12930900fdfb2d43",
     "locked": true,
     "schema_version": 3,
     "solution": false,
     "task": false
    },
    "tags": []
   },
   "source": [
    "In order to be able to see the data, complete the function `plot_value_series` to plot a timeseries of a dataframe identified by `column`:\n"
   ]
  },
  {
   "cell_type": "code",
   "execution_count": 83,
   "metadata": {
    "deletable": false,
    "id": "Ixp8dBzE16Eq",
    "nbgrader": {
     "cell_type": "code",
     "checksum": "a2fa4e02af23e6ee7e3a002a1778e323",
     "grade": false,
     "grade_id": "cell-4e32e7a457a00b6d",
     "locked": false,
     "schema_version": 3,
     "solution": true,
     "task": false
    },
    "tags": []
   },
   "outputs": [],
   "source": [
    "def plot_value_series(df:pd.DataFrame, column:str) -> None:\n",
    " \n",
    "\n",
    "    df.plot.line('date',column)\n"
   ]
  },
  {
   "cell_type": "markdown",
   "metadata": {
    "deletable": false,
    "editable": false,
    "id": "idcSN6Ao3SwL",
    "nbgrader": {
     "cell_type": "markdown",
     "checksum": "a80b1c0a0839bd905466e0b3206fc52f",
     "grade": false,
     "grade_id": "cell-d033128e008ba2eb",
     "locked": true,
     "schema_version": 3,
     "solution": false,
     "task": false
    },
    "tags": []
   },
   "source": [
    "Now we use the function to plot a missing value for `temp` and `airPressure`:"
   ]
  },
  {
   "cell_type": "code",
   "execution_count": 84,
   "metadata": {
    "colab": {
     "base_uri": "https://localhost:8080/",
     "height": 433
    },
    "deletable": false,
    "editable": false,
    "id": "AfszM1iSwd92",
    "nbgrader": {
     "cell_type": "code",
     "checksum": "9f12bf25253315dbedcedeb04781df01",
     "grade": false,
     "grade_id": "cell-8e62db86afb7c106",
     "locked": true,
     "schema_version": 3,
     "solution": false,
     "task": false
    },
    "outputId": "8931e5b1-3539-4662-e0f1-7dcaca842b63",
    "tags": []
   },
   "outputs": [
    {
     "data": {
      "image/png": "[encoded data removed]",
      "text/plain": [
       "<Figure size 640x480 with 1 Axes>"
      ]
     },
     "metadata": {},
     "output_type": "display_data"
    },
    {
     "data": {
      "image/png": "[encoded data removed]",
      "text/plain": [
       "<Figure size 640x480 with 1 Axes>"
      ]
     },
     "metadata": {},
     "output_type": "display_data"
    }
   ],
   "source": [
    "# tests,  DO NOT MODIFY OR COPY THIS CELL!! \n",
    "plot_value_series(missing_temp_df_list[0], 'temp')\n",
    "plot_value_series(missing_airPressure_df_list[0], 'airPressure')"
   ]
  },
  {
   "cell_type": "code",
   "execution_count": 85,
   "metadata": {
    "colab": {
     "base_uri": "https://localhost:8080/",
     "height": 433
    },
    "deletable": false,
    "editable": false,
    "id": "TAOf70dGw6kv",
    "nbgrader": {
     "cell_type": "code",
     "checksum": "e5949c82ef630c01d88e2fa38a54f390",
     "grade": true,
     "grade_id": "cell-8afe8042639c2549",
     "locked": true,
     "points": 1,
     "schema_version": 3,
     "solution": false,
     "task": false
    },
    "outputId": "eab7b0ac-35a6-4ffb-9dc0-3db9c2d52cec",
    "tags": []
   },
   "outputs": [],
   "source": [
    "# hidden tests, DO NOT MODIFY OR COPY THIS CELL!! "
   ]
  },
  {
   "cell_type": "markdown",
   "metadata": {
    "deletable": false,
    "editable": false,
    "id": "TE7XATXI4DPx",
    "nbgrader": {
     "cell_type": "markdown",
     "checksum": "d5d591fa31bc23f6ed86dd2abe3b895d",
     "grade": false,
     "grade_id": "cell-dbc572378af62630",
     "locked": true,
     "schema_version": 3,
     "solution": false,
     "task": false
    },
    "tags": []
   },
   "source": [
    "#### Handle missing temperature values\n",
    "Use the plots above and the information that was given to us by the meterologist to decide on a suitable strategy to fix the missing values.\n",
    "\n",
    "- Implement the function below to get rid of the missing values for temperature (`temp`).\n",
    "- Choose an appropriate strategy to fill in the misssing values."
   ]
  },
  {
   "cell_type": "code",
   "execution_count": 86,
   "metadata": {
    "deletable": false,
    "id": "bt2TRYhx39pP",
    "nbgrader": {
     "cell_type": "code",
     "checksum": "ea0a737cee0572122fee40f6331b14e1",
     "grade": false,
     "grade_id": "cell-61401abddea4b7a0",
     "locked": false,
     "schema_version": 3,
     "solution": true,
     "task": false
    },
    "tags": []
   },
   "outputs": [],
   "source": [
    "def handle_missing_temp_values(df:pd.DataFrame) -> pd.DataFrame:\n",
    "    \"\"\" \n",
    "    Handle missing temperature values appropriately!\n",
    "\n",
    "    Parameters\n",
    "    --------\n",
    "    df: dataframe containing the missing values\n",
    "    \n",
    "    Returns\n",
    "    --------\n",
    "    df_ret: dataframe with fixed values\n",
    "    \"\"\"\n",
    "    df_ret = df.copy()\n",
    "    df_ret.fillna(df.mean(numeric_only=True).round(1), inplace=True)\n",
    " \n",
    "\n",
    "    return df_ret"
   ]
  },
  {
   "cell_type": "markdown",
   "metadata": {
    "deletable": false,
    "editable": false,
    "id": "WnAENjaWrMJS",
    "nbgrader": {
     "cell_type": "markdown",
     "checksum": "72d6c9e5c223d3ca987fae352250b04a",
     "grade": false,
     "grade_id": "cell-ce0654819c0f89a5",
     "locked": true,
     "schema_version": 3,
     "solution": false,
     "task": false
    },
    "tags": []
   },
   "source": [
    "Plot the fixed stretch of temp values from above, and compare to the unmodified version:"
   ]
  },
  {
   "cell_type": "code",
   "execution_count": 87,
   "metadata": {
    "id": "iPXJ-60Es1rJ"
   },
   "outputs": [],
   "source": [
    "missing_temp_idx = 0"
   ]
  },
  {
   "cell_type": "code",
   "execution_count": 88,
   "metadata": {
    "colab": {
     "base_uri": "https://localhost:8080/",
     "height": 433
    },
    "deletable": false,
    "editable": false,
    "id": "DvaxF9HprGDn",
    "nbgrader": {
     "cell_type": "code",
     "checksum": "ab019b7ae8b408f14a0228b2832beb6c",
     "grade": false,
     "grade_id": "cell-b1ee5ba109485ab6",
     "locked": true,
     "schema_version": 3,
     "solution": false,
     "task": false
    },
    "outputId": "ca9ae8e9-dbe9-4227-c205-f682a255646d",
    "tags": []
   },
   "outputs": [
    {
     "data": {
      "image/png": "[encoded data removed]",
      "text/plain": [
       "<Figure size 640x480 with 1 Axes>"
      ]
     },
     "metadata": {},
     "output_type": "display_data"
    },
    {
     "data": {
      "image/png": "[encoded data removed]",
      "text/plain": [
       "<Figure size 640x480 with 1 Axes>"
      ]
     },
     "metadata": {},
     "output_type": "display_data"
    }
   ],
   "source": [
    "# DO NOT MODIFY OR COPY THIS CELL!! \n",
    "plot_value_series(missing_temp_df_list[missing_temp_idx], 'temp')\n",
    "plot_value_series(handle_missing_temp_values(missing_temp_df_list[missing_temp_idx]), 'temp')"
   ]
  },
  {
   "cell_type": "markdown",
   "metadata": {
    "deletable": false,
    "editable": false,
    "id": "vtngIM0LtH2K",
    "nbgrader": {
     "cell_type": "markdown",
     "checksum": "5fbe30b2adbd9d72d0b621374c6dd2f8",
     "grade": false,
     "grade_id": "cell-5ead27560ac73c21",
     "locked": true,
     "schema_version": 3,
     "solution": false,
     "task": false
    },
    "tags": []
   },
   "source": [
    "#### Handle missing air pressure values\n",
    "\n",
    "Do the same for the air pressure values:\n",
    "\n",
    "- Implement the function below to get rid of the missing values for air pressure (`airPressure`).\n",
    "- Choose an appropriate strategy to fill in the misssing values."
   ]
  },
  {
   "cell_type": "code",
   "execution_count": 89,
   "metadata": {
    "deletable": false,
    "id": "EccqDJHM5PDu",
    "nbgrader": {
     "cell_type": "code",
     "checksum": "f2d9f4fa8e3bc564bf6699e95bb51973",
     "grade": false,
     "grade_id": "cell-00257539969e677d",
     "locked": false,
     "schema_version": 3,
     "solution": true,
     "task": false
    },
    "tags": []
   },
   "outputs": [],
   "source": [
    "def handle_missing_airPressure_values(df:pd.DataFrame) -> pd.DataFrame:\n",
    "    \"\"\" \n",
    "    Handle missing air pressure values appropriately!\n",
    "\n",
    "    Parameters\n",
    "    --------\n",
    "    df: dataframe containing the missing values\n",
    "    \n",
    "    Returns\n",
    "    --------\n",
    "    df_ret: dataframe with fixed values\n",
    "    \"\"\"\n",
    "    df_ret = df.copy()\n",
    "    \n",
    "\n",
    "    df_ret.fillna(df.mean(numeric_only=True).round(1), inplace=True)\n",
    "    \n",
    "\n",
    "    return df_ret\n"
   ]
  },
  {
   "cell_type": "markdown",
   "metadata": {
    "deletable": false,
    "editable": false,
    "id": "NCQV5u0arP4y",
    "nbgrader": {
     "cell_type": "markdown",
     "checksum": "f2384a86d477e7ed0b960f6cc3901d1d",
     "grade": false,
     "grade_id": "cell-42170186b903fa8c",
     "locked": true,
     "schema_version": 3,
     "solution": false,
     "task": false
    },
    "tags": []
   },
   "source": [
    "Plot the fixed stretch of airPressure values from above:"
   ]
  },
  {
   "cell_type": "code",
   "execution_count": 90,
   "metadata": {
    "id": "3nA5TMdktTNL"
   },
   "outputs": [],
   "source": [
    "missing_apr_idx = 0"
   ]
  },
  {
   "cell_type": "code",
   "execution_count": 91,
   "metadata": {
    "colab": {
     "base_uri": "https://localhost:8080/",
     "height": 433
    },
    "deletable": false,
    "editable": false,
    "id": "qiYtkFj2rKkN",
    "nbgrader": {
     "cell_type": "code",
     "checksum": "25fc17223183a7dbe1df7d47a707ce02",
     "grade": false,
     "grade_id": "cell-758ade40091745fa",
     "locked": true,
     "schema_version": 3,
     "solution": false,
     "task": false
    },
    "outputId": "487f8248-5f18-45ac-8ff2-aefed24d1a3e",
    "tags": []
   },
   "outputs": [
    {
     "data": {
      "image/png": "[encoded data removed]",
      "text/plain": [
       "<Figure size 640x480 with 1 Axes>"
      ]
     },
     "metadata": {},
     "output_type": "display_data"
    },
    {
     "data": {
      "image/png": "[encoded data removed]",
      "text/plain": [
       "<Figure size 640x480 with 1 Axes>"
      ]
     },
     "metadata": {},
     "output_type": "display_data"
    }
   ],
   "source": [
    "# DO NOT MODIFY OR COPY THIS CELL!! \n",
    "plot_value_series(missing_airPressure_df_list[missing_apr_idx], 'airPressure')\n",
    "plot_value_series(handle_missing_airPressure_values(missing_airPressure_df_list[missing_apr_idx]), 'airPressure')"
   ]
  },
  {
   "cell_type": "code",
   "execution_count": 92,
   "metadata": {
    "deletable": false,
    "editable": false,
    "id": "R_D1L9P66Cn1",
    "nbgrader": {
     "cell_type": "code",
     "checksum": "e08e5a42483f0880afce152d85e0c7a8",
     "grade": true,
     "grade_id": "cell-2cf3f24221001ad2",
     "locked": true,
     "points": 2,
     "schema_version": 3,
     "solution": false,
     "task": false
    },
    "tags": []
   },
   "outputs": [],
   "source": [
    "# tests, DO NOT MODIFY OR COPY THIS CELL!!\n",
    "# the function to get the short dataframes around missing values should now return an empty list if we fix all temp values!\n",
    "empty_temp_list = get_data_around_missing(handle_missing_temp_values(weather_data), 'temp')\n",
    "empty_airPressure_list = get_data_around_missing(handle_missing_airPressure_values(weather_data), 'airPressure')\n",
    "assert len(empty_temp_list) == 0\n",
    "assert len(empty_airPressure_list) == 0"
   ]
  },
  {
   "cell_type": "code",
   "execution_count": 93,
   "metadata": {
    "colab": {
     "base_uri": "https://localhost:8080/"
    },
    "deletable": false,
    "editable": false,
    "id": "aaTlWw60gtyY",
    "nbgrader": {
     "cell_type": "code",
     "checksum": "dc8876e3fceefe1a83d3cbc226a8722d",
     "grade": true,
     "grade_id": "cell-f8f38e4afd62d60c",
     "locked": true,
     "points": 2,
     "schema_version": 3,
     "solution": false,
     "task": false
    },
    "outputId": "2afa1df6-d5da-40da-b46c-93fb25cbe536",
    "tags": []
   },
   "outputs": [],
   "source": [
    "# hidden tests, DO NOT MODIFY OR COPY THIS CELL!!"
   ]
  },
  {
   "cell_type": "markdown",
   "metadata": {
    "deletable": false,
    "editable": false,
    "id": "k9v42eAg4TEa",
    "nbgrader": {
     "cell_type": "markdown",
     "checksum": "d4c1f236bbee76f10111bbbf806bf2bc",
     "grade": false,
     "grade_id": "cell-63e80b4befb91215",
     "locked": true,
     "schema_version": 3,
     "solution": false,
     "task": false
    },
    "tags": []
   },
   "source": [
    "#### Discussion\n",
    "Write down what strategy you chose for temperature and airPressure and motivate why you decided for the strategies:"
   ]
  },
  {
   "cell_type": "markdown",
   "metadata": {
    "deletable": false,
    "id": "x1v4ML5p4hCD",
    "nbgrader": {
     "cell_type": "markdown",
     "checksum": "c7923b7cd518db26ff678c48f43d0037",
     "grade": true,
     "grade_id": "cell-d8594518afef19e6",
     "locked": false,
     "points": 2,
     "schema_version": 3,
     "solution": true,
     "task": false
    },
    "tags": []
   },
   "source": [
    "I have chosen to fill in mean value for the missing data"
   ]
  },
  {
   "cell_type": "markdown",
   "metadata": {
    "deletable": false,
    "editable": false,
    "id": "ny5dyD7r6Xma",
    "nbgrader": {
     "cell_type": "markdown",
     "checksum": "2d9e2f3cb225529b67060466a0da8d94",
     "grade": false,
     "grade_id": "cell-a51cbd28ea3be623",
     "locked": true,
     "schema_version": 3,
     "solution": false,
     "task": false
    },
    "tags": []
   },
   "source": [
    "### 2.2 Missing wind direction values"
   ]
  },
  {
   "cell_type": "markdown",
   "metadata": {
    "deletable": false,
    "editable": false,
    "id": "hxGRYrYwuZgO",
    "nbgrader": {
     "cell_type": "markdown",
     "checksum": "455a706e0bfbc0284ee44d90618b9330",
     "grade": false,
     "grade_id": "cell-06f5896452f12539",
     "locked": true,
     "schema_version": 3,
     "solution": false,
     "task": false
    },
    "tags": []
   },
   "source": [
    "#### Data inspection\n",
    "Check the assumption for missing wind direction values and handle the missing wind direction values in an appropriate way."
   ]
  },
  {
   "cell_type": "code",
   "execution_count": 94,
   "metadata": {
    "colab": {
     "base_uri": "https://localhost:8080/"
    },
    "deletable": false,
    "id": "zesuPfOH6zIg",
    "nbgrader": {
     "cell_type": "code",
     "checksum": "41848449b56855b496952bede20f9fb7",
     "grade": false,
     "grade_id": "cell-c933b4f1e3715277",
     "locked": false,
     "schema_version": 3,
     "solution": true,
     "task": false
    },
    "outputId": "a97a280d-1dba-4eb6-ea93-f22c96f42ec1",
    "tags": []
   },
   "outputs": [
    {
     "name": "stdout",
     "output_type": "stream",
     "text": [
      "            date  airPressure  windBeauf  skyCover  temp windDir  hum  year  \\\n",
      "27    2009-01-10        988.5          0         7  12.2     NaN   95  2009   \n",
      "93    2009-02-01        999.6          0        10  -3.0     NaN   67  2009   \n",
      "219   2009-03-15        993.7          0        10   5.5     NaN   84  2009   \n",
      "255   2009-03-27        981.9          0         8   4.5     NaN   82  2009   \n",
      "306   2009-04-13        985.2          0         0  10.4     NaN   78  2009   \n",
      "...          ...          ...        ...       ...   ...     ...  ...   ...   \n",
      "14022 2021-10-19       1001.8          0         7   4.7     NaN   97  2021   \n",
      "14048 2021-10-27       1002.2          0         0   8.5     NaN   84  2021   \n",
      "14130 2021-11-24       1001.4          0         7  -0.6     NaN   93  2021   \n",
      "14169 2021-12-07        990.8          0         1  20.2     NaN   71  2021   \n",
      "14175 2021-12-09        993.4          0         4  17.1     NaN   84  2021   \n",
      "\n",
      "       month  \n",
      "27         1  \n",
      "93         2  \n",
      "219        3  \n",
      "255        3  \n",
      "306        4  \n",
      "...      ...  \n",
      "14022     10  \n",
      "14048     10  \n",
      "14130     11  \n",
      "14169     12  \n",
      "14175     12  \n",
      "\n",
      "[184 rows x 9 columns]\n",
      "184\n"
     ]
    }
   ],
   "source": [
    "# write some code to check the assumtion for missing values of windDir\n",
    "\n",
    "# YOUR CODE HERE\n",
    "# raise NotImplementedError()\n",
    "\n",
    "print(weather_data.loc[weather_data['windBeauf'] == 0])\n",
    "# print(weather_data[\"windBeauf\"].isin([0]).sum(axis=1))\n",
    "print(weather_data['windDir'].isnull().sum())\n",
    "\n",
    "\n",
    "    "
   ]
  },
  {
   "cell_type": "markdown",
   "metadata": {
    "deletable": false,
    "editable": false,
    "id": "Lm_4bVzC65BV",
    "nbgrader": {
     "cell_type": "markdown",
     "checksum": "ced741a29e4926a7260ab4add057ad57",
     "grade": false,
     "grade_id": "cell-c7339161d0701952",
     "locked": true,
     "schema_version": 3,
     "solution": false,
     "task": false
    },
    "tags": []
   },
   "source": [
    "Explain what you did and what your findings are. Also propose a strategy to fix the missing values appropriately:"
   ]
  },
  {
   "cell_type": "markdown",
   "metadata": {
    "deletable": false,
    "id": "l6IkKORZ69AV",
    "nbgrader": {
     "cell_type": "markdown",
     "checksum": "40f1d9185a3b7748b38ff91346ccd3c9",
     "grade": true,
     "grade_id": "cell-bc1eec9561caa3f9",
     "locked": false,
     "points": 2,
     "schema_version": 3,
     "solution": true,
     "task": false
    },
    "tags": []
   },
   "source": [
    "its evident that the values of Wind direction is NAN when the wind intensity is 0 . as the count match"
   ]
  },
  {
   "cell_type": "markdown",
   "metadata": {
    "deletable": false,
    "editable": false,
    "id": "bULyq8IXmQEr",
    "nbgrader": {
     "cell_type": "markdown",
     "checksum": "ecd0121f5259bc12599c07e86ff8b997",
     "grade": false,
     "grade_id": "cell-6d3922c4bfb994a9",
     "locked": true,
     "schema_version": 3,
     "solution": false,
     "task": false
    },
    "tags": []
   },
   "source": [
    "#### Handle missing wind direction values\n",
    "Implement a function that fixes the missing wind direction values."
   ]
  },
  {
   "cell_type": "code",
   "execution_count": 95,
   "metadata": {
    "deletable": false,
    "id": "mO5ejRGV6lW6",
    "nbgrader": {
     "cell_type": "code",
     "checksum": "69a217174a1159f2b8268d591e66398a",
     "grade": false,
     "grade_id": "cell-c33d51f182502006",
     "locked": false,
     "schema_version": 3,
     "solution": true,
     "task": false
    },
    "tags": []
   },
   "outputs": [],
   "source": [
    "def handle_missing_windDir_values(df:pd.DataFrame) -> pd.DataFrame:\n",
    "    df_ret = df.copy()\n",
    "    r=df_ret.loc[df_ret.groupby(['windDir']).size().max()]\n",
    "   \n",
    "    wind=r['windDir']\n",
    "   \n",
    "    df_ret['windDir'].fillna(wind, inplace=True)\n",
    "    return df_ret\n"
   ]
  },
  {
   "cell_type": "code",
   "execution_count": 96,
   "metadata": {
    "deletable": false,
    "editable": false,
    "id": "cJAVM8eN7VED",
    "nbgrader": {
     "cell_type": "code",
     "checksum": "1aa3dd60ebdf3002607e784bcecca705",
     "grade": true,
     "grade_id": "cell-ce2bff11f39581ce",
     "locked": true,
     "points": 1,
     "schema_version": 3,
     "solution": false,
     "task": false
    },
    "tags": []
   },
   "outputs": [],
   "source": [
    "# tests, DO NOT MODIFY OR COPY THIS CELL!!\n",
    "# Apply the windDir fix and check if any missing values remain\n",
    "fix_wind_dir = handle_missing_windDir_values(weather_data)\n",
    "assert fix_wind_dir[fix_wind_dir['windDir'].isnull()].empty"
   ]
  },
  {
   "cell_type": "code",
   "execution_count": 97,
   "metadata": {
    "colab": {
     "base_uri": "https://localhost:8080/"
    },
    "deletable": false,
    "editable": false,
    "id": "Gnm2XGzU75YI",
    "nbgrader": {
     "cell_type": "code",
     "checksum": "3f20037dd90f3c1f920cd7b413835cd3",
     "grade": true,
     "grade_id": "cell-a7acfa49bbade2bb",
     "locked": true,
     "points": 1,
     "schema_version": 3,
     "solution": false,
     "task": false
    },
    "outputId": "99ab78a1-2f7b-489b-b5b5-9886e5f24577",
    "tags": []
   },
   "outputs": [],
   "source": [
    "# hidden tests, DO NOT MODIFY OR COPY THIS CELL!!"
   ]
  },
  {
   "cell_type": "markdown",
   "metadata": {
    "deletable": false,
    "editable": false,
    "id": "ZNR9aDpnv5Hh",
    "nbgrader": {
     "cell_type": "markdown",
     "checksum": "9ad883ec35d98e7ab76f4ac990ef6f88",
     "grade": false,
     "grade_id": "cell-abb04829152394aa",
     "locked": true,
     "schema_version": 3,
     "solution": false,
     "task": false
    },
    "tags": []
   },
   "source": [
    "### 2.3 Combine all fixes to get clean data"
   ]
  },
  {
   "cell_type": "code",
   "execution_count": 98,
   "metadata": {
    "deletable": false,
    "id": "sDQ7RvMpuJgc",
    "nbgrader": {
     "cell_type": "code",
     "checksum": "4fd4c2c8a9a1d676835d7985928af647",
     "grade": false,
     "grade_id": "cell-5d75102f5d1c5d81",
     "locked": false,
     "schema_version": 3,
     "solution": true,
     "task": false
    },
    "tags": []
   },
   "outputs": [],
   "source": [
    "def handle_missing_values_weather(data:pd.DataFrame) -> pd.DataFrame:\n",
    "    \"\"\" \n",
    "    Parameters\n",
    "    --------\n",
    "    data: data frame containing missing values \n",
    "    \n",
    "    Returns\n",
    "    --------\n",
    "    data: data frame not containing any missing values\n",
    "    \"\"\"\n",
    "    df1=pd.DataFrame()\n",
    "    df2=pd.DataFrame()\n",
    "    df3=pd.DataFrame()\n",
    "    df1=handle_missing_windDir_values(data)\n",
    "    df2=handle_missing_airPressure_values(data)\n",
    "    df3=handle_missing_temp_values(data)\n",
    "    \n",
    "    # print(df1.isna().sum())\n",
    "   \n",
    "    \n",
    "    data = df1\n",
    "    data['temp']=df3['temp']\n",
    "    data['airPressure']=df2['airPressure']\n",
    "    data\n",
    "    return data\n"
   ]
  },
  {
   "cell_type": "code",
   "execution_count": 99,
   "metadata": {
    "deletable": false,
    "editable": false,
    "id": "xMTGc5yp_d5C",
    "nbgrader": {
     "cell_type": "code",
     "checksum": "7e4e9f28d4e2721052ac8e7f1a3dfb88",
     "grade": false,
     "grade_id": "cell-62d215809c95ce8f",
     "locked": true,
     "schema_version": 3,
     "solution": false,
     "task": false
    },
    "tags": []
   },
   "outputs": [],
   "source": [
    "# DO NOT MODIFY OR COPY THIS CELL!!\n",
    "weather_data_complete = handle_missing_values_weather(weather_data)"
   ]
  },
  {
   "cell_type": "code",
   "execution_count": 100,
   "metadata": {
    "colab": {
     "base_uri": "https://localhost:8080/"
    },
    "id": "S-xlZiZSuJgc",
    "outputId": "17105504-d0e8-4d1c-ecb3-8c6d1ee1e12f",
    "tags": []
   },
   "outputs": [
    {
     "name": "stdout",
     "output_type": "stream",
     "text": [
      "Before: \n",
      "---------\n",
      "date             0\n",
      "airPressure    181\n",
      "windBeauf        0\n",
      "skyCover         0\n",
      "temp           231\n",
      "windDir        184\n",
      "hum              0\n",
      "year             0\n",
      "month            0\n",
      "dtype: int64\n",
      "\n",
      "After: \n",
      "---------\n",
      "date           0\n",
      "airPressure    0\n",
      "windBeauf      0\n",
      "skyCover       0\n",
      "temp           0\n",
      "windDir        0\n",
      "hum            0\n",
      "year           0\n",
      "month          0\n",
      "dtype: int64\n"
     ]
    }
   ],
   "source": [
    "print(f\"Before: \\n---------\\n{weather_data.isna().sum()}\")\n",
    "print(f\"\\nAfter: \\n---------\\n{weather_data_complete.isna().sum()}\")"
   ]
  },
  {
   "cell_type": "code",
   "execution_count": 101,
   "metadata": {
    "deletable": false,
    "editable": false,
    "id": "Z_kh77J_uJgc",
    "nbgrader": {
     "cell_type": "code",
     "checksum": "957027f6ac203b3eb1a9c49236ebece7",
     "grade": true,
     "grade_id": "cell-5c715e67d037b3a2",
     "locked": true,
     "points": 2,
     "schema_version": 3,
     "solution": false,
     "task": false
    },
    "tags": []
   },
   "outputs": [],
   "source": [
    "# tests, DO NOT MODIFY OR COPY THIS CELL!!\n",
    "# check if missing values are no longer present\n",
    "assert not weather_data_complete.isna().any().any()\n",
    "assert weather_data_complete.shape[0] == weather_data.shape[0]\n",
    "assert weather_data_complete.shape[1] == weather_data.shape[1]"
   ]
  },
  {
   "cell_type": "markdown",
   "metadata": {
    "deletable": false,
    "editable": false,
    "id": "wAxHGzluuJge",
    "nbgrader": {
     "cell_type": "markdown",
     "checksum": "775875e9307b85a0648124051a2d7649",
     "grade": false,
     "grade_id": "cell-95ba70db2931e676",
     "locked": true,
     "schema_version": 3,
     "solution": false,
     "task": false
    },
    "tags": []
   },
   "source": [
    "## Task 3: Handling Outliers (10 Points)\n",
    "\n",
    "Additionally to the missing values, the dataset also seems to have some strange values, that are probably outliers. \n",
    "When confronted with the data, the meterologist gave you a bit more information:\n",
    "\n",
    "\n",
    "1. Sometimes the temperture readings seem to be off, without any good reason.\n",
    "\n",
    "2. In the timespan from early October 2015 until mid March 2016, the wind sensor was defective: it might have displayed wrong values for winds from SE direction.\n",
    "\n",
    "3. In the `daily_weather_data`, the precipitation column contains some non-numeric values.\n",
    "\n",
    "4. The precipitation sensor usually produces wrong values when hail is involved.\n",
    "\n",
    "\n",
    "\n",
    "\n"
   ]
  },
  {
   "cell_type": "markdown",
   "metadata": {
    "deletable": false,
    "editable": false,
    "id": "BexkhzjsQvR8",
    "nbgrader": {
     "cell_type": "markdown",
     "checksum": "7850b6b2c088b0ca6657ffad1e9abfaf",
     "grade": false,
     "grade_id": "cell-9d76f6b444ed107c",
     "locked": true,
     "schema_version": 3,
     "solution": false,
     "task": false
    },
    "tags": []
   },
   "source": [
    "### 3.1 Temperature outliers\n",
    "First we want ot take a closer look at the temperature values. Check if we can identify some obvious outliers and come up with a strategy to handle/fix them.\n",
    "\n",
    "In order to do so you will have to:\n",
    "- Plot the temperature curve over time and a histogram of temperature values to identify possible outliers\n",
    "- Plot a zoomed in version of individual outliers to get a better understanding what's happening\n",
    "- Devise a strategy to get rid of outliers"
   ]
  },
  {
   "cell_type": "markdown",
   "metadata": {
    "deletable": false,
    "editable": false,
    "id": "MYpW_ceXCrD_",
    "nbgrader": {
     "cell_type": "markdown",
     "checksum": "835e415b3c65e1ec328f6bcd39db0919",
     "grade": false,
     "grade_id": "cell-e27f7970f94300a8",
     "locked": true,
     "schema_version": 3,
     "solution": false,
     "task": false
    },
    "tags": []
   },
   "source": [
    "#### Investigation\n",
    "Implement the function below to create a plot of the temperature values (`temp`) over time. Additionally create a histogram with reasonable bins to identify the outliers:"
   ]
  },
  {
   "cell_type": "code",
   "execution_count": 105,
   "metadata": {
    "deletable": false,
    "id": "dCIF6qFeuJge",
    "nbgrader": {
     "cell_type": "code",
     "checksum": "16b9965a0dd8059f6003f7cfcd87762a",
     "grade": false,
     "grade_id": "cell-1c4dc7b33eff42b2",
     "locked": false,
     "schema_version": 3,
     "solution": true,
     "task": false
    },
    "tags": []
   },
   "outputs": [],
   "source": [
    "def plot_temp_analysis(df: pd.DataFrame) -> None:\n",
    "    \"\"\"\n",
    "    Create two plots:\n",
    "    1) Temperature values over time for the whole dataframe\n",
    "    2) A histogram for temperature values. \n",
    "       Choose appropriate bins enabling you to identify outliers!\n",
    "\n",
    "    Parameters\n",
    "    --------\n",
    "    df: data frame containint the temperature values (temp) with potential outlier\n",
    "    \n",
    "    \"\"\"\n",
    "#     plt.subplot(121)\n",
    "#     # df.plot.line('date','temp')\n",
    "#     plt.plot( 'date', 'temp', data=df, marker='o', alpha=0.4)\n",
    "\n",
    "#     plt.subplot(122)\n",
    "#     plt.hist(df['temp'], edgecolor=\"red\", bins=100)\n",
    "#     plt.show()\n",
    "    sorted_by_date = df.sort_values(by=\"date\")\n",
    "    fig, axs = plt.subplots(3)\n",
    "    \n",
    "    axs[0].plot(\"date\", \"temp\", data=sorted_by_date)\n",
    "    # Plot 3*std deviation\n",
    "    axs[0].axhline(df[\"temp\"].mean() + df[\"temp\"].std() * 3, color=\"r\")\n",
    "    axs[0].axhline(df[\"temp\"].mean() - df[\"temp\"].std() * 3, color=\"r\")\n",
    "    # Show change over time. Large positive changes are outliers\n",
    "    axs[1].plot(sorted_by_date[\"date\"], sorted_by_date[\"temp\"].diff())\n",
    "    axs[1].axhline(sorted_by_date[\"temp\"].diff().mean() + sorted_by_date[\"temp\"].diff().std() * 3, color=\"r\")\n",
    "    \n",
    "    axs[2].hist(df[\"temp\"], bins=round((df[\"temp\"].max() - df[\"temp\"].min()) / 0.5))\n",
    "    # YOUR CODE HERE\n"
   ]
  },
  {
   "cell_type": "code",
   "execution_count": 106,
   "metadata": {
    "colab": {
     "base_uri": "https://localhost:8080/",
     "height": 419
    },
    "deletable": false,
    "editable": false,
    "id": "Gq4TPDi_WRIT",
    "nbgrader": {
     "cell_type": "code",
     "checksum": "b3bab2e51e11f7add00f55a7d869db31",
     "grade": false,
     "grade_id": "cell-1aec9f728860adc3",
     "locked": true,
     "schema_version": 3,
     "solution": false,
     "task": false
    },
    "outputId": "1ccb303b-4d94-475c-a0b7-5d1ededac111",
    "tags": []
   },
   "outputs": [
    {
     "data": {
      "image/png": "[encoded data removed]",
      "text/plain": [
       "<Figure size 640x480 with 3 Axes>"
      ]
     },
     "metadata": {},
     "output_type": "display_data"
    }
   ],
   "source": [
    "# DO NOT MODIFY OR COPY THIS CELL!!\n",
    "plot_temp_analysis(weather_data_complete)"
   ]
  },
  {
   "cell_type": "code",
   "execution_count": 107,
   "metadata": {
    "colab": {
     "base_uri": "https://localhost:8080/",
     "height": 436
    },
    "deletable": false,
    "editable": false,
    "id": "2AnCVNlHuJge",
    "nbgrader": {
     "cell_type": "code",
     "checksum": "8f86b682ee2c74ee86d893db5c531c6f",
     "grade": true,
     "grade_id": "cell-df82f689aa8b7a00",
     "locked": true,
     "points": 1,
     "schema_version": 3,
     "solution": false,
     "task": false
    },
    "outputId": "4900bbcf-b6f9-4ef0-ed52-05999d4c3de8",
    "tags": []
   },
   "outputs": [],
   "source": [
    "# hidden test, DO NOT MODIFY OR COPY THIS CELL!!"
   ]
  },
  {
   "cell_type": "markdown",
   "metadata": {
    "deletable": false,
    "editable": false,
    "id": "TePz2DQsSG4a",
    "nbgrader": {
     "cell_type": "markdown",
     "checksum": "5036dd4d33e5174aea54f286acce177e",
     "grade": false,
     "grade_id": "cell-7a329a092512ed2f",
     "locked": true,
     "schema_version": 3,
     "solution": false,
     "task": false
    },
    "tags": []
   },
   "source": [
    "In the next cell, select a random outlier (e.g. the first) and plot the temperature curve around the outlier."
   ]
  },
  {
   "cell_type": "code",
   "execution_count": 110,
   "metadata": {
    "colab": {
     "base_uri": "https://localhost:8080/",
     "height": 446
    },
    "deletable": false,
    "id": "tDrvoaZAuJgf",
    "nbgrader": {
     "cell_type": "code",
     "checksum": "2092de03083f8cbecedd8b7d5fca314c",
     "grade": false,
     "grade_id": "cell-17539c832c250be2",
     "locked": false,
     "schema_version": 3,
     "solution": true,
     "task": false
    },
    "outputId": "e3911478-f166-4f11-9157-1a79498b7ca1",
    "tags": []
   },
   "outputs": [
    {
     "data": {
      "image/png": "[encoded data removed]",
      "text/plain": [
       "<Figure size 640x480 with 1 Axes>"
      ]
     },
     "metadata": {},
     "output_type": "display_data"
    }
   ],
   "source": [
    "outlier_diff_threshold = 40\n",
    "diff = weather_data[\"temp\"].diff()\n",
    "outliers = np.where(diff > outlier_diff_threshold)\n",
    "limit_plots = 1\n",
    "\n",
    "for plot_no, outlier_index in zip(range(limit_plots), outliers[0]):\n",
    "    values_each_side = 10\n",
    "    outlier_frame = weather_data.iloc[(max(0, outlier_index - values_each_side)):(min(len(weather_data[\"temp\"]), outlier_index + values_each_side))]\n",
    "    plt.plot(\"date\", \"temp\", data=outlier_frame)\n",
    "    plt.axhline(weather_data[\"temp\"].mean() + weather_data[\"temp\"].std() * 3, color=\"b\")"
   ]
  },
  {
   "cell_type": "code",
   "execution_count": null,
   "metadata": {
    "colab": {
     "base_uri": "https://localhost:8080/",
     "height": 242
    },
    "deletable": false,
    "editable": false,
    "id": "7Yl86jZ9UltA",
    "nbgrader": {
     "cell_type": "code",
     "checksum": "82c15a435eebfe1d6b9e19666e7ea912",
     "grade": true,
     "grade_id": "cell-8e4efdee79059360",
     "locked": true,
     "points": 0,
     "schema_version": 3,
     "solution": false,
     "task": false
    },
    "outputId": "96c1dcbb-bbf2-4ad6-ba35-be1b1a2297a4",
    "tags": []
   },
   "outputs": [],
   "source": [
    "# hidden test, DO NOT MODIFY OR COPY THIS CELL!!"
   ]
  },
  {
   "cell_type": "markdown",
   "metadata": {
    "deletable": false,
    "editable": false,
    "id": "YeTnH7iLVMhg",
    "nbgrader": {
     "cell_type": "markdown",
     "checksum": "c4328c2034f9f7437d0a5f4aac9c9476",
     "grade": false,
     "grade_id": "cell-a9fc91b89d945650",
     "locked": true,
     "schema_version": 3,
     "solution": false,
     "task": false
    },
    "tags": []
   },
   "source": [
    "Express your findings and define a strategy to get rid of the outliers:"
   ]
  },
  {
   "cell_type": "markdown",
   "metadata": {
    "deletable": false,
    "id": "F6plb9nAVRFy",
    "nbgrader": {
     "cell_type": "markdown",
     "checksum": "7c4c106dd5661675b919f362741f0336",
     "grade": true,
     "grade_id": "cell-5f0a96ba6b55b19d",
     "locked": false,
     "points": 1,
     "schema_version": 3,
     "solution": true,
     "task": false
    },
    "tags": []
   },
   "source": [
    "The plot shows the outlier"
   ]
  },
  {
   "cell_type": "markdown",
   "metadata": {
    "deletable": false,
    "editable": false,
    "id": "_ToKPeEMV9nm",
    "nbgrader": {
     "cell_type": "markdown",
     "checksum": "41f31defd29cf5a99eb52d9f9552ee02",
     "grade": false,
     "grade_id": "cell-52c19138292f3072",
     "locked": true,
     "schema_version": 3,
     "solution": false,
     "task": false
    },
    "tags": []
   },
   "source": [
    "#### Remove temperature outliers\n",
    "Implement the below function using the strategy you defined above to get rid of the temperature outliers"
   ]
  },
  {
   "cell_type": "code",
   "execution_count": 111,
   "metadata": {
    "deletable": false,
    "id": "g-cLMXnPuJgh",
    "nbgrader": {
     "cell_type": "code",
     "checksum": "4a6fbee789818ca2d63453b46fba9799",
     "grade": false,
     "grade_id": "cell-3a5e129500b7c7fa",
     "locked": false,
     "schema_version": 3,
     "solution": true,
     "task": false
    },
    "tags": []
   },
   "outputs": [],
   "source": [
    "from scipy import stats\n",
    "def handle_temp_outliers(noisy_data) -> pd.DataFrame:\n",
    "    \"\"\"\n",
    "    Parameters\n",
    "    --------\n",
    "    noisy_data: data frame that contains temperature outliers ('temp' column)\n",
    "\n",
    "    Returns\n",
    "    --------\n",
    "    cleaned_data: data frame with temperature outliers removed/handled\n",
    "    \"\"\"\n",
    "    cleaned_data = noisy_data.copy()\n",
    "    cleaned_data[(np.abs(stats.zscore(cleaned_data['temp'])) <3)]\n",
    "\n",
    "   \n",
    "    return cleaned_data\n"
   ]
  },
  {
   "cell_type": "code",
   "execution_count": 112,
   "metadata": {
    "colab": {
     "base_uri": "https://localhost:8080/",
     "height": 575
    },
    "deletable": false,
    "editable": false,
    "id": "3EneqlYXV0B9",
    "nbgrader": {
     "cell_type": "code",
     "checksum": "5acf4671f4daaf123698b7db0f99fa53",
     "grade": false,
     "grade_id": "cell-af34b47f99a17c3c",
     "locked": true,
     "schema_version": 3,
     "solution": false,
     "task": false
    },
    "outputId": "ec5c025f-c126-422b-d92d-b1451eedd7ac",
    "tags": []
   },
   "outputs": [
    {
     "name": "stdout",
     "output_type": "stream",
     "text": [
      "count    14244.000000\n",
      "mean        12.529475\n",
      "std          9.809784\n",
      "min        -14.900000\n",
      "25%          5.200000\n",
      "50%         12.400000\n",
      "75%         19.200000\n",
      "max        124.403383\n",
      "Name: temp, dtype: float64\n"
     ]
    },
    {
     "data": {
      "image/png": "[encoded data removed]",
      "text/plain": [
       "<Figure size 640x480 with 3 Axes>"
      ]
     },
     "metadata": {},
     "output_type": "display_data"
    }
   ],
   "source": [
    "# DO NOT MODIFY OR COPY THIS CELL!!\n",
    "weather_data_cleaned = handle_temp_outliers(weather_data_complete)\n",
    "plot_temp_analysis(weather_data_cleaned)\n",
    "print(weather_data_cleaned['temp'].describe())"
   ]
  },
  {
   "cell_type": "code",
   "execution_count": 113,
   "metadata": {
    "deletable": false,
    "editable": false,
    "id": "YA_EQ6ZiuJgi",
    "nbgrader": {
     "cell_type": "code",
     "checksum": "af315ec1a9ded75934eb6055da3f7ed0",
     "grade": true,
     "grade_id": "cell-1eae97f921d127d4",
     "locked": true,
     "points": 1,
     "schema_version": 3,
     "solution": false,
     "task": false
    },
    "tags": []
   },
   "outputs": [],
   "source": [
    "# test, DO NOT MODIFY OR COPY THIS CELL!!\n",
    "\n",
    "# check if new missing values were introduced\n",
    "assert not weather_data_cleaned.isna().any().any()\n",
    "# check if outliers were simply dropped\n",
    "assert weather_data_cleaned.shape == weather_data_complete.shape"
   ]
  },
  {
   "cell_type": "code",
   "execution_count": 114,
   "metadata": {
    "deletable": false,
    "editable": false,
    "id": "bQ1GjpRUuJgi",
    "nbgrader": {
     "cell_type": "code",
     "checksum": "a9c6fa3f4a31724c7cc9950bff6fb37d",
     "grade": true,
     "grade_id": "cell-95c195c3b2b9dc83",
     "locked": true,
     "points": 1,
     "schema_version": 3,
     "solution": false,
     "task": false
    },
    "tags": []
   },
   "outputs": [],
   "source": [
    "# hidden test, DO NOT MODIFY OR COPY THIS CELL!!"
   ]
  },
  {
   "cell_type": "code",
   "execution_count": 115,
   "metadata": {
    "colab": {
     "base_uri": "https://localhost:8080/"
    },
    "deletable": false,
    "editable": false,
    "id": "x-APz1IcuJgi",
    "nbgrader": {
     "cell_type": "code",
     "checksum": "8ee5d829f5847930303a901c3e75f5cc",
     "grade": true,
     "grade_id": "cell-66671e0f9a6b08e6",
     "locked": true,
     "points": 1,
     "schema_version": 3,
     "solution": false,
     "task": false
    },
    "outputId": "4f0ca89e-2e6a-4f7f-f233-6b66b9813c0f",
    "tags": []
   },
   "outputs": [],
   "source": [
    "# hidden test, DO NOT MODIFY OR COPY THIS CELL!!"
   ]
  },
  {
   "cell_type": "markdown",
   "metadata": {
    "deletable": false,
    "editable": false,
    "id": "9bwgpZ1J8k3U",
    "nbgrader": {
     "cell_type": "markdown",
     "checksum": "d96f825b65dfedb4188dda63f0fd1b8a",
     "grade": false,
     "grade_id": "cell-a8502a2937a35649",
     "locked": true,
     "schema_version": 3,
     "solution": false,
     "task": false
    },
    "tags": []
   },
   "source": [
    "### 3.2 Wind speed outliers\n",
    "\n",
    "The second outlier problem was, that in the timespan from early October 2015 until mid March 2016, the wind sensor was defective: it might have displayed wrong values for winds from SE direction.\n",
    "\n",
    "Double check if this is true, and if it is, fix the values appropriately."
   ]
  },
  {
   "cell_type": "markdown",
   "metadata": {
    "deletable": false,
    "editable": false,
    "id": "zhlyPb69ukSD",
    "nbgrader": {
     "cell_type": "markdown",
     "checksum": "b52d46bd7e2cb62f0f46ef0e087caf91",
     "grade": false,
     "grade_id": "cell-e5437753497e1f41",
     "locked": true,
     "schema_version": 3,
     "solution": false,
     "task": false
    },
    "tags": []
   },
   "source": [
    "#### Data inspection\n",
    "\n",
    "Implement the function below to visualize the problematic wind sensor data.\n",
    "Complete the function below to check the assumtions for wrong values of windBeauf.\n",
    "- Plot the wind speed data over the questionable time duration (early October 2015 until mid March 2016)\n",
    "- Plot a histogram of the windspeed values to identify outliers\n",
    "- Check if the assumtion regarding the wind direction is true (errors only from SE direction)\n",
    "\n",
    "Bonus:\n",
    "- Find out when exactly the sensor started to produce wrong values and when the sensor was fixed!"
   ]
  },
  {
   "cell_type": "code",
   "execution_count": 126,
   "metadata": {
    "deletable": false,
    "id": "MWIzCHIW8ur7",
    "nbgrader": {
     "cell_type": "code",
     "checksum": "0b1c6253844f901f31a3d026b3fab6d3",
     "grade": false,
     "grade_id": "cell-17a134d20f0b933f",
     "locked": false,
     "schema_version": 3,
     "solution": true,
     "task": false
    },
    "tags": []
   },
   "outputs": [],
   "source": [
    "def analyze_wind_range(df:pd.DataFrame) -> typing.Tuple[int, typing.List[str]]:\n",
    "    \"\"\"\n",
    "    Plot analysis plots for the wind data. Print outputs about relevant data \n",
    "    and return the relevant values as indicated.\n",
    "\n",
    "    Parameters\n",
    "    --------\n",
    "    noisy_data: data frame that contains outliers\n",
    "    \n",
    "    Returns\n",
    "    --------\n",
    "    wind_dir_outliers: list of wind direction string code, for which outliers where found\n",
    "    num_outliers: number of found outliers\n",
    "\n",
    "    \"\"\"\n",
    "    threshold = 6.23\n",
    "    print(threshold)\n",
    "    \n",
    "    fig, axs = plt.subplots(2)\n",
    "    axs[0].plot(\"date\", \"windBeauf\", data=df)\n",
    "    axs[0].axhline(threshold, color=\"r\")\n",
    "    \n",
    "    axs[1].hist(df[\"windBeauf\"], bins=12)\n",
    "    axs[1].axvline(threshold, color=\"r\")\n",
    "\n",
    "\n",
    "    mask = (df['windBeauf'] >= 9) \n",
    "    df2 = df.loc[mask]\n",
    "    \n",
    "    \n",
    "    num_outliers=len(df2.index)\n",
    "    a = df2['windDir'].unique()\n",
    "    wind_dir_outliers=sorted(a)\n",
    "    \n",
    "    \n",
    "    return wind_dir_outliers, num_outliers\n"
   ]
  },
  {
   "cell_type": "code",
   "execution_count": 127,
   "metadata": {
    "colab": {
     "base_uri": "https://localhost:8080/",
     "height": 523
    },
    "deletable": false,
    "editable": false,
    "id": "ErQSjD54YJkP",
    "nbgrader": {
     "cell_type": "code",
     "checksum": "267978981c19747bdb9d4c97f7df7c89",
     "grade": false,
     "grade_id": "cell-372397c0c89b806b",
     "locked": true,
     "schema_version": 3,
     "solution": false,
     "task": false
    },
    "outputId": "cdb8e0cb-5174-467d-ae3b-4534d4c26357",
    "tags": []
   },
   "outputs": [
    {
     "name": "stdout",
     "output_type": "stream",
     "text": [
      "6.23\n"
     ]
    },
    {
     "data": {
      "image/png": "[encoded data removed]",
      "text/plain": [
       "<Figure size 640x480 with 2 Axes>"
      ]
     },
     "metadata": {},
     "output_type": "display_data"
    }
   ],
   "source": [
    "# DO NOT MODIFY OR COPY THIS CELL!!\n",
    "wind_dir_outliers, num_outliers = analyze_wind_range(weather_data_complete)"
   ]
  },
  {
   "cell_type": "code",
   "execution_count": 128,
   "metadata": {
    "colab": {
     "base_uri": "https://localhost:8080/",
     "height": 714
    },
    "deletable": false,
    "editable": false,
    "id": "d70D2VsBdeQV",
    "nbgrader": {
     "cell_type": "code",
     "checksum": "81b57d97671100a5fe2183da91a62865",
     "grade": true,
     "grade_id": "cell-8c1a7fd690b311ea",
     "locked": true,
     "points": 1,
     "schema_version": 3,
     "solution": false,
     "task": false
    },
    "outputId": "4f61a7b2-b6de-44ea-93a0-c4d3a856bf04",
    "tags": []
   },
   "outputs": [],
   "source": [
    "assert 0 < num_outliers < 500, \"there should be more than zero but less than 500 outliers!\"\n",
    "assert len(wind_dir_outliers) > 0, \"there should be at least one wind direction!\"\n",
    "assert isinstance(wind_dir_outliers[0], str), \"the wind direction codes are strings with two characters!\"\n",
    "assert len(wind_dir_outliers[0]) == 2, \"the wind direction codes are strings with two characters!\"\n",
    "\n",
    "# hidden test, DO NOT MODIFY OR COPY THIS CELL!!"
   ]
  },
  {
   "cell_type": "markdown",
   "metadata": {
    "deletable": false,
    "editable": false,
    "id": "xHdePkuZmXfH",
    "nbgrader": {
     "cell_type": "markdown",
     "checksum": "75bcb0dd7c541b9fceb64e81c5e84a30",
     "grade": false,
     "grade_id": "cell-9071c87920503ad5",
     "locked": true,
     "schema_version": 3,
     "solution": false,
     "task": false
    },
    "tags": []
   },
   "source": [
    "#### Fix wind sensor outliers\n",
    "Fix the values appropriately. Implement a function that compensates for the problem you found."
   ]
  },
  {
   "cell_type": "code",
   "execution_count": 129,
   "metadata": {
    "deletable": false,
    "id": "jOAgaeWBmnS7",
    "nbgrader": {
     "cell_type": "code",
     "checksum": "860e0eccb270ed90abd4c07c931e7d40",
     "grade": false,
     "grade_id": "cell-43854ccdb6d35121",
     "locked": false,
     "schema_version": 3,
     "solution": true,
     "task": false
    },
    "tags": []
   },
   "outputs": [],
   "source": [
    "def fix_windBeauf_values(df:pd.DataFrame) -> pd.DataFrame:\n",
    "    \"\"\"\n",
    "    Parameters\n",
    "    --------\n",
    "    df: data frame that contains potential faulty wind values\n",
    "\n",
    "    Returns\n",
    "    -------\n",
    "    df_ret: data frame with fixed wind values\n",
    "    \"\"\"\n",
    "    df_ret = df.copy()\n",
    "    mean = df_ret['windBeauf'].mean()\n",
    "    sd = df_ret['windBeauf'].std()\n",
    "        \n",
    "    mask = (df['windBeauf'] >= 9) \n",
    "    df_ret.loc[df_ret['windBeauf']>=9,['windBeauf']] = np.nan\n",
    "    mean_value=df_ret['windBeauf'].mean()\n",
    "  \n",
    "    df_ret['windBeauf'].fillna(value=mean_value, inplace=True)\n",
    "\n",
    "    return df_ret\n"
   ]
  },
  {
   "cell_type": "code",
   "execution_count": 130,
   "metadata": {
    "colab": {
     "base_uri": "https://localhost:8080/",
     "height": 506
    },
    "deletable": false,
    "editable": false,
    "id": "k-IgDi3FKs9q",
    "nbgrader": {
     "cell_type": "code",
     "checksum": "91f769d94aa10f92bbe5358156cdf0e0",
     "grade": false,
     "grade_id": "cell-f760730c20adf117",
     "locked": true,
     "schema_version": 3,
     "solution": false,
     "task": false
    },
    "outputId": "4371c711-ca7f-41bc-e3b0-1a0776e19bc2",
    "tags": []
   },
   "outputs": [
    {
     "name": "stdout",
     "output_type": "stream",
     "text": [
      "6.23\n"
     ]
    },
    {
     "data": {
      "image/png": "[encoded data removed]",
      "text/plain": [
       "<Figure size 640x480 with 2 Axes>"
      ]
     },
     "metadata": {},
     "output_type": "display_data"
    }
   ],
   "source": [
    "# test, DO NOT MODIFY OR COPY THIS CELL!!\n",
    "weather_data_fix_wind = fix_windBeauf_values(weather_data_complete)\n",
    "wind_dir_outliers_fixed, num_outliers_fixed = analyze_wind_range(weather_data_fix_wind)"
   ]
  },
  {
   "cell_type": "code",
   "execution_count": 131,
   "metadata": {
    "colab": {
     "base_uri": "https://localhost:8080/"
    },
    "deletable": false,
    "editable": false,
    "id": "taRBcC0LfAmJ",
    "nbgrader": {
     "cell_type": "code",
     "checksum": "d07275af456e38042b5ca5debe01fd9b",
     "grade": true,
     "grade_id": "cell-786e83740a6bc58d",
     "locked": true,
     "points": 2,
     "schema_version": 3,
     "solution": false,
     "task": false
    },
    "outputId": "265a5326-f200-471c-f21f-c96fc2cabeb8",
    "tags": []
   },
   "outputs": [],
   "source": [
    "# test, DO NOT MODIFY OR COPY THIS CELL!!\n",
    "assert num_outliers_fixed == 0, \"now no outliers should be found\"\n",
    "assert len(wind_dir_outliers_fixed) == 0, \"now no outliers should be found, so no directions!\"\n",
    "assert weather_data_fix_wind.shape == weather_data_complete.shape\n",
    "\n",
    "# hidden test, DO NOT MODIFY OR COPY THIS CELL!!"
   ]
  },
  {
   "cell_type": "markdown",
   "metadata": {
    "deletable": false,
    "editable": false,
    "id": "uSbJNujUy0I6",
    "nbgrader": {
     "cell_type": "markdown",
     "checksum": "59e36a11c8dd6018a9cc7c9eff3806f5",
     "grade": false,
     "grade_id": "cell-dbe56ebadc8e24b1",
     "locked": true,
     "schema_version": 3,
     "solution": false,
     "task": false
    },
    "tags": []
   },
   "source": [
    "### 3.3 Daily weather data: precipitation\n",
    "\n",
    "When loading the data, we separated the precipitation data into the `daily_weather_data` dataframe.\n",
    "This dataframe also has an issues:\n",
    "\n",
    "- The `precip` column contains some non-numeric values "
   ]
  },
  {
   "cell_type": "markdown",
   "metadata": {
    "deletable": false,
    "editable": false,
    "id": "3R54abDF77BU",
    "nbgrader": {
     "cell_type": "markdown",
     "checksum": "63bfa0ed8f8f9fdc5907fd9dcfb564b1",
     "grade": false,
     "grade_id": "cell-7c63005a3c8d57d8",
     "locked": true,
     "schema_version": 3,
     "solution": false,
     "task": false
    },
    "tags": []
   },
   "source": [
    "#### Data inspection\n",
    "Check the occurance of the non-numeric values in the precipitation data. You can check the file `data/weather/description.txt`, which might have additional clues what is going on.\n",
    "\n",
    "Implement the function below and return a list of the non-numeric values that occur in the `precip` column of `daily_weather_data`. Make sure to only return every unique value once! "
   ]
  },
  {
   "cell_type": "code",
   "execution_count": 132,
   "metadata": {
    "deletable": false,
    "id": "o5cfdD-W15LI",
    "nbgrader": {
     "cell_type": "code",
     "checksum": "f5610eb260d0674286cc80c2da030016",
     "grade": false,
     "grade_id": "cell-6cc9d49c1e439440",
     "locked": false,
     "schema_version": 3,
     "solution": true,
     "task": false
    },
    "tags": []
   },
   "outputs": [],
   "source": [
    "def get_non_numeric_precip_values(df:pd.DataFrame) -> typing.Set[str]:\n",
    "    \"\"\"\n",
    "    Parameters\n",
    "    --------\n",
    "    df: data frame that contains non-numeric values in precip column\n",
    "\n",
    "    Returns\n",
    "    -------\n",
    "    non_numeric_values: list of unique non-numeric values. \n",
    "    Do not return duplicate values in the list!\n",
    "    \"\"\"\n",
    "\n",
    "    non_numeric_values = set()\n",
    "   \n",
    "    \n",
    "    a = df['precip'].unique()\n",
    "    li=[]\n",
    "    for i in a:\n",
    "        try:\n",
    "            float(i)\n",
    "            pass\n",
    "        except ValueError:\n",
    "            li.append(i)\n",
    "    non_numeric_values=set(li)\n",
    "\n",
    "    return non_numeric_values\n"
   ]
  },
  {
   "cell_type": "code",
   "execution_count": 133,
   "metadata": {
    "colab": {
     "base_uri": "https://localhost:8080/"
    },
    "deletable": false,
    "editable": false,
    "id": "3UgLjARvFfWx",
    "nbgrader": {
     "cell_type": "code",
     "checksum": "38d2e8cbc350bf1c70314658a1209887",
     "grade": false,
     "grade_id": "cell-39be2818c445057c",
     "locked": true,
     "schema_version": 3,
     "solution": false,
     "task": false
    },
    "outputId": "c954b15f-261f-467a-ae57-4de4c32bb3db",
    "tags": []
   },
   "outputs": [
    {
     "name": "stdout",
     "output_type": "stream",
     "text": [
      "\n",
      "non-numeric values values: {'traces'}\n"
     ]
    }
   ],
   "source": [
    "# DO NOT MODIFY OR COPY THIS CELL!!\n",
    "non_numeric_values = get_non_numeric_precip_values(daily_weather_data)\n",
    "print(f\"\\nnon-numeric values values: {non_numeric_values}\")"
   ]
  },
  {
   "cell_type": "code",
   "execution_count": 134,
   "metadata": {
    "deletable": false,
    "editable": false,
    "id": "ok0a-9Z1Khju",
    "nbgrader": {
     "cell_type": "code",
     "checksum": "6e1dbaa6bff512bd384d89f3a5addd10",
     "grade": true,
     "grade_id": "cell-ebad3db2e9939f5b",
     "locked": true,
     "points": 1,
     "schema_version": 3,
     "solution": false,
     "task": false
    },
    "tags": []
   },
   "outputs": [],
   "source": [
    "# tests, DO NOT MODIFY OR COPY THIS CELL!!\n",
    "assert isinstance(non_numeric_values, set) , \"make sure to return a set, so no duplicate values can be returned!!\"\n",
    "assert len(non_numeric_values) > 0, \"there should be some non-numeric values in daily_weather_data!\"\n",
    "assert isinstance(list(non_numeric_values)[0], str), \"only return the non-numeric values as strings!\""
   ]
  },
  {
   "cell_type": "markdown",
   "metadata": {
    "deletable": false,
    "editable": false,
    "id": "nsx9Uv2f8CEc",
    "nbgrader": {
     "cell_type": "markdown",
     "checksum": "da1b5297122adef8fefac71e3f023efe",
     "grade": false,
     "grade_id": "cell-8f4422157a413f9c",
     "locked": true,
     "schema_version": 3,
     "solution": false,
     "task": false
    },
    "tags": []
   },
   "source": [
    "#### Fix non-numeric values\n",
    "Replace non-numeric values with some appropriate numerical values and convert the column to a more suitable data type.\n",
    "To get an idea, what appropriate values might be, check the file `data/weather/description.txt` and the other numeric values in the `precip` column."
   ]
  },
  {
   "cell_type": "code",
   "execution_count": 135,
   "metadata": {
    "deletable": false,
    "id": "SCMOFxqxy9s1",
    "nbgrader": {
     "cell_type": "code",
     "checksum": "205fd4f77f9911b48c19e61c66e34655",
     "grade": false,
     "grade_id": "cell-b4ca9c25b4e2a451",
     "locked": false,
     "schema_version": 3,
     "solution": true,
     "task": false
    },
    "tags": []
   },
   "outputs": [],
   "source": [
    "def fix_precip_values(df:pd.DataFrame) -> pd.DataFrame:\n",
    "    \"\"\"\n",
    "    Parameters\n",
    "    --------\n",
    "    df: data frame that contains non-numeric values in precip column\n",
    "\n",
    "    Returns\n",
    "    -------\n",
    "    ret_df: data frame with fixed precip values\n",
    "    \"\"\"\n",
    "    ret_df = df.copy()\n",
    "    ret_df['precip']=ret_df['precip'].replace('traces',0.1)\n",
    "    ret_df['precip']=pd.to_numeric(ret_df['precip'], errors='coerce')\n",
    "    \n",
    "\n",
    "    return ret_df"
   ]
  },
  {
   "cell_type": "code",
   "execution_count": 136,
   "metadata": {
    "deletable": false,
    "editable": false,
    "id": "xHUR3t_01Oyo",
    "nbgrader": {
     "cell_type": "code",
     "checksum": "b1901afde303a75bca4f8131f70f0ae3",
     "grade": false,
     "grade_id": "cell-22184a57d9e5018c",
     "locked": true,
     "schema_version": 3,
     "solution": false,
     "task": false
    },
    "tags": []
   },
   "outputs": [],
   "source": [
    "# DO NOT MODIFY OR COPY THIS CELL!!\n",
    "daily_weather_data_fixed_precip = fix_precip_values(daily_weather_data)"
   ]
  },
  {
   "cell_type": "code",
   "execution_count": 137,
   "metadata": {
    "deletable": false,
    "editable": false,
    "id": "_tRzz1Quu_Hi",
    "nbgrader": {
     "cell_type": "code",
     "checksum": "54387ed5d7c22908ce761a5cdf97eac9",
     "grade": true,
     "grade_id": "cell-cc5b5f0d50fd0553",
     "locked": true,
     "points": 1,
     "schema_version": 3,
     "solution": false,
     "task": false
    },
    "tags": []
   },
   "outputs": [],
   "source": [
    "# test, DO NOT MODIFY OR COPY THIS CELL!!\n",
    "assert pd.api.types.is_float_dtype(daily_weather_data_fixed_precip['precip'].dtype), \"precip should now be a float column!!\"\n",
    "assert daily_weather_data_fixed_precip.shape == daily_weather_data.shape, \"do not remove or add rows!\""
   ]
  },
  {
   "cell_type": "markdown",
   "metadata": {
    "deletable": false,
    "editable": false,
    "id": "k8eo4dzXlHvf",
    "nbgrader": {
     "cell_type": "markdown",
     "checksum": "b6e104821c8d9b84f8d2835b8c038446",
     "grade": false,
     "grade_id": "cell-cf9b0dcce316b0f8",
     "locked": true,
     "schema_version": 3,
     "solution": false,
     "task": false
    },
    "tags": []
   },
   "source": [
    "### Combining the fixes"
   ]
  },
  {
   "cell_type": "code",
   "execution_count": 138,
   "metadata": {
    "deletable": false,
    "editable": false,
    "id": "REzLe-qsNde2",
    "nbgrader": {
     "cell_type": "code",
     "checksum": "7ef019b409be22c7e3013154daf12914",
     "grade": false,
     "grade_id": "cell-9d0369dd3eeef578",
     "locked": true,
     "schema_version": 3,
     "solution": false,
     "task": false
    },
    "tags": []
   },
   "outputs": [],
   "source": [
    "# DO NOT MODIFY OR COPY THIS CELL!!\n",
    "def fix_values_daily(data):\n",
    "    \"\"\" \n",
    "    Parameters\n",
    "    --------\n",
    "    data: data frame containing missing values \n",
    "    \n",
    "    Returns\n",
    "    --------\n",
    "    complete_data: data frame not containing any missing values\n",
    "    \"\"\"\n",
    "    complete_data = data.copy()\n",
    "    complete_data = fix_precip_values(complete_data)\n",
    "    \n",
    "    return complete_data\n",
    "\n",
    "   \n",
    "def handle_outliers(data):\n",
    "    \"\"\" \n",
    "    Parameters\n",
    "    --------\n",
    "    data: data frame containing outlier values \n",
    "    \n",
    "    Returns\n",
    "    --------\n",
    "    complete_data: data frame not containing any outlier values\n",
    "    \"\"\"\n",
    "    complete_data = data.copy()\n",
    "    complete_data = handle_temp_outliers(complete_data)\n",
    "    complete_data = fix_windBeauf_values(complete_data)\n",
    "    \n",
    "    return complete_data"
   ]
  },
  {
   "cell_type": "code",
   "execution_count": 139,
   "metadata": {
    "deletable": false,
    "editable": false,
    "id": "FSoRiVTClQEx",
    "nbgrader": {
     "cell_type": "code",
     "checksum": "9ec2b301c10ebe8fb98331f5fa8ae726",
     "grade": false,
     "grade_id": "cell-7eaa301cd8991d72",
     "locked": true,
     "schema_version": 3,
     "solution": false,
     "task": false
    },
    "tags": []
   },
   "outputs": [],
   "source": [
    "# DO NOT MODIFY OR COPY THIS CELL!!\n",
    "daily_weather_data_finished = fix_values_daily(daily_weather_data)\n",
    "weather_data_finished = handle_outliers(weather_data_complete)"
   ]
  },
  {
   "cell_type": "markdown",
   "metadata": {
    "deletable": false,
    "editable": false,
    "id": "ozyHsyZRuJgi",
    "nbgrader": {
     "cell_type": "markdown",
     "checksum": "a91d2af92e8cf45709f8fa78106c7480",
     "grade": false,
     "grade_id": "cell-91bc351485145c37",
     "locked": true,
     "schema_version": 3,
     "solution": false,
     "task": false
    },
    "tags": []
   },
   "source": [
    "## Task 4: Aggregate values (5 Points)\n",
    "\n",
    "Aggregate the observations on a weekly basis. Return a data frame with a hierarchical index (levels `year` and `week`) and the following weekly aggregations as columns:\n",
    "\n",
    "- `temp_weeklyMin`: minimum of `temp`\n",
    "- `temp_weeklyMax`: max of `temp`\n",
    "- `temp_weeklyMean`: mean of `temp`\n",
    "- `temp_weeklyMedian`: median of `temp`\n",
    "\n",
    "- `hum_weeklyMin`: min of `hum`\n",
    "- `hum_weeklyMax`: max of `hum`\n",
    "- `hum_weeklyMean`: mean of `hum`\n",
    "\n",
    "- `wind_weeklyMean`: mean of `windBeauf`\n",
    "- `wind_weeklyMax`: max of `windBeauf`\n",
    "- `wind_weeklyMin`: min of `windBeauf`\n",
    "\n",
    "Additionally merge the precipitation values from the `daily_weather_data` dataframe also into the newly created dataframe and aggregate them into the folling columns:\n",
    "- `precip_weeklyMin`: min of `precip`\n",
    "- `precip_weeklyMax`: max of `precip`\n",
    "- `precip_weeklyMean`: mean of `precip`\n",
    "\n",
    "\n",
    "**Note:** Attentive data scientists might have noticed a problem with isocalendars when aggregating on `Year` and `Week`. You can ignore this for the purpose of this lecture. In real-world settings you might consider addressing this issue, depending on your task and data"
   ]
  },
  {
   "cell_type": "code",
   "execution_count": 140,
   "metadata": {
    "deletable": false,
    "id": "gw4FwbkZFrfq",
    "nbgrader": {
     "cell_type": "code",
     "checksum": "fe9fe86a409a6b547189e3bed9cb9046",
     "grade": false,
     "grade_id": "cell-814c7b7dc89c8f64",
     "locked": false,
     "schema_version": 3,
     "solution": true,
     "task": false
    },
    "tags": []
   },
   "outputs": [],
   "source": [
    "def aggregate_weekly(hourly_data, data_daily):\n",
    "    \"\"\" \n",
    "    Parameters\n",
    "    --------\n",
    "    hourly_data: hourly weather data frame, containing temp, hum, and wind values.\n",
    "    data_daily: daily weather data frame with precip values\n",
    "    \n",
    "    Returns\n",
    "    --------\n",
    "    weekly_stats: data frame that contains statistics aggregated on a weekly basis\n",
    "    \"\"\"\n",
    "    new_hourly=hourly_data.copy()\n",
    "    new_data_daily=data_daily.copy()\n",
    "\n",
    "    weekly_weather_data = pd.DataFrame()\n",
    "    new_hourly.reset_index(drop = True, inplace = True)\n",
    "    new_hourly['week'] = pd.DatetimeIndex(new_hourly['date']).week\n",
    "    new_hourly=new_hourly.set_index(['year', 'week']).sort_index()\n",
    "    new_data_daily.reset_index(drop = False, inplace = True)\n",
    "    \n",
    "    new_data_daily=new_data_daily.set_index(['year', 'week']).sort_index()\n",
    "\n",
    "    \n",
    "    new_hourly['temp_weeklyMin']=new_hourly.groupby(['year','week']).agg({'temp': [np.min]})\n",
    "    new_hourly['temp_weeklyMax']=new_hourly.groupby(['year','week']).agg({'temp': [np.max]})    \n",
    "    new_hourly['temp_weeklyMean']=new_hourly.groupby(['year','week']).agg({'temp': [np.mean]})\n",
    "    new_hourly['temp_weeklyMedian']=new_hourly.groupby(['year','week']).agg({'temp': [np.median]})\n",
    "  \n",
    "    \n",
    "    new_hourly['hum_weeklyMin']=new_hourly.groupby(['year','week']).agg({'hum': [np.min]})\n",
    "   \n",
    "    new_hourly['hum_weeklyMax']=new_hourly.groupby(['year','week']).agg({'hum': [np.max]})\n",
    "    \n",
    "    new_hourly['hum_weeklyMean']=new_hourly.groupby(['year','week']).agg({'hum': [np.mean]})\n",
    "   \n",
    "    new_hourly['wind_weeklyMean']=new_hourly.groupby(['year','week']).agg({'windBeauf': [np.min]})\n",
    "    new_hourly['wind_weeklyMax']=new_hourly.groupby(['year','week']).agg({'windBeauf': [np.max]})\n",
    "    new_hourly['wind_weeklyMin']=new_hourly.groupby(['year','week']).agg({'windBeauf': [np.mean]})\n",
    "   \n",
    "    \n",
    "    new_data_daily['precip_weeklyMin']=new_data_daily.groupby(['year','week']).agg({'precip': [np.min]})\n",
    "    new_data_daily['precip_weeklyMax']=new_data_daily.groupby(['year','week']).agg({'precip': [np.max]})\n",
    "    new_data_daily['precip_weeklyMean']=new_data_daily.groupby(['year','week']).agg({'precip': [np.mean]})\n",
    "     \n",
    "    new_data_daily.dropna(inplace=True) \n",
    "    \n",
    "    weekly_weather_data = new_hourly.merge(new_data_daily, on=['year','week'], how='inner')\n",
    "    \n",
    "\n",
    "    return weekly_weather_data\n"
   ]
  },
  {
   "cell_type": "code",
   "execution_count": 141,
   "metadata": {
    "colab": {
     "base_uri": "https://localhost:8080/",
     "height": 519
    },
    "deletable": false,
    "editable": false,
    "id": "17cXRq3YGCwW",
    "nbgrader": {
     "cell_type": "code",
     "checksum": "f6b2f79f631e46781f73f0d9bda1fbdf",
     "grade": false,
     "grade_id": "cell-1be305df9f6b19d8",
     "locked": true,
     "schema_version": 3,
     "solution": false,
     "task": false
    },
    "outputId": "fabc0069-4251-43e3-a61a-82dc9b02148b",
    "tags": []
   },
   "outputs": [
    {
     "name": "stderr",
     "output_type": "stream",
     "text": [
      "/tmp/ipykernel_211/3980691893.py:17: FutureWarning: weekofyear and week have been deprecated, please use DatetimeIndex.isocalendar().week instead, which returns a Series. To exactly reproduce the behavior of week and weekofyear and return an Index, you may call pd.Int64Index(idx.isocalendar().week)\n",
      "  new_hourly['week'] = pd.DatetimeIndex(new_hourly['date']).week\n"
     ]
    },
    {
     "data": {
      "text/html": [
       "<div>\n",
       "<style scoped>\n",
       "    .dataframe tbody tr th:only-of-type {\n",
       "        vertical-align: middle;\n",
       "    }\n",
       "\n",
       "    .dataframe tbody tr th {\n",
       "        vertical-align: top;\n",
       "    }\n",
       "\n",
       "    .dataframe thead th {\n",
       "        text-align: right;\n",
       "    }\n",
       "</style>\n",
       "<table border=\"1\" class=\"dataframe\">\n",
       "  <thead>\n",
       "    <tr style=\"text-align: right;\">\n",
       "      <th></th>\n",
       "      <th></th>\n",
       "      <th>date_x</th>\n",
       "      <th>airPressure</th>\n",
       "      <th>windBeauf</th>\n",
       "      <th>skyCover</th>\n",
       "      <th>temp</th>\n",
       "      <th>windDir</th>\n",
       "      <th>hum</th>\n",
       "      <th>month_x</th>\n",
       "      <th>temp_weeklyMin</th>\n",
       "      <th>temp_weeklyMax</th>\n",
       "      <th>...</th>\n",
       "      <th>wind_weeklyMax</th>\n",
       "      <th>wind_weeklyMin</th>\n",
       "      <th>month_y</th>\n",
       "      <th>day</th>\n",
       "      <th>date_y</th>\n",
       "      <th>precip</th>\n",
       "      <th>precipType</th>\n",
       "      <th>precip_weeklyMin</th>\n",
       "      <th>precip_weeklyMax</th>\n",
       "      <th>precip_weeklyMean</th>\n",
       "    </tr>\n",
       "    <tr>\n",
       "      <th>year</th>\n",
       "      <th>week</th>\n",
       "      <th></th>\n",
       "      <th></th>\n",
       "      <th></th>\n",
       "      <th></th>\n",
       "      <th></th>\n",
       "      <th></th>\n",
       "      <th></th>\n",
       "      <th></th>\n",
       "      <th></th>\n",
       "      <th></th>\n",
       "      <th></th>\n",
       "      <th></th>\n",
       "      <th></th>\n",
       "      <th></th>\n",
       "      <th></th>\n",
       "      <th></th>\n",
       "      <th></th>\n",
       "      <th></th>\n",
       "      <th></th>\n",
       "      <th></th>\n",
       "      <th></th>\n",
       "    </tr>\n",
       "  </thead>\n",
       "  <tbody>\n",
       "    <tr>\n",
       "      <th rowspan=\"5\" valign=\"top\">2009</th>\n",
       "      <th>1</th>\n",
       "      <td>2009-01-01</td>\n",
       "      <td>999.7</td>\n",
       "      <td>2.0</td>\n",
       "      <td>10</td>\n",
       "      <td>-4.5</td>\n",
       "      <td>W</td>\n",
       "      <td>79</td>\n",
       "      <td>1</td>\n",
       "      <td>-4.5</td>\n",
       "      <td>13.4</td>\n",
       "      <td>...</td>\n",
       "      <td>3.0</td>\n",
       "      <td>2.333333</td>\n",
       "      <td>1</td>\n",
       "      <td>2</td>\n",
       "      <td>2009-01-02</td>\n",
       "      <td>0.9</td>\n",
       "      <td>snow</td>\n",
       "      <td>0.0</td>\n",
       "      <td>0.9</td>\n",
       "      <td>0.25</td>\n",
       "    </tr>\n",
       "    <tr>\n",
       "      <th>1</th>\n",
       "      <td>2009-01-01</td>\n",
       "      <td>999.7</td>\n",
       "      <td>2.0</td>\n",
       "      <td>10</td>\n",
       "      <td>-4.5</td>\n",
       "      <td>W</td>\n",
       "      <td>79</td>\n",
       "      <td>1</td>\n",
       "      <td>-4.5</td>\n",
       "      <td>13.4</td>\n",
       "      <td>...</td>\n",
       "      <td>3.0</td>\n",
       "      <td>2.333333</td>\n",
       "      <td>1</td>\n",
       "      <td>3</td>\n",
       "      <td>2009-01-03</td>\n",
       "      <td>0.1</td>\n",
       "      <td>rain</td>\n",
       "      <td>0.0</td>\n",
       "      <td>0.9</td>\n",
       "      <td>0.25</td>\n",
       "    </tr>\n",
       "    <tr>\n",
       "      <th>1</th>\n",
       "      <td>2009-01-01</td>\n",
       "      <td>998.8</td>\n",
       "      <td>2.0</td>\n",
       "      <td>5</td>\n",
       "      <td>-0.1</td>\n",
       "      <td>NW</td>\n",
       "      <td>71</td>\n",
       "      <td>1</td>\n",
       "      <td>-4.5</td>\n",
       "      <td>13.4</td>\n",
       "      <td>...</td>\n",
       "      <td>3.0</td>\n",
       "      <td>2.333333</td>\n",
       "      <td>1</td>\n",
       "      <td>2</td>\n",
       "      <td>2009-01-02</td>\n",
       "      <td>0.9</td>\n",
       "      <td>snow</td>\n",
       "      <td>0.0</td>\n",
       "      <td>0.9</td>\n",
       "      <td>0.25</td>\n",
       "    </tr>\n",
       "    <tr>\n",
       "      <th>1</th>\n",
       "      <td>2009-01-01</td>\n",
       "      <td>998.8</td>\n",
       "      <td>2.0</td>\n",
       "      <td>5</td>\n",
       "      <td>-0.1</td>\n",
       "      <td>NW</td>\n",
       "      <td>71</td>\n",
       "      <td>1</td>\n",
       "      <td>-4.5</td>\n",
       "      <td>13.4</td>\n",
       "      <td>...</td>\n",
       "      <td>3.0</td>\n",
       "      <td>2.333333</td>\n",
       "      <td>1</td>\n",
       "      <td>3</td>\n",
       "      <td>2009-01-03</td>\n",
       "      <td>0.1</td>\n",
       "      <td>rain</td>\n",
       "      <td>0.0</td>\n",
       "      <td>0.9</td>\n",
       "      <td>0.25</td>\n",
       "    </tr>\n",
       "    <tr>\n",
       "      <th>1</th>\n",
       "      <td>2009-01-01</td>\n",
       "      <td>1000.7</td>\n",
       "      <td>2.0</td>\n",
       "      <td>10</td>\n",
       "      <td>-1.8</td>\n",
       "      <td>NW</td>\n",
       "      <td>72</td>\n",
       "      <td>1</td>\n",
       "      <td>-4.5</td>\n",
       "      <td>13.4</td>\n",
       "      <td>...</td>\n",
       "      <td>3.0</td>\n",
       "      <td>2.333333</td>\n",
       "      <td>1</td>\n",
       "      <td>2</td>\n",
       "      <td>2009-01-02</td>\n",
       "      <td>0.9</td>\n",
       "      <td>snow</td>\n",
       "      <td>0.0</td>\n",
       "      <td>0.9</td>\n",
       "      <td>0.25</td>\n",
       "    </tr>\n",
       "    <tr>\n",
       "      <th>...</th>\n",
       "      <th>...</th>\n",
       "      <td>...</td>\n",
       "      <td>...</td>\n",
       "      <td>...</td>\n",
       "      <td>...</td>\n",
       "      <td>...</td>\n",
       "      <td>...</td>\n",
       "      <td>...</td>\n",
       "      <td>...</td>\n",
       "      <td>...</td>\n",
       "      <td>...</td>\n",
       "      <td>...</td>\n",
       "      <td>...</td>\n",
       "      <td>...</td>\n",
       "      <td>...</td>\n",
       "      <td>...</td>\n",
       "      <td>...</td>\n",
       "      <td>...</td>\n",
       "      <td>...</td>\n",
       "      <td>...</td>\n",
       "      <td>...</td>\n",
       "      <td>...</td>\n",
       "    </tr>\n",
       "    <tr>\n",
       "      <th rowspan=\"5\" valign=\"top\">2021</th>\n",
       "      <th>53</th>\n",
       "      <td>2021-01-03</td>\n",
       "      <td>1008.4</td>\n",
       "      <td>2.0</td>\n",
       "      <td>0</td>\n",
       "      <td>1.6</td>\n",
       "      <td>NW</td>\n",
       "      <td>79</td>\n",
       "      <td>1</td>\n",
       "      <td>-3.4</td>\n",
       "      <td>6.8</td>\n",
       "      <td>...</td>\n",
       "      <td>3.0</td>\n",
       "      <td>2.111111</td>\n",
       "      <td>1</td>\n",
       "      <td>2</td>\n",
       "      <td>2021-01-02</td>\n",
       "      <td>0.2</td>\n",
       "      <td>rain</td>\n",
       "      <td>0.0</td>\n",
       "      <td>0.2</td>\n",
       "      <td>0.10</td>\n",
       "    </tr>\n",
       "    <tr>\n",
       "      <th>53</th>\n",
       "      <td>2021-01-03</td>\n",
       "      <td>1009.1</td>\n",
       "      <td>3.0</td>\n",
       "      <td>3</td>\n",
       "      <td>6.8</td>\n",
       "      <td>N</td>\n",
       "      <td>68</td>\n",
       "      <td>1</td>\n",
       "      <td>-3.4</td>\n",
       "      <td>6.8</td>\n",
       "      <td>...</td>\n",
       "      <td>3.0</td>\n",
       "      <td>2.111111</td>\n",
       "      <td>1</td>\n",
       "      <td>1</td>\n",
       "      <td>2021-01-01</td>\n",
       "      <td>0.1</td>\n",
       "      <td>rain</td>\n",
       "      <td>0.0</td>\n",
       "      <td>0.2</td>\n",
       "      <td>0.10</td>\n",
       "    </tr>\n",
       "    <tr>\n",
       "      <th>53</th>\n",
       "      <td>2021-01-03</td>\n",
       "      <td>1009.1</td>\n",
       "      <td>3.0</td>\n",
       "      <td>3</td>\n",
       "      <td>6.8</td>\n",
       "      <td>N</td>\n",
       "      <td>68</td>\n",
       "      <td>1</td>\n",
       "      <td>-3.4</td>\n",
       "      <td>6.8</td>\n",
       "      <td>...</td>\n",
       "      <td>3.0</td>\n",
       "      <td>2.111111</td>\n",
       "      <td>1</td>\n",
       "      <td>2</td>\n",
       "      <td>2021-01-02</td>\n",
       "      <td>0.2</td>\n",
       "      <td>rain</td>\n",
       "      <td>0.0</td>\n",
       "      <td>0.2</td>\n",
       "      <td>0.10</td>\n",
       "    </tr>\n",
       "    <tr>\n",
       "      <th>53</th>\n",
       "      <td>2021-01-03</td>\n",
       "      <td>1009.1</td>\n",
       "      <td>2.0</td>\n",
       "      <td>0</td>\n",
       "      <td>4.6</td>\n",
       "      <td>NW</td>\n",
       "      <td>81</td>\n",
       "      <td>1</td>\n",
       "      <td>-3.4</td>\n",
       "      <td>6.8</td>\n",
       "      <td>...</td>\n",
       "      <td>3.0</td>\n",
       "      <td>2.111111</td>\n",
       "      <td>1</td>\n",
       "      <td>1</td>\n",
       "      <td>2021-01-01</td>\n",
       "      <td>0.1</td>\n",
       "      <td>rain</td>\n",
       "      <td>0.0</td>\n",
       "      <td>0.2</td>\n",
       "      <td>0.10</td>\n",
       "    </tr>\n",
       "    <tr>\n",
       "      <th>53</th>\n",
       "      <td>2021-01-03</td>\n",
       "      <td>1009.1</td>\n",
       "      <td>2.0</td>\n",
       "      <td>0</td>\n",
       "      <td>4.6</td>\n",
       "      <td>NW</td>\n",
       "      <td>81</td>\n",
       "      <td>1</td>\n",
       "      <td>-3.4</td>\n",
       "      <td>6.8</td>\n",
       "      <td>...</td>\n",
       "      <td>3.0</td>\n",
       "      <td>2.111111</td>\n",
       "      <td>1</td>\n",
       "      <td>2</td>\n",
       "      <td>2021-01-02</td>\n",
       "      <td>0.2</td>\n",
       "      <td>rain</td>\n",
       "      <td>0.0</td>\n",
       "      <td>0.2</td>\n",
       "      <td>0.10</td>\n",
       "    </tr>\n",
       "  </tbody>\n",
       "</table>\n",
       "<p>57177 rows × 26 columns</p>\n",
       "</div>"
      ],
      "text/plain": [
       "              date_x  airPressure  windBeauf  skyCover  temp windDir  hum  \\\n",
       "year week                                                                   \n",
       "2009 1    2009-01-01        999.7        2.0        10  -4.5       W   79   \n",
       "     1    2009-01-01        999.7        2.0        10  -4.5       W   79   \n",
       "     1    2009-01-01        998.8        2.0         5  -0.1      NW   71   \n",
       "     1    2009-01-01        998.8        2.0         5  -0.1      NW   71   \n",
       "     1    2009-01-01       1000.7        2.0        10  -1.8      NW   72   \n",
       "...              ...          ...        ...       ...   ...     ...  ...   \n",
       "2021 53   2021-01-03       1008.4        2.0         0   1.6      NW   79   \n",
       "     53   2021-01-03       1009.1        3.0         3   6.8       N   68   \n",
       "     53   2021-01-03       1009.1        3.0         3   6.8       N   68   \n",
       "     53   2021-01-03       1009.1        2.0         0   4.6      NW   81   \n",
       "     53   2021-01-03       1009.1        2.0         0   4.6      NW   81   \n",
       "\n",
       "           month_x  temp_weeklyMin  temp_weeklyMax  ...  wind_weeklyMax  \\\n",
       "year week                                           ...                   \n",
       "2009 1           1            -4.5            13.4  ...             3.0   \n",
       "     1           1            -4.5            13.4  ...             3.0   \n",
       "     1           1            -4.5            13.4  ...             3.0   \n",
       "     1           1            -4.5            13.4  ...             3.0   \n",
       "     1           1            -4.5            13.4  ...             3.0   \n",
       "...            ...             ...             ...  ...             ...   \n",
       "2021 53          1            -3.4             6.8  ...             3.0   \n",
       "     53          1            -3.4             6.8  ...             3.0   \n",
       "     53          1            -3.4             6.8  ...             3.0   \n",
       "     53          1            -3.4             6.8  ...             3.0   \n",
       "     53          1            -3.4             6.8  ...             3.0   \n",
       "\n",
       "           wind_weeklyMin  month_y  day     date_y  precip  precipType  \\\n",
       "year week                                                                \n",
       "2009 1           2.333333        1    2 2009-01-02     0.9        snow   \n",
       "     1           2.333333        1    3 2009-01-03     0.1        rain   \n",
       "     1           2.333333        1    2 2009-01-02     0.9        snow   \n",
       "     1           2.333333        1    3 2009-01-03     0.1        rain   \n",
       "     1           2.333333        1    2 2009-01-02     0.9        snow   \n",
       "...                   ...      ...  ...        ...     ...         ...   \n",
       "2021 53          2.111111        1    2 2021-01-02     0.2        rain   \n",
       "     53          2.111111        1    1 2021-01-01     0.1        rain   \n",
       "     53          2.111111        1    2 2021-01-02     0.2        rain   \n",
       "     53          2.111111        1    1 2021-01-01     0.1        rain   \n",
       "     53          2.111111        1    2 2021-01-02     0.2        rain   \n",
       "\n",
       "           precip_weeklyMin  precip_weeklyMax  precip_weeklyMean  \n",
       "year week                                                         \n",
       "2009 1                  0.0               0.9               0.25  \n",
       "     1                  0.0               0.9               0.25  \n",
       "     1                  0.0               0.9               0.25  \n",
       "     1                  0.0               0.9               0.25  \n",
       "     1                  0.0               0.9               0.25  \n",
       "...                     ...               ...                ...  \n",
       "2021 53                 0.0               0.2               0.10  \n",
       "     53                 0.0               0.2               0.10  \n",
       "     53                 0.0               0.2               0.10  \n",
       "     53                 0.0               0.2               0.10  \n",
       "     53                 0.0               0.2               0.10  \n",
       "\n",
       "[57177 rows x 26 columns]"
      ]
     },
     "metadata": {},
     "output_type": "display_data"
    }
   ],
   "source": [
    "# DO NOT MODIFY OR COPY THIS CELL!!\n",
    "weekly_weather_data = aggregate_weekly(weather_data_finished, daily_weather_data_finished)\n",
    "display(weekly_weather_data)"
   ]
  },
  {
   "cell_type": "code",
   "execution_count": 142,
   "metadata": {
    "deletable": false,
    "editable": false,
    "id": "mv9a5NFpSS4e",
    "nbgrader": {
     "cell_type": "code",
     "checksum": "adb1235c62018d806de34fc2229e0def",
     "grade": true,
     "grade_id": "cell-64e14d2afe613066",
     "locked": true,
     "points": 2,
     "schema_version": 3,
     "solution": false,
     "task": false
    },
    "tags": []
   },
   "outputs": [],
   "source": [
    "# tests, DO NOT MODIFY OR COPY THIS CELL!!\n",
    "assert len(weekly_weather_data.columns) >= 13, \"according to the instructions, the dataframe should have >= 13 columns\"\n",
    "assert len(weekly_weather_data.index.levels) == 2, \"according to the instructions, the dataframe should have a multi-index with 2 levels\""
   ]
  },
  {
   "cell_type": "code",
   "execution_count": 143,
   "metadata": {
    "colab": {
     "base_uri": "https://localhost:8080/"
    },
    "deletable": false,
    "editable": false,
    "id": "beFq8xgzGgFn",
    "nbgrader": {
     "cell_type": "code",
     "checksum": "9b1eefc1cc82699da087a51b16d576cc",
     "grade": true,
     "grade_id": "cell-e217ee3c67fb1741",
     "locked": true,
     "points": 2,
     "schema_version": 3,
     "solution": false,
     "task": false
    },
    "outputId": "6f1430b9-d738-4105-c504-017b68e7568e",
    "tags": []
   },
   "outputs": [],
   "source": [
    "# hidden tests, DO NOT MODIFY OR COPY THIS CELL!!"
   ]
  },
  {
   "cell_type": "markdown",
   "metadata": {
    "deletable": false,
    "editable": false,
    "id": "MeiElpzcuJgk",
    "nbgrader": {
     "cell_type": "markdown",
     "checksum": "1a6c626ebd7f4a0e036b7b30a62afe2d",
     "grade": false,
     "grade_id": "cell-9af4a99364cf35b4",
     "locked": true,
     "schema_version": 3,
     "solution": false,
     "task": false
    },
    "tags": []
   },
   "source": [
    "## Task 5: Merge influenza and weather datasets (5 Points)\n",
    "\n",
    "Merge the `data_weather_weekly` and `data_influenza` datasets.\n",
    "Both dataframes should now be on a weekly index. \n",
    "Beware that both datasets contain rows that do not appear in the other dataset."
   ]
  },
  {
   "cell_type": "code",
   "execution_count": 144,
   "metadata": {
    "colab": {
     "base_uri": "https://localhost:8080/"
    },
    "deletable": false,
    "editable": false,
    "id": "PygtKVk8uJgk",
    "nbgrader": {
     "cell_type": "code",
     "checksum": "fd5ce0da72b1eadc1d953bc810bf38d1",
     "grade": true,
     "grade_id": "cell-111898bc4759240a",
     "locked": true,
     "points": 1,
     "schema_version": 3,
     "solution": false,
     "task": false
    },
    "outputId": "c8d9eb35-1bc3-4d52-ca28-e4b84e1d121f",
    "tags": []
   },
   "outputs": [
    {
     "name": "stdout",
     "output_type": "stream",
     "text": [
      "influenza data, missing data (should be 0): \n",
      "weekly_infections    0\n",
      "dtype: int64\n",
      "weather data, missing data (should be 0): \n",
      "date_x               0\n",
      "airPressure          0\n",
      "windBeauf            0\n",
      "skyCover             0\n",
      "temp                 0\n",
      "windDir              0\n",
      "hum                  0\n",
      "month_x              0\n",
      "temp_weeklyMin       0\n",
      "temp_weeklyMax       0\n",
      "temp_weeklyMean      0\n",
      "temp_weeklyMedian    0\n",
      "hum_weeklyMin        0\n",
      "hum_weeklyMax        0\n",
      "hum_weeklyMean       0\n",
      "wind_weeklyMean      0\n",
      "wind_weeklyMax       0\n",
      "wind_weeklyMin       0\n",
      "month_y              0\n",
      "day                  0\n",
      "date_y               0\n",
      "precip               0\n",
      "precipType           0\n",
      "precip_weeklyMin     0\n",
      "precip_weeklyMax     0\n",
      "precip_weeklyMean    0\n",
      "dtype: int64\n"
     ]
    }
   ],
   "source": [
    "# tests, DO NOT MODIFY OR COPY THIS CELL!!\n",
    "# Neither of the tables contain missing data\n",
    "\n",
    "print(f\"influenza data, missing data (should be 0): \\n{data_influenza.isna().sum()}\")\n",
    "print(f\"weather data, missing data (should be 0): \\n{weekly_weather_data.isna().sum()}\")\n",
    "\n",
    "assert not data_influenza.isna().any().any(), \"we should have eliminated all missing values!!\"\n",
    "assert not weekly_weather_data.isna().any().any(), \"we should have eliminated all missing values!!\""
   ]
  },
  {
   "cell_type": "code",
   "execution_count": 145,
   "metadata": {
    "colab": {
     "base_uri": "https://localhost:8080/",
     "height": 1000
    },
    "deletable": false,
    "id": "4YIV8xKZuJgk",
    "nbgrader": {
     "cell_type": "code",
     "checksum": "233b90b0c565bdbc5a0e04508563fe0b",
     "grade": false,
     "grade_id": "cell-c2a5c9759cebd589",
     "locked": false,
     "schema_version": 3,
     "solution": true,
     "task": false
    },
    "outputId": "fee1e259-7ba1-4e0f-f61b-58ad4dc25312",
    "tags": []
   },
   "outputs": [
    {
     "name": "stdout",
     "output_type": "stream",
     "text": [
      "           weekly_infections\n",
      "year week                   \n",
      "2009 40               6600.0\n",
      "     41               7100.0\n",
      "     42               7700.0\n",
      "     43               8300.0\n",
      "     44               8600.0\n",
      "     45              10800.0\n",
      "     46              14400.0\n",
      "     47              15800.0\n",
      "     48              16800.0\n",
      "     49              15300.0\n",
      "              date_x  airPressure  windBeauf  skyCover  temp windDir  hum  \\\n",
      "year week                                                                   \n",
      "2009 1    2009-01-01        999.7        2.0        10  -4.5       W   79   \n",
      "     1    2009-01-01        999.7        2.0        10  -4.5       W   79   \n",
      "     1    2009-01-01        998.8        2.0         5  -0.1      NW   71   \n",
      "     1    2009-01-01        998.8        2.0         5  -0.1      NW   71   \n",
      "     1    2009-01-01       1000.7        2.0        10  -1.8      NW   72   \n",
      "     1    2009-01-01       1000.7        2.0        10  -1.8      NW   72   \n",
      "     1    2009-01-02        988.5        2.0        10  -2.4       E   91   \n",
      "     1    2009-01-02        988.5        2.0        10  -2.4       E   91   \n",
      "     1    2009-01-02        988.2        3.0        10  -0.5      SE   87   \n",
      "     1    2009-01-02        988.2        3.0        10  -0.5      SE   87   \n",
      "\n",
      "           month_x  temp_weeklyMin  temp_weeklyMax  ...  wind_weeklyMax  \\\n",
      "year week                                           ...                   \n",
      "2009 1           1            -4.5            13.4  ...             3.0   \n",
      "     1           1            -4.5            13.4  ...             3.0   \n",
      "     1           1            -4.5            13.4  ...             3.0   \n",
      "     1           1            -4.5            13.4  ...             3.0   \n",
      "     1           1            -4.5            13.4  ...             3.0   \n",
      "     1           1            -4.5            13.4  ...             3.0   \n",
      "     1           1            -4.5            13.4  ...             3.0   \n",
      "     1           1            -4.5            13.4  ...             3.0   \n",
      "     1           1            -4.5            13.4  ...             3.0   \n",
      "     1           1            -4.5            13.4  ...             3.0   \n",
      "\n",
      "           wind_weeklyMin  month_y  day     date_y  precip  precipType  \\\n",
      "year week                                                                \n",
      "2009 1           2.333333        1    2 2009-01-02     0.9        snow   \n",
      "     1           2.333333        1    3 2009-01-03     0.1        rain   \n",
      "     1           2.333333        1    2 2009-01-02     0.9        snow   \n",
      "     1           2.333333        1    3 2009-01-03     0.1        rain   \n",
      "     1           2.333333        1    2 2009-01-02     0.9        snow   \n",
      "     1           2.333333        1    3 2009-01-03     0.1        rain   \n",
      "     1           2.333333        1    2 2009-01-02     0.9        snow   \n",
      "     1           2.333333        1    3 2009-01-03     0.1        rain   \n",
      "     1           2.333333        1    2 2009-01-02     0.9        snow   \n",
      "     1           2.333333        1    3 2009-01-03     0.1        rain   \n",
      "\n",
      "           precip_weeklyMin  precip_weeklyMax  precip_weeklyMean  \n",
      "year week                                                         \n",
      "2009 1                  0.0               0.9               0.25  \n",
      "     1                  0.0               0.9               0.25  \n",
      "     1                  0.0               0.9               0.25  \n",
      "     1                  0.0               0.9               0.25  \n",
      "     1                  0.0               0.9               0.25  \n",
      "     1                  0.0               0.9               0.25  \n",
      "     1                  0.0               0.9               0.25  \n",
      "     1                  0.0               0.9               0.25  \n",
      "     1                  0.0               0.9               0.25  \n",
      "     1                  0.0               0.9               0.25  \n",
      "\n",
      "[10 rows x 26 columns]\n"
     ]
    }
   ],
   "source": [
    "print(data_influenza.head(10))\n",
    "print(weekly_weather_data.head(10))\n"
   ]
  },
  {
   "cell_type": "code",
   "execution_count": 146,
   "metadata": {
    "deletable": false,
    "id": "YSRXSMZfuJgl",
    "nbgrader": {
     "cell_type": "code",
     "checksum": "1ffed0652729f1cc06611ffd331e2c0f",
     "grade": false,
     "grade_id": "cell-b6d550e9d33d1784",
     "locked": false,
     "schema_version": 3,
     "solution": true,
     "task": false
    },
    "tags": []
   },
   "outputs": [],
   "source": [
    "def merge_data(weather_df, influenza_df):\n",
    "    merged_data=pd.DataFrame()\n",
    "    \"\"\" \n",
    "    Parameters\n",
    "    --------\n",
    "    weather_df: weekly weather data frame\n",
    "    influenza_df: influenza data frame\n",
    "    \n",
    "    Returns\n",
    "    --------\n",
    "    merged_data: merged data frame that contains both weekly weather observations and prevalence of influence infections\n",
    "    \"\"\"\n",
    "    frame=[weather_df, influenza_df]\n",
    "    merged_data=pd.concat(frame)\n",
    "   \n",
    "    return merged_data"
   ]
  },
  {
   "cell_type": "code",
   "execution_count": 147,
   "metadata": {
    "colab": {
     "base_uri": "https://localhost:8080/",
     "height": 302
    },
    "deletable": false,
    "editable": false,
    "id": "pBLbdkgjrLZo",
    "nbgrader": {
     "cell_type": "code",
     "checksum": "3b883da0ad1118f1c683f3099a2c2a6f",
     "grade": false,
     "grade_id": "cell-ddb7a1f7f5d45387",
     "locked": true,
     "schema_version": 3,
     "solution": false,
     "task": false
    },
    "outputId": "f046dcb1-b977-4c72-8a28-fc7edd87b9d0",
    "tags": []
   },
   "outputs": [
    {
     "data": {
      "text/html": [
       "<div>\n",
       "<style scoped>\n",
       "    .dataframe tbody tr th:only-of-type {\n",
       "        vertical-align: middle;\n",
       "    }\n",
       "\n",
       "    .dataframe tbody tr th {\n",
       "        vertical-align: top;\n",
       "    }\n",
       "\n",
       "    .dataframe thead th {\n",
       "        text-align: right;\n",
       "    }\n",
       "</style>\n",
       "<table border=\"1\" class=\"dataframe\">\n",
       "  <thead>\n",
       "    <tr style=\"text-align: right;\">\n",
       "      <th></th>\n",
       "      <th></th>\n",
       "      <th>date_x</th>\n",
       "      <th>airPressure</th>\n",
       "      <th>windBeauf</th>\n",
       "      <th>skyCover</th>\n",
       "      <th>temp</th>\n",
       "      <th>windDir</th>\n",
       "      <th>hum</th>\n",
       "      <th>month_x</th>\n",
       "      <th>temp_weeklyMin</th>\n",
       "      <th>temp_weeklyMax</th>\n",
       "      <th>...</th>\n",
       "      <th>wind_weeklyMin</th>\n",
       "      <th>month_y</th>\n",
       "      <th>day</th>\n",
       "      <th>date_y</th>\n",
       "      <th>precip</th>\n",
       "      <th>precipType</th>\n",
       "      <th>precip_weeklyMin</th>\n",
       "      <th>precip_weeklyMax</th>\n",
       "      <th>precip_weeklyMean</th>\n",
       "      <th>weekly_infections</th>\n",
       "    </tr>\n",
       "    <tr>\n",
       "      <th>year</th>\n",
       "      <th>week</th>\n",
       "      <th></th>\n",
       "      <th></th>\n",
       "      <th></th>\n",
       "      <th></th>\n",
       "      <th></th>\n",
       "      <th></th>\n",
       "      <th></th>\n",
       "      <th></th>\n",
       "      <th></th>\n",
       "      <th></th>\n",
       "      <th></th>\n",
       "      <th></th>\n",
       "      <th></th>\n",
       "      <th></th>\n",
       "      <th></th>\n",
       "      <th></th>\n",
       "      <th></th>\n",
       "      <th></th>\n",
       "      <th></th>\n",
       "      <th></th>\n",
       "      <th></th>\n",
       "    </tr>\n",
       "  </thead>\n",
       "  <tbody>\n",
       "    <tr>\n",
       "      <th rowspan=\"5\" valign=\"top\">2009</th>\n",
       "      <th>1</th>\n",
       "      <td>2009-01-01</td>\n",
       "      <td>999.7</td>\n",
       "      <td>2.0</td>\n",
       "      <td>10.0</td>\n",
       "      <td>-4.5</td>\n",
       "      <td>W</td>\n",
       "      <td>79.0</td>\n",
       "      <td>1.0</td>\n",
       "      <td>-4.5</td>\n",
       "      <td>13.4</td>\n",
       "      <td>...</td>\n",
       "      <td>2.333333</td>\n",
       "      <td>1.0</td>\n",
       "      <td>2.0</td>\n",
       "      <td>2009-01-02</td>\n",
       "      <td>0.9</td>\n",
       "      <td>snow</td>\n",
       "      <td>0.0</td>\n",
       "      <td>0.9</td>\n",
       "      <td>0.25</td>\n",
       "      <td>NaN</td>\n",
       "    </tr>\n",
       "    <tr>\n",
       "      <th>1</th>\n",
       "      <td>2009-01-01</td>\n",
       "      <td>999.7</td>\n",
       "      <td>2.0</td>\n",
       "      <td>10.0</td>\n",
       "      <td>-4.5</td>\n",
       "      <td>W</td>\n",
       "      <td>79.0</td>\n",
       "      <td>1.0</td>\n",
       "      <td>-4.5</td>\n",
       "      <td>13.4</td>\n",
       "      <td>...</td>\n",
       "      <td>2.333333</td>\n",
       "      <td>1.0</td>\n",
       "      <td>3.0</td>\n",
       "      <td>2009-01-03</td>\n",
       "      <td>0.1</td>\n",
       "      <td>rain</td>\n",
       "      <td>0.0</td>\n",
       "      <td>0.9</td>\n",
       "      <td>0.25</td>\n",
       "      <td>NaN</td>\n",
       "    </tr>\n",
       "    <tr>\n",
       "      <th>1</th>\n",
       "      <td>2009-01-01</td>\n",
       "      <td>998.8</td>\n",
       "      <td>2.0</td>\n",
       "      <td>5.0</td>\n",
       "      <td>-0.1</td>\n",
       "      <td>NW</td>\n",
       "      <td>71.0</td>\n",
       "      <td>1.0</td>\n",
       "      <td>-4.5</td>\n",
       "      <td>13.4</td>\n",
       "      <td>...</td>\n",
       "      <td>2.333333</td>\n",
       "      <td>1.0</td>\n",
       "      <td>2.0</td>\n",
       "      <td>2009-01-02</td>\n",
       "      <td>0.9</td>\n",
       "      <td>snow</td>\n",
       "      <td>0.0</td>\n",
       "      <td>0.9</td>\n",
       "      <td>0.25</td>\n",
       "      <td>NaN</td>\n",
       "    </tr>\n",
       "    <tr>\n",
       "      <th>1</th>\n",
       "      <td>2009-01-01</td>\n",
       "      <td>998.8</td>\n",
       "      <td>2.0</td>\n",
       "      <td>5.0</td>\n",
       "      <td>-0.1</td>\n",
       "      <td>NW</td>\n",
       "      <td>71.0</td>\n",
       "      <td>1.0</td>\n",
       "      <td>-4.5</td>\n",
       "      <td>13.4</td>\n",
       "      <td>...</td>\n",
       "      <td>2.333333</td>\n",
       "      <td>1.0</td>\n",
       "      <td>3.0</td>\n",
       "      <td>2009-01-03</td>\n",
       "      <td>0.1</td>\n",
       "      <td>rain</td>\n",
       "      <td>0.0</td>\n",
       "      <td>0.9</td>\n",
       "      <td>0.25</td>\n",
       "      <td>NaN</td>\n",
       "    </tr>\n",
       "    <tr>\n",
       "      <th>1</th>\n",
       "      <td>2009-01-01</td>\n",
       "      <td>1000.7</td>\n",
       "      <td>2.0</td>\n",
       "      <td>10.0</td>\n",
       "      <td>-1.8</td>\n",
       "      <td>NW</td>\n",
       "      <td>72.0</td>\n",
       "      <td>1.0</td>\n",
       "      <td>-4.5</td>\n",
       "      <td>13.4</td>\n",
       "      <td>...</td>\n",
       "      <td>2.333333</td>\n",
       "      <td>1.0</td>\n",
       "      <td>2.0</td>\n",
       "      <td>2009-01-02</td>\n",
       "      <td>0.9</td>\n",
       "      <td>snow</td>\n",
       "      <td>0.0</td>\n",
       "      <td>0.9</td>\n",
       "      <td>0.25</td>\n",
       "      <td>NaN</td>\n",
       "    </tr>\n",
       "  </tbody>\n",
       "</table>\n",
       "<p>5 rows × 27 columns</p>\n",
       "</div>"
      ],
      "text/plain": [
       "              date_x  airPressure  windBeauf  skyCover  temp windDir   hum  \\\n",
       "year week                                                                    \n",
       "2009 1    2009-01-01        999.7        2.0      10.0  -4.5       W  79.0   \n",
       "     1    2009-01-01        999.7        2.0      10.0  -4.5       W  79.0   \n",
       "     1    2009-01-01        998.8        2.0       5.0  -0.1      NW  71.0   \n",
       "     1    2009-01-01        998.8        2.0       5.0  -0.1      NW  71.0   \n",
       "     1    2009-01-01       1000.7        2.0      10.0  -1.8      NW  72.0   \n",
       "\n",
       "           month_x  temp_weeklyMin  temp_weeklyMax  ...  wind_weeklyMin  \\\n",
       "year week                                           ...                   \n",
       "2009 1         1.0            -4.5            13.4  ...        2.333333   \n",
       "     1         1.0            -4.5            13.4  ...        2.333333   \n",
       "     1         1.0            -4.5            13.4  ...        2.333333   \n",
       "     1         1.0            -4.5            13.4  ...        2.333333   \n",
       "     1         1.0            -4.5            13.4  ...        2.333333   \n",
       "\n",
       "           month_y  day     date_y  precip  precipType  precip_weeklyMin  \\\n",
       "year week                                                                  \n",
       "2009 1         1.0  2.0 2009-01-02     0.9        snow               0.0   \n",
       "     1         1.0  3.0 2009-01-03     0.1        rain               0.0   \n",
       "     1         1.0  2.0 2009-01-02     0.9        snow               0.0   \n",
       "     1         1.0  3.0 2009-01-03     0.1        rain               0.0   \n",
       "     1         1.0  2.0 2009-01-02     0.9        snow               0.0   \n",
       "\n",
       "           precip_weeklyMax  precip_weeklyMean  weekly_infections  \n",
       "year week                                                          \n",
       "2009 1                  0.9               0.25                NaN  \n",
       "     1                  0.9               0.25                NaN  \n",
       "     1                  0.9               0.25                NaN  \n",
       "     1                  0.9               0.25                NaN  \n",
       "     1                  0.9               0.25                NaN  \n",
       "\n",
       "[5 rows x 27 columns]"
      ]
     },
     "execution_count": 147,
     "metadata": {},
     "output_type": "execute_result"
    }
   ],
   "source": [
    "# DO NOT MODIFY OR COPY THIS CELL!!\n",
    "data_merged = merge_data(weekly_weather_data, data_influenza)\n",
    "data_merged.head()"
   ]
  },
  {
   "cell_type": "code",
   "execution_count": 148,
   "metadata": {
    "colab": {
     "base_uri": "https://localhost:8080/"
    },
    "deletable": false,
    "editable": false,
    "id": "yN7rqDQpuJgm",
    "nbgrader": {
     "cell_type": "code",
     "checksum": "f2b63ce94c8dc67ca2687fe9e92ae138",
     "grade": true,
     "grade_id": "cell-e0d6c1545e449bb1",
     "locked": true,
     "points": 5,
     "schema_version": 3,
     "solution": false,
     "task": false
    },
    "outputId": "7aa3184d-5f15-46fd-8818-95ffef99940a",
    "tags": []
   },
   "outputs": [
    {
     "name": "stdout",
     "output_type": "stream",
     "text": [
      "(57487, 27)\n"
     ]
    }
   ],
   "source": [
    "# tests, DO NOT MODIFY OR COPY THIS CELL!!\n",
    "print(data_merged.shape)\n",
    "assert data_merged.shape[0] > 300, \"there should be more than 300 rows in the merged dataset\"\n",
    "assert data_merged.shape[1] >= 14, \"1 column for infections, 13 feature columns from weather data\"\n"
   ]
  },
  {
   "cell_type": "markdown",
   "metadata": {
    "deletable": false,
    "editable": false,
    "id": "3dQV_RQ6uJgm",
    "nbgrader": {
     "cell_type": "markdown",
     "checksum": "ead9dfadc622b46edb862142a2866fad",
     "grade": false,
     "grade_id": "cell-fb92d88b113325d0",
     "locked": true,
     "schema_version": 3,
     "solution": false,
     "task": false
    },
    "tags": []
   },
   "source": [
    "## Store processed data for Tasks 6-8\n",
    "\n",
    "Here we export the prepared dataset for usage in the notebook B.\n",
    "If you encounter problems with the first five tasks, you can load a pickled `DataFrame` containing already merged and preprocessed weather and influenza datasets. You can use this data to complete tasks 6-8 in notebook B. "
   ]
  },
  {
   "cell_type": "code",
   "execution_count": 149,
   "metadata": {
    "colab": {
     "base_uri": "https://localhost:8080/"
    },
    "deletable": false,
    "editable": false,
    "id": "xjxAAZwRseLp",
    "nbgrader": {
     "cell_type": "code",
     "checksum": "94c06064256bc6763380bbcaf1ec552e",
     "grade": false,
     "grade_id": "cell-040d46e1d89222ab",
     "locked": true,
     "schema_version": 3,
     "solution": false,
     "task": false
    },
    "outputId": "8d44afda-6e44-40c7-ffb5-6626744712c4",
    "tags": []
   },
   "outputs": [],
   "source": [
    "with open(os.path.join(os.path.expanduser( '~' ), \"data_processed.pickle\"),\"wb\") as fp:\n",
    "    pickle.dump(data_merged, fp)  "
   ]
  },
  {
   "cell_type": "markdown",
   "metadata": {
    "deletable": false,
    "editable": false,
    "nbgrader": {
     "cell_type": "markdown",
     "checksum": "0f2ad958f54781664d7039fb2ee0f9fa",
     "grade": false,
     "grade_id": "cell-6dea3a445dfffe71",
     "locked": true,
     "schema_version": 3,
     "solution": false,
     "task": false
    },
    "tags": []
   },
   "source": [
    "## Congratulations, you are done!\n",
    "\n",
    "Reminder:\n",
    "Before you turn this assignment in, make sure everything runs as expected. First, **restart the kernel** (in the menubar, select Kernel$\\rightarrow$Restart) and then **run all cells** (in the menubar, select Cell$\\rightarrow$Run All)."
   ]
  },
  {
   "cell_type": "code",
   "execution_count": null,
   "metadata": {},
   "outputs": [],
   "source": []
  },
  {
   "cell_type": "code",
   "execution_count": null,
   "metadata": {},
   "outputs": [],
   "source": []
  },
  {
   "cell_type": "code",
   "execution_count": null,
   "metadata": {},
   "outputs": [],
   "source": []
  }
 ],
 "metadata": {
  "colab": {
   "collapsed_sections": [],
   "provenance": [],
   "toc_visible": true
  },
  "hide_input": false,
  "kernelspec": {
   "display_name": "Python 3 (ipykernel)",
   "language": "python",
   "name": "python3"
  },
  "language_info": {
   "codemirror_mode": {
    "name": "ipython",
    "version": 3
   },
   "file_extension": ".py",
   "mimetype": "text/x-python",
   "name": "python",
   "nbconvert_exporter": "python",
   "pygments_lexer": "ipython3",
   "version": "3.10.6"
  }
 },
 "nbformat": 4,
 "nbformat_minor": 4
}
