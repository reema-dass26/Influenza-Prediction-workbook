{
 "cells": [
  {
   "cell_type": "markdown",
   "id": "34595dfd-1eda-461a-ba39-a9301b8ce42c",
   "metadata": {},
   "source": [
    "Step 1: Install Dependencies\n",
    "mlflow.end_run()"
   ]
  },
  {
   "cell_type": "code",
   "execution_count": 1,
   "id": "489932f3-4ccf-41d0-bf27-e35eb95038f5",
   "metadata": {},
   "outputs": [],
   "source": [
    "# mlflow.end_run()"
   ]
  },
  {
   "cell_type": "code",
   "execution_count": 2,
   "id": "57e67143-2694-439c-b687-9595c5ea7cbb",
   "metadata": {
    "scrolled": true
   },
   "outputs": [
    {
     "name": "stdout",
     "output_type": "stream",
     "text": [
      "Requirement already satisfied: pip in c:\\users\\reema\\anaconda3\\lib\\site-packages (24.3.1)\n",
      "Collecting pip\n",
      "  Using cached pip-25.0.1-py3-none-any.whl.metadata (3.7 kB)\n",
      "Using cached pip-25.0.1-py3-none-any.whl (1.8 MB)\n"
     ]
    },
    {
     "name": "stderr",
     "output_type": "stream",
     "text": [
      "WARNING: Ignoring invalid distribution ~lflow (C:\\Users\\reema\\anaconda3\\Lib\\site-packages)\n",
      "WARNING: Ignoring invalid distribution ~lflow-skinny (C:\\Users\\reema\\anaconda3\\Lib\\site-packages)\n",
      "\n",
      "[notice] A new release of pip is available: 24.3.1 -> 25.0.1\n",
      "[notice] To update, run: python.exe -m pip install --upgrade pip\n",
      "ERROR: To modify pip, please run the following command:\n",
      "C:\\Users\\reema\\anaconda3\\python.exe -m pip install --upgrade pip\n"
     ]
    },
    {
     "name": "stdout",
     "output_type": "stream",
     "text": [
      "Requirement already satisfied: mlflow in c:\\users\\reema\\anaconda3\\lib\\site-packages (2.21.2)\n",
      "Requirement already satisfied: scikit-learn in c:\\users\\reema\\anaconda3\\lib\\site-packages (1.3.0)\n",
      "Requirement already satisfied: mlflow-skinny==2.21.2 in c:\\users\\reema\\anaconda3\\lib\\site-packages (from mlflow) (2.21.2)\n",
      "Requirement already satisfied: Flask<4 in c:\\users\\reema\\anaconda3\\lib\\site-packages (from mlflow) (3.0.3)\n",
      "Requirement already satisfied: Jinja2<4,>=3.0 in c:\\users\\reema\\anaconda3\\lib\\site-packages (from mlflow) (3.1.2)\n",
      "Requirement already satisfied: alembic!=1.10.0,<2 in c:\\users\\reema\\anaconda3\\lib\\site-packages (from mlflow) (1.14.0)\n",
      "Requirement already satisfied: docker<8,>=4.0.0 in c:\\users\\reema\\anaconda3\\lib\\site-packages (from mlflow) (7.1.0)\n",
      "Requirement already satisfied: graphene<4 in c:\\users\\reema\\anaconda3\\lib\\site-packages (from mlflow) (3.4.3)\n",
      "Requirement already satisfied: markdown<4,>=3.3 in c:\\users\\reema\\anaconda3\\lib\\site-packages (from mlflow) (3.7)\n",
      "Requirement already satisfied: matplotlib<4 in c:\\users\\reema\\anaconda3\\lib\\site-packages (from mlflow) (3.7.2)\n",
      "Requirement already satisfied: numpy<3 in c:\\users\\reema\\anaconda3\\lib\\site-packages (from mlflow) (1.24.3)\n",
      "Requirement already satisfied: pandas<3 in c:\\users\\reema\\anaconda3\\lib\\site-packages (from mlflow) (2.0.3)\n",
      "Requirement already satisfied: pyarrow<20,>=4.0.0 in c:\\users\\reema\\anaconda3\\lib\\site-packages (from mlflow) (11.0.0)\n",
      "Requirement already satisfied: scipy<2 in c:\\users\\reema\\anaconda3\\lib\\site-packages (from mlflow) (1.11.1)\n",
      "Requirement already satisfied: sqlalchemy<3,>=1.4.0 in c:\\users\\reema\\anaconda3\\lib\\site-packages (from mlflow) (2.0.37)\n",
      "Requirement already satisfied: waitress<4 in c:\\users\\reema\\anaconda3\\lib\\site-packages (from mlflow) (3.0.2)\n",
      "Requirement already satisfied: cachetools<6,>=5.0.0 in c:\\users\\reema\\anaconda3\\lib\\site-packages (from mlflow-skinny==2.21.2->mlflow) (5.5.2)\n",
      "Requirement already satisfied: click<9,>=7.0 in c:\\users\\reema\\anaconda3\\lib\\site-packages (from mlflow-skinny==2.21.2->mlflow) (8.1.8)\n",
      "Requirement already satisfied: cloudpickle<4 in c:\\users\\reema\\anaconda3\\lib\\site-packages (from mlflow-skinny==2.21.2->mlflow) (2.2.1)\n",
      "Requirement already satisfied: databricks-sdk<1,>=0.20.0 in c:\\users\\reema\\anaconda3\\lib\\site-packages (from mlflow-skinny==2.21.2->mlflow) (0.45.0)\n",
      "Requirement already satisfied: fastapi<1 in c:\\users\\reema\\anaconda3\\lib\\site-packages (from mlflow-skinny==2.21.2->mlflow) (0.115.12)\n",
      "Requirement already satisfied: gitpython<4,>=3.1.9 in c:\\users\\reema\\anaconda3\\lib\\site-packages (from mlflow-skinny==2.21.2->mlflow) (3.1.43)\n",
      "Requirement already satisfied: importlib_metadata!=4.7.0,<9,>=3.7.0 in c:\\users\\reema\\anaconda3\\lib\\site-packages (from mlflow-skinny==2.21.2->mlflow) (6.0.0)\n",
      "Requirement already satisfied: opentelemetry-api<3,>=1.9.0 in c:\\users\\reema\\anaconda3\\lib\\site-packages (from mlflow-skinny==2.21.2->mlflow) (1.30.0)\n",
      "Requirement already satisfied: opentelemetry-sdk<3,>=1.9.0 in c:\\users\\reema\\anaconda3\\lib\\site-packages (from mlflow-skinny==2.21.2->mlflow) (1.30.0)\n",
      "Requirement already satisfied: packaging<25 in c:\\users\\reema\\anaconda3\\lib\\site-packages (from mlflow-skinny==2.21.2->mlflow) (23.1)\n",
      "Requirement already satisfied: protobuf<6,>=3.12.0 in c:\\users\\reema\\anaconda3\\lib\\site-packages (from mlflow-skinny==2.21.2->mlflow) (5.29.3)\n",
      "Requirement already satisfied: pydantic<3,>=1.10.8 in c:\\users\\reema\\anaconda3\\lib\\site-packages (from mlflow-skinny==2.21.2->mlflow) (2.10.3)\n",
      "Requirement already satisfied: pyyaml<7,>=5.1 in c:\\users\\reema\\anaconda3\\lib\\site-packages (from mlflow-skinny==2.21.2->mlflow) (6.0)\n",
      "Requirement already satisfied: requests<3,>=2.17.3 in c:\\users\\reema\\anaconda3\\lib\\site-packages (from mlflow-skinny==2.21.2->mlflow) (2.31.0)\n",
      "Requirement already satisfied: sqlparse<1,>=0.4.0 in c:\\users\\reema\\anaconda3\\lib\\site-packages (from mlflow-skinny==2.21.2->mlflow) (0.5.3)\n",
      "Requirement already satisfied: typing-extensions<5,>=4.0.0 in c:\\users\\reema\\anaconda3\\lib\\site-packages (from mlflow-skinny==2.21.2->mlflow) (4.12.2)\n",
      "Requirement already satisfied: uvicorn<1 in c:\\users\\reema\\anaconda3\\lib\\site-packages (from mlflow-skinny==2.21.2->mlflow) (0.34.0)\n",
      "Requirement already satisfied: joblib>=1.1.1 in c:\\users\\reema\\anaconda3\\lib\\site-packages (from scikit-learn) (1.2.0)\n",
      "Requirement already satisfied: threadpoolctl>=2.0.0 in c:\\users\\reema\\anaconda3\\lib\\site-packages (from scikit-learn) (2.2.0)\n",
      "Requirement already satisfied: Mako in c:\\users\\reema\\anaconda3\\lib\\site-packages (from alembic!=1.10.0,<2->mlflow) (1.3.8)\n",
      "Requirement already satisfied: pywin32>=304 in c:\\users\\reema\\appdata\\roaming\\python\\python311\\site-packages (from docker<8,>=4.0.0->mlflow) (306)\n",
      "Requirement already satisfied: urllib3>=1.26.0 in c:\\users\\reema\\anaconda3\\lib\\site-packages (from docker<8,>=4.0.0->mlflow) (1.26.16)\n",
      "Requirement already satisfied: Werkzeug>=3.0.0 in c:\\users\\reema\\anaconda3\\lib\\site-packages (from Flask<4->mlflow) (3.0.6)\n",
      "Requirement already satisfied: itsdangerous>=2.1.2 in c:\\users\\reema\\anaconda3\\lib\\site-packages (from Flask<4->mlflow) (2.2.0)\n",
      "Requirement already satisfied: blinker>=1.6.2 in c:\\users\\reema\\anaconda3\\lib\\site-packages (from Flask<4->mlflow) (1.9.0)\n",
      "Requirement already satisfied: graphql-core<3.3,>=3.1 in c:\\users\\reema\\anaconda3\\lib\\site-packages (from graphene<4->mlflow) (3.2.6)\n",
      "Requirement already satisfied: graphql-relay<3.3,>=3.1 in c:\\users\\reema\\anaconda3\\lib\\site-packages (from graphene<4->mlflow) (3.2.0)\n",
      "Requirement already satisfied: python-dateutil<3,>=2.7.0 in c:\\users\\reema\\anaconda3\\lib\\site-packages (from graphene<4->mlflow) (2.8.2)\n",
      "Requirement already satisfied: MarkupSafe>=2.0 in c:\\users\\reema\\anaconda3\\lib\\site-packages (from Jinja2<4,>=3.0->mlflow) (2.1.1)\n",
      "Requirement already satisfied: contourpy>=1.0.1 in c:\\users\\reema\\anaconda3\\lib\\site-packages (from matplotlib<4->mlflow) (1.0.5)\n",
      "Requirement already satisfied: cycler>=0.10 in c:\\users\\reema\\anaconda3\\lib\\site-packages (from matplotlib<4->mlflow) (0.11.0)\n",
      "Requirement already satisfied: fonttools>=4.22.0 in c:\\users\\reema\\anaconda3\\lib\\site-packages (from matplotlib<4->mlflow) (4.25.0)\n",
      "Requirement already satisfied: kiwisolver>=1.0.1 in c:\\users\\reema\\anaconda3\\lib\\site-packages (from matplotlib<4->mlflow) (1.4.4)\n",
      "Requirement already satisfied: pillow>=6.2.0 in c:\\users\\reema\\anaconda3\\lib\\site-packages (from matplotlib<4->mlflow) (9.4.0)\n",
      "Requirement already satisfied: pyparsing<3.1,>=2.3.1 in c:\\users\\reema\\anaconda3\\lib\\site-packages (from matplotlib<4->mlflow) (3.0.9)\n",
      "Requirement already satisfied: pytz>=2020.1 in c:\\users\\reema\\anaconda3\\lib\\site-packages (from pandas<3->mlflow) (2023.3.post1)\n",
      "Requirement already satisfied: tzdata>=2022.1 in c:\\users\\reema\\anaconda3\\lib\\site-packages (from pandas<3->mlflow) (2023.3)\n",
      "Requirement already satisfied: greenlet!=0.4.17 in c:\\users\\reema\\anaconda3\\lib\\site-packages (from sqlalchemy<3,>=1.4.0->mlflow) (2.0.1)\n",
      "Requirement already satisfied: colorama in c:\\users\\reema\\appdata\\roaming\\python\\python311\\site-packages (from click<9,>=7.0->mlflow-skinny==2.21.2->mlflow) (0.4.6)\n",
      "Requirement already satisfied: google-auth~=2.0 in c:\\users\\reema\\anaconda3\\lib\\site-packages (from databricks-sdk<1,>=0.20.0->mlflow-skinny==2.21.2->mlflow) (2.38.0)\n",
      "Requirement already satisfied: starlette<0.47.0,>=0.40.0 in c:\\users\\reema\\anaconda3\\lib\\site-packages (from fastapi<1->mlflow-skinny==2.21.2->mlflow) (0.46.1)\n",
      "Requirement already satisfied: gitdb<5,>=4.0.1 in c:\\users\\reema\\anaconda3\\lib\\site-packages (from gitpython<4,>=3.1.9->mlflow-skinny==2.21.2->mlflow) (4.0.11)\n",
      "Requirement already satisfied: zipp>=0.5 in c:\\users\\reema\\anaconda3\\lib\\site-packages (from importlib_metadata!=4.7.0,<9,>=3.7.0->mlflow-skinny==2.21.2->mlflow) (3.11.0)\n",
      "Requirement already satisfied: deprecated>=1.2.6 in c:\\users\\reema\\anaconda3\\lib\\site-packages (from opentelemetry-api<3,>=1.9.0->mlflow-skinny==2.21.2->mlflow) (1.2.18)\n",
      "Requirement already satisfied: opentelemetry-semantic-conventions==0.51b0 in c:\\users\\reema\\anaconda3\\lib\\site-packages (from opentelemetry-sdk<3,>=1.9.0->mlflow-skinny==2.21.2->mlflow) (0.51b0)\n",
      "Requirement already satisfied: annotated-types>=0.6.0 in c:\\users\\reema\\anaconda3\\lib\\site-packages (from pydantic<3,>=1.10.8->mlflow-skinny==2.21.2->mlflow) (0.7.0)\n",
      "Requirement already satisfied: pydantic-core==2.27.1 in c:\\users\\reema\\anaconda3\\lib\\site-packages (from pydantic<3,>=1.10.8->mlflow-skinny==2.21.2->mlflow) (2.27.1)\n",
      "Requirement already satisfied: six>=1.5 in c:\\users\\reema\\anaconda3\\lib\\site-packages (from python-dateutil<3,>=2.7.0->graphene<4->mlflow) (1.16.0)\n",
      "Requirement already satisfied: charset-normalizer<4,>=2 in c:\\users\\reema\\anaconda3\\lib\\site-packages (from requests<3,>=2.17.3->mlflow-skinny==2.21.2->mlflow) (2.0.4)\n",
      "Requirement already satisfied: idna<4,>=2.5 in c:\\users\\reema\\anaconda3\\lib\\site-packages (from requests<3,>=2.17.3->mlflow-skinny==2.21.2->mlflow) (3.4)\n",
      "Requirement already satisfied: certifi>=2017.4.17 in c:\\users\\reema\\anaconda3\\lib\\site-packages (from requests<3,>=2.17.3->mlflow-skinny==2.21.2->mlflow) (2023.7.22)\n",
      "Requirement already satisfied: h11>=0.8 in c:\\users\\reema\\anaconda3\\lib\\site-packages (from uvicorn<1->mlflow-skinny==2.21.2->mlflow) (0.14.0)\n",
      "Requirement already satisfied: wrapt<2,>=1.10 in c:\\users\\reema\\anaconda3\\lib\\site-packages (from deprecated>=1.2.6->opentelemetry-api<3,>=1.9.0->mlflow-skinny==2.21.2->mlflow) (1.14.1)\n",
      "Requirement already satisfied: smmap<6,>=3.0.1 in c:\\users\\reema\\anaconda3\\lib\\site-packages (from gitdb<5,>=4.0.1->gitpython<4,>=3.1.9->mlflow-skinny==2.21.2->mlflow) (5.0.1)\n",
      "Requirement already satisfied: pyasn1-modules>=0.2.1 in c:\\users\\reema\\anaconda3\\lib\\site-packages (from google-auth~=2.0->databricks-sdk<1,>=0.20.0->mlflow-skinny==2.21.2->mlflow) (0.2.8)\n",
      "Requirement already satisfied: rsa<5,>=3.1.4 in c:\\users\\reema\\anaconda3\\lib\\site-packages (from google-auth~=2.0->databricks-sdk<1,>=0.20.0->mlflow-skinny==2.21.2->mlflow) (4.9)\n",
      "Requirement already satisfied: anyio<5,>=3.6.2 in c:\\users\\reema\\anaconda3\\lib\\site-packages (from starlette<0.47.0,>=0.40.0->fastapi<1->mlflow-skinny==2.21.2->mlflow) (4.9.0)\n",
      "Requirement already satisfied: sniffio>=1.1 in c:\\users\\reema\\anaconda3\\lib\\site-packages (from anyio<5,>=3.6.2->starlette<0.47.0,>=0.40.0->fastapi<1->mlflow-skinny==2.21.2->mlflow) (1.2.0)\n",
      "Requirement already satisfied: pyasn1<0.5.0,>=0.4.6 in c:\\users\\reema\\anaconda3\\lib\\site-packages (from pyasn1-modules>=0.2.1->google-auth~=2.0->databricks-sdk<1,>=0.20.0->mlflow-skinny==2.21.2->mlflow) (0.4.8)\n"
     ]
    },
    {
     "name": "stderr",
     "output_type": "stream",
     "text": [
      "WARNING: Ignoring invalid distribution ~lflow (C:\\Users\\reema\\anaconda3\\Lib\\site-packages)\n",
      "WARNING: Ignoring invalid distribution ~lflow-skinny (C:\\Users\\reema\\anaconda3\\Lib\\site-packages)\n",
      "WARNING: Ignoring invalid distribution ~lflow (C:\\Users\\reema\\anaconda3\\Lib\\site-packages)\n",
      "WARNING: Ignoring invalid distribution ~lflow-skinny (C:\\Users\\reema\\anaconda3\\Lib\\site-packages)\n",
      "WARNING: Ignoring invalid distribution ~lflow (C:\\Users\\reema\\anaconda3\\Lib\\site-packages)\n",
      "WARNING: Ignoring invalid distribution ~lflow-skinny (C:\\Users\\reema\\anaconda3\\Lib\\site-packages)\n",
      "\n",
      "[notice] A new release of pip is available: 24.3.1 -> 25.0.1\n",
      "[notice] To update, run: python.exe -m pip install --upgrade pip\n"
     ]
    },
    {
     "name": "stdout",
     "output_type": "stream",
     "text": [
      "Requirement already satisfied: ipynbname in c:\\users\\reema\\anaconda3\\lib\\site-packages (2024.1.0.0)\n",
      "Requirement already satisfied: ipykernel in c:\\users\\reema\\appdata\\roaming\\python\\python311\\site-packages (from ipynbname) (6.23.2)\n",
      "Requirement already satisfied: comm>=0.1.1 in c:\\users\\reema\\appdata\\roaming\\python\\python311\\site-packages (from ipykernel->ipynbname) (0.1.3)\n",
      "Requirement already satisfied: debugpy>=1.6.5 in c:\\users\\reema\\appdata\\roaming\\python\\python311\\site-packages (from ipykernel->ipynbname) (1.6.7)\n",
      "Requirement already satisfied: ipython>=7.23.1 in c:\\users\\reema\\appdata\\roaming\\python\\python311\\site-packages (from ipykernel->ipynbname) (8.14.0)\n",
      "Requirement already satisfied: jupyter-client>=6.1.12 in c:\\users\\reema\\appdata\\roaming\\python\\python311\\site-packages (from ipykernel->ipynbname) (8.2.0)\n",
      "Requirement already satisfied: jupyter-core!=5.0.*,>=4.12 in c:\\users\\reema\\appdata\\roaming\\python\\python311\\site-packages (from ipykernel->ipynbname) (5.3.0)\n",
      "Requirement already satisfied: matplotlib-inline>=0.1 in c:\\users\\reema\\appdata\\roaming\\python\\python311\\site-packages (from ipykernel->ipynbname) (0.1.6)\n",
      "Requirement already satisfied: nest-asyncio in c:\\users\\reema\\appdata\\roaming\\python\\python311\\site-packages (from ipykernel->ipynbname) (1.5.6)\n",
      "Requirement already satisfied: packaging in c:\\users\\reema\\anaconda3\\lib\\site-packages (from ipykernel->ipynbname) (23.1)\n",
      "Requirement already satisfied: psutil in c:\\users\\reema\\appdata\\roaming\\python\\python311\\site-packages (from ipykernel->ipynbname) (5.9.5)\n",
      "Requirement already satisfied: pyzmq>=20 in c:\\users\\reema\\appdata\\roaming\\python\\python311\\site-packages (from ipykernel->ipynbname) (25.1.0)\n",
      "Requirement already satisfied: tornado>=6.1 in c:\\users\\reema\\appdata\\roaming\\python\\python311\\site-packages (from ipykernel->ipynbname) (6.3.2)\n",
      "Requirement already satisfied: traitlets>=5.4.0 in c:\\users\\reema\\appdata\\roaming\\python\\python311\\site-packages (from ipykernel->ipynbname) (5.9.0)\n",
      "Requirement already satisfied: backcall in c:\\users\\reema\\appdata\\roaming\\python\\python311\\site-packages (from ipython>=7.23.1->ipykernel->ipynbname) (0.2.0)\n",
      "Requirement already satisfied: decorator in c:\\users\\reema\\appdata\\roaming\\python\\python311\\site-packages (from ipython>=7.23.1->ipykernel->ipynbname) (5.1.1)\n",
      "Requirement already satisfied: jedi>=0.16 in c:\\users\\reema\\appdata\\roaming\\python\\python311\\site-packages (from ipython>=7.23.1->ipykernel->ipynbname) (0.18.2)\n",
      "Requirement already satisfied: pickleshare in c:\\users\\reema\\appdata\\roaming\\python\\python311\\site-packages (from ipython>=7.23.1->ipykernel->ipynbname) (0.7.5)\n",
      "Requirement already satisfied: prompt-toolkit!=3.0.37,<3.1.0,>=3.0.30 in c:\\users\\reema\\appdata\\roaming\\python\\python311\\site-packages (from ipython>=7.23.1->ipykernel->ipynbname) (3.0.38)\n",
      "Requirement already satisfied: pygments>=2.4.0 in c:\\users\\reema\\anaconda3\\lib\\site-packages (from ipython>=7.23.1->ipykernel->ipynbname) (2.18.0)\n",
      "Requirement already satisfied: stack-data in c:\\users\\reema\\appdata\\roaming\\python\\python311\\site-packages (from ipython>=7.23.1->ipykernel->ipynbname) (0.6.2)\n",
      "Requirement already satisfied: colorama in c:\\users\\reema\\appdata\\roaming\\python\\python311\\site-packages (from ipython>=7.23.1->ipykernel->ipynbname) (0.4.6)\n",
      "Requirement already satisfied: python-dateutil>=2.8.2 in c:\\users\\reema\\anaconda3\\lib\\site-packages (from jupyter-client>=6.1.12->ipykernel->ipynbname) (2.8.2)\n",
      "Requirement already satisfied: platformdirs>=2.5 in c:\\users\\reema\\anaconda3\\lib\\site-packages (from jupyter-core!=5.0.*,>=4.12->ipykernel->ipynbname) (3.10.0)\n",
      "Requirement already satisfied: pywin32>=300 in c:\\users\\reema\\appdata\\roaming\\python\\python311\\site-packages (from jupyter-core!=5.0.*,>=4.12->ipykernel->ipynbname) (306)\n",
      "Requirement already satisfied: parso<0.9.0,>=0.8.0 in c:\\users\\reema\\appdata\\roaming\\python\\python311\\site-packages (from jedi>=0.16->ipython>=7.23.1->ipykernel->ipynbname) (0.8.3)\n",
      "Requirement already satisfied: wcwidth in c:\\users\\reema\\appdata\\roaming\\python\\python311\\site-packages (from prompt-toolkit!=3.0.37,<3.1.0,>=3.0.30->ipython>=7.23.1->ipykernel->ipynbname) (0.2.6)\n",
      "Requirement already satisfied: six>=1.5 in c:\\users\\reema\\anaconda3\\lib\\site-packages (from python-dateutil>=2.8.2->jupyter-client>=6.1.12->ipykernel->ipynbname) (1.16.0)\n",
      "Requirement already satisfied: executing>=1.2.0 in c:\\users\\reema\\appdata\\roaming\\python\\python311\\site-packages (from stack-data->ipython>=7.23.1->ipykernel->ipynbname) (1.2.0)\n",
      "Requirement already satisfied: asttokens>=2.1.0 in c:\\users\\reema\\appdata\\roaming\\python\\python311\\site-packages (from stack-data->ipython>=7.23.1->ipykernel->ipynbname) (2.2.1)\n",
      "Requirement already satisfied: pure-eval in c:\\users\\reema\\appdata\\roaming\\python\\python311\\site-packages (from stack-data->ipython>=7.23.1->ipykernel->ipynbname) (0.2.2)\n"
     ]
    },
    {
     "name": "stderr",
     "output_type": "stream",
     "text": [
      "WARNING: Ignoring invalid distribution ~lflow (C:\\Users\\reema\\anaconda3\\Lib\\site-packages)\n",
      "WARNING: Ignoring invalid distribution ~lflow-skinny (C:\\Users\\reema\\anaconda3\\Lib\\site-packages)\n",
      "WARNING: Ignoring invalid distribution ~lflow (C:\\Users\\reema\\anaconda3\\Lib\\site-packages)\n",
      "WARNING: Ignoring invalid distribution ~lflow-skinny (C:\\Users\\reema\\anaconda3\\Lib\\site-packages)\n",
      "WARNING: Ignoring invalid distribution ~lflow (C:\\Users\\reema\\anaconda3\\Lib\\site-packages)\n",
      "WARNING: Ignoring invalid distribution ~lflow-skinny (C:\\Users\\reema\\anaconda3\\Lib\\site-packages)\n",
      "\n",
      "[notice] A new release of pip is available: 24.3.1 -> 25.0.1\n",
      "[notice] To update, run: python.exe -m pip install --upgrade pip\n"
     ]
    }
   ],
   "source": [
    "!pip install --upgrade pip\n",
    "!pip install mlflow scikit-learn\n",
    "!pip install ipynbname\n"
   ]
  },
  {
   "cell_type": "markdown",
   "id": "5a22be0f-2011-4b22-a269-61962048270b",
   "metadata": {},
   "source": [
    "Step 2: Import Required Libraries\n"
   ]
  },
  {
   "cell_type": "code",
   "execution_count": 17,
   "id": "52284d6e-d027-4a53-9150-84cea06c41aa",
   "metadata": {},
   "outputs": [],
   "source": [
    "import os\n",
    "import json\n",
    "import hashlib\n",
    "import platform\n",
    "import subprocess\n",
    "from datetime import datetime\n",
    "from sklearn import datasets\n",
    "from sklearn.model_selection import train_test_split\n",
    "from sklearn.ensemble import RandomForestClassifier\n",
    "from sklearn.metrics import accuracy_score, precision_score, recall_score, f1_score\n",
    "import mlflow\n",
    "import mlflow.sklearn\n",
    "import ipynbname\n",
    "import subprocess\n",
    "import ipynbname\n",
    "import mlflow\n",
    "from mlflow.tracking import MlflowClient"
   ]
  },
  {
   "cell_type": "markdown",
   "id": "be0a42a4-7b7d-42ac-a226-0dcc0e5f2720",
   "metadata": {},
   "source": [
    "Step 3: Setup MLflow Experiment"
   ]
  },
  {
   "cell_type": "code",
   "execution_count": 4,
   "id": "b5e7ef57-0185-4428-9cbe-f4f9025c8398",
   "metadata": {},
   "outputs": [
    {
     "data": {
      "text/plain": [
       "<Experiment: artifact_location='file:///C:/Users/reema/OneDrive/Dokumente/Provenance_tracking_thesis/Provenence-Tracking-Thesis-Research/src/mlruns/385900191331244378', creation_time=1744549978614, experiment_id='385900191331244378', last_update_time=1744549978614, lifecycle_stage='active', name='Iris_Model_Tracking', tags={}>"
      ]
     },
     "execution_count": 4,
     "metadata": {},
     "output_type": "execute_result"
    }
   ],
   "source": [
    "# === Setup Experiment ===\n",
    "mlflow.set_experiment(\"Iris_Model_Tracking\") #TODO-- dynamically add name\n"
   ]
  },
  {
   "cell_type": "markdown",
   "id": "fb9dfb26-3e2c-46e3-9ca8-396aa9b1eb45",
   "metadata": {},
   "source": [
    "Step 4: Define Utility Functions"
   ]
  },
  {
   "cell_type": "code",
   "execution_count": 5,
   "id": "c487038c-da9b-437f-83c8-550bd27f1039",
   "metadata": {},
   "outputs": [],
   "source": [
    "# === Utility Functions ===\n",
    "def get_git_info():\n",
    "    try:\n",
    "        commit = subprocess.check_output(['git', 'rev-parse', 'HEAD']).decode().strip()\n",
    "        branch = subprocess.check_output(['git', 'rev-parse', '--abbrev-ref', 'HEAD']).decode().strip()\n",
    "        remote = subprocess.check_output(['git', 'config', '--get', 'remote.origin.url']).decode().strip()\n",
    "        return commit, branch, remote\n",
    "    except:\n",
    "        return \"N/A\", \"N/A\", \"N/A\"\n",
    "\n",
    "def hash_dataset(X):\n",
    "    return hashlib.sha256(X.tobytes()).hexdigest()\n",
    "\n",
    "def get_installed_packages():\n",
    "    result = subprocess.check_output([\"pip\", \"freeze\"]).decode(\"utf-8\")\n",
    "    return result.splitlines()\n",
    "\n",
    "# === Track Code Version ===\n",
    "def get_code_version():\n",
    "    try:\n",
    "        # You can retrieve the latest commit or a specific tag for the code version.\n",
    "        commit_hash = subprocess.check_output(['git', 'rev-parse', 'HEAD']).decode().strip()\n",
    "        return commit_hash\n",
    "    except:\n",
    "        return \"N/A\"\n"
   ]
  },
  {
   "cell_type": "code",
   "execution_count": 6,
   "id": "486f2394-cfc6-4780-84d9-bc3a8c931647",
   "metadata": {},
   "outputs": [
    {
     "name": "stdout",
     "output_type": "stream",
     "text": [
      "Script Path: https://github.com/reema-dass26/Provenence-Tracking-Thesis-Research.git\n"
     ]
    }
   ],
   "source": [
    "# get script path else assign github link\n",
    "def get_script_path():\n",
    "    try:\n",
    "        # Try to get the notebook path\n",
    "        nb_path = ipynbname.path()\n",
    "        return str(nb_path)\n",
    "    except:\n",
    "        try:\n",
    "            # Fallback to GitHub remote URL if in a git repo\n",
    "            git_remote = subprocess.check_output(['git', 'config', '--get', 'remote.origin.url']).decode().strip()\n",
    "            return git_remote\n",
    "        except:\n",
    "            return \"N/A\"\n",
    "\n",
    "script_path = get_script_path()\n",
    "print(\"Script Path:\", script_path)\n"
   ]
  },
  {
   "cell_type": "markdown",
   "id": "fac74b2f-0056-48d7-a498-a05915965b8c",
   "metadata": {},
   "source": [
    "Step 5: Load Dataset and Split Data"
   ]
  },
  {
   "cell_type": "code",
   "execution_count": 7,
   "id": "f171a238-f0b9-43d8-a0a0-76d192cb869b",
   "metadata": {},
   "outputs": [],
   "source": [
    "# === Load Data ===\n",
    "iris = datasets.load_iris()\n",
    "X = iris.data\n",
    "y = iris.target\n",
    "\n",
    "# === Train/Test Split ===\n",
    "SEED = 42\n",
    "X_train, X_test, y_train, y_test = train_test_split(X, y, test_size=0.2, random_state=SEED)\n"
   ]
  },
  {
   "cell_type": "markdown",
   "id": "5791aba1-dbf0-4666-8ad7-6cf588860ff4",
   "metadata": {},
   "source": [
    "Step 6: Initialize and Train Model\n"
   ]
  },
  {
   "cell_type": "code",
   "execution_count": 8,
   "id": "abff1aaa-55a9-48e0-8846-002ddb20c4ff",
   "metadata": {},
   "outputs": [],
   "source": [
    "# === Model Training ===\n",
    "clf = RandomForestClassifier(n_estimators=100, max_depth=4, random_state=SEED)\n"
   ]
  },
  {
   "cell_type": "markdown",
   "id": "c74fb14c-8ff0-4704-a2a0-77f9d3edd6fe",
   "metadata": {},
   "source": [
    "Step 7: Start Logging with MLflow\n"
   ]
  },
  {
   "cell_type": "code",
   "execution_count": 22,
   "id": "58b3604f-b20b-4df7-a74b-cd46b1f9e1dc",
   "metadata": {},
   "outputs": [
    {
     "ename": "Exception",
     "evalue": "Run with UUID f3e4d3f2b7154a3b8661aef9fc93d02d is already active. To start a new run, first end the current run with mlflow.end_run(). To start a nested run, call start_run with nested=True",
     "output_type": "error",
     "traceback": [
      "\u001b[1;31m---------------------------------------------------------------------------\u001b[0m",
      "\u001b[1;31mException\u001b[0m                                 Traceback (most recent call last)",
      "Cell \u001b[1;32mIn[22], line 2\u001b[0m\n\u001b[0;32m      1\u001b[0m \u001b[38;5;66;03m# === Start Logging ===\u001b[39;00m\n\u001b[1;32m----> 2\u001b[0m \u001b[38;5;28;01mwith\u001b[39;00m \u001b[43mmlflow\u001b[49m\u001b[38;5;241;43m.\u001b[39;49m\u001b[43mstart_run\u001b[49m\u001b[43m(\u001b[49m\u001b[43m)\u001b[49m \u001b[38;5;28;01mas\u001b[39;00m run:\n\u001b[0;32m      3\u001b[0m     experiment_name \u001b[38;5;241m=\u001b[39m \u001b[38;5;124m\"\u001b[39m\u001b[38;5;124mIris_Model_Experiment\u001b[39m\u001b[38;5;124m\"\u001b[39m\n\u001b[0;32m      4\u001b[0m     mlflow\u001b[38;5;241m.\u001b[39mset_experiment(experiment_name)\n",
      "File \u001b[1;32m~\\anaconda3\\Lib\\site-packages\\mlflow\\tracking\\fluent.py:351\u001b[0m, in \u001b[0;36mstart_run\u001b[1;34m(run_id, experiment_id, run_name, nested, parent_run_id, tags, description, log_system_metrics)\u001b[0m\n",
      "\u001b[1;31mException\u001b[0m: Run with UUID f3e4d3f2b7154a3b8661aef9fc93d02d is already active. To start a new run, first end the current run with mlflow.end_run(). To start a nested run, call start_run with nested=True"
     ]
    }
   ],
   "source": [
    "# === Start Logging ===\n",
    "with mlflow.start_run() as run:\n",
    "    experiment_name = \"Iris_Model_Experiment\"\n",
    "    mlflow.set_experiment(experiment_name)\n",
    "    run_id = run.info.run_id\n",
    "    \n",
    "    # Track model and training process\n",
    "    clf.fit(X_train, y_train)\n",
    "    y_pred = clf.predict(X_test)\n",
    "    # === Git Info ===\n",
    "    git_commit, git_branch, git_remote = get_git_info()\n",
    "    mlflow.set_tag(\"git_commit\", git_commit)\n",
    "    mlflow.set_tag(\"git_branch\", git_branch)\n",
    "    mlflow.set_tag(\"git_remote_url\", git_remote)\n",
    "\n",
    "# === Code Version ===\n",
    "    code_version = get_code_version()  # Git commit hash or tag for code version\n",
    "    mlflow.set_tag(\"code_version\", code_version)\n",
    "\n",
    "\n",
    "    # === Model & Data Info ===\n",
    "    mlflow.set_tag(\"model_type\", \"RandomForestClassifier\")\n",
    "    mlflow.set_tag(\"dataset_name\", \"iris\")\n",
    "    mlflow.set_tag(\"dataset_hash\", hash_dataset(X))\n",
    "    mlflow.set_tag(\"run_start\", str(datetime.now()))\n",
    "    mlflow.set_tag(\"created_by\", os.getenv(\"USER\") or os.getenv(\"USERNAME\"))"
   ]
  },
  {
   "cell_type": "code",
   "execution_count": 10,
   "id": "39c43305-f09a-4759-af08-63bc13e7bdc6",
   "metadata": {},
   "outputs": [
    {
     "data": {
      "text/plain": [
       "0.8"
      ]
     },
     "execution_count": 10,
     "metadata": {},
     "output_type": "execute_result"
    }
   ],
   "source": [
    "    # === Parameters ===\n",
    "    mlflow.log_param(\"n_estimators\", 100)\n",
    "    mlflow.log_param(\"max_depth\", 4)\n",
    "    mlflow.log_param(\"random_seed\", SEED)\n",
    "    mlflow.log_param(\"num_features\", X.shape[1])\n",
    "    mlflow.log_param(\"num_rows\", X.shape[0])\n",
    "    mlflow.log_param(\"train_test_split_ratio\", 0.8)\n"
   ]
  },
  {
   "cell_type": "code",
   "execution_count": 11,
   "id": "003a1659-aab7-4786-9700-73200ca3293b",
   "metadata": {},
   "outputs": [],
   "source": [
    "    # === Environment Info ===\n",
    "    mlflow.log_param(\"python_version\", platform.python_version())\n",
    "    mlflow.log_param(\"os_platform\", platform.platform())\n",
    "    \n",
    "    installed_packages = get_installed_packages()\n",
    "    with open(\"requirements_snapshot.txt\", \"w\") as f:\n",
    "        f.write(\"\\n\".join(installed_packages))\n",
    "    mlflow.log_artifact(\"requirements_snapshot.txt\")\n"
   ]
  },
  {
   "cell_type": "code",
   "execution_count": 12,
   "id": "78a46542-9b3e-4b35-a2a9-5b3054c0bbc3",
   "metadata": {},
   "outputs": [],
   "source": [
    "    # === Metrics ===\n",
    "    acc = accuracy_score(y_test, y_pred)\n",
    "    prec = precision_score(y_test, y_pred, average='weighted')\n",
    "    rec = recall_score(y_test, y_pred, average='weighted')\n",
    "    f1 = f1_score(y_test, y_pred, average='weighted')\n",
    "\n",
    "    mlflow.log_metric(\"accuracy\", acc)\n",
    "    mlflow.log_metric(\"precision\", prec)\n",
    "    mlflow.log_metric(\"recall\", rec)\n",
    "    mlflow.log_metric(\"f1_score\", f1)\n"
   ]
  },
  {
   "cell_type": "code",
   "execution_count": 13,
   "id": "b7e693a5-b9cb-4aa2-97cb-d0c83679f5af",
   "metadata": {},
   "outputs": [
    {
     "name": "stderr",
     "output_type": "stream",
     "text": [
      "2025/04/13 15:41:05 WARNING mlflow.models.model: Model logged without a signature and input example. Please set `input_example` parameter when logging the model to auto infer the model signature.\n"
     ]
    },
    {
     "data": {
      "text/plain": [
       "<mlflow.models.model.ModelInfo at 0x1c7ce14a6d0>"
      ]
     },
     "execution_count": 13,
     "metadata": {},
     "output_type": "execute_result"
    }
   ],
   "source": [
    "    # === Log Model ===\n",
    "    mlflow.sklearn.log_model(clf, \"model\")\n"
   ]
  },
  {
   "cell_type": "code",
   "execution_count": 24,
   "id": "39246980-1a8c-42cc-8351-9cb4dfe990e8",
   "metadata": {},
   "outputs": [
    {
     "name": "stderr",
     "output_type": "stream",
     "text": [
      "2025/04/13 15:46:18 INFO mlflow.tracking.fluent: Experiment with name 'Iris_Model_Experiment' does not exist. Creating a new experiment.\n"
     ]
    },
    {
     "data": {
      "text/plain": [
       "<Experiment: artifact_location='file:///C:/Users/reema/OneDrive/Dokumente/Provenance_tracking_thesis/Provenence-Tracking-Thesis-Research/src/mlruns/749807049495519845', creation_time=1744551978713, experiment_id='749807049495519845', last_update_time=1744551978713, lifecycle_stage='active', name='Iris_Model_Experiment', tags={}>"
      ]
     },
     "execution_count": 24,
     "metadata": {},
     "output_type": "execute_result"
    }
   ],
   "source": [
    "experiment_name = \"Iris_Model_Experiment\"\n",
    "mlflow.set_experiment(experiment_name)\n",
    "\n",
    "# # Specify the model name\n",
    "# model_name = \"RandomForest_Iris_Model\"\n",
    "\n",
    "# # Instantiate the MlflowClient\n",
    "# client = MlflowClient()\n",
    "\n",
    "# # Fetch the latest version of the registered model\n",
    "# latest_versions = client.get_latest_versions(model_name)\n",
    "\n",
    "# # If versions exist, fetch the version\n",
    "# if latest_versions:\n",
    "#     model_registry_version = latest_versions[0].version\n",
    "# else:\n",
    "#     model_registry_version = \"N/A\"  # Default if the model is not found\n",
    "\n",
    "# print(\"Model Registry Version:\", model_registry_version)\n",
    "\n",
    "# client = MlflowClient()\n",
    "# registered_models = client.\n",
    "# print(\"Registered Models:\", [model.name for model in registered_models])\n"
   ]
  },
  {
   "cell_type": "code",
   "execution_count": 27,
   "id": "d587d86e-2437-4878-b1dd-46b4caa91990",
   "metadata": {
    "scrolled": true
   },
   "outputs": [
    {
     "name": "stdout",
     "output_type": "stream",
     "text": [
      "Model RandomForest_Iris_Model is not found.\n"
     ]
    }
   ],
   "source": [
    "from mlflow.tracking import MlflowClient\n",
    "\n",
    "# Initialize the MLflow client\n",
    "client = MlflowClient()\n",
    "\n",
    "# Specify the model name\n",
    "model_name = \"RandomForest_Iris_Model\"\n",
    "\n",
    "# Check if the model is registered\n",
    "registered_models = client.search_registered_models()\n",
    "\n",
    "if registered_models:\n",
    "    model = registered_models[0]  # Get the first registered model with the specified name\n",
    "    print(f\"Model {model_name} is registered. Model details:\")\n",
    "    print(f\"Name: {model.name}, Creation Time: {model.creation_time}\")\n",
    "    \n",
    "    # Now fetch the latest version of this model\n",
    "    model_versions = client.get_model_versions(model_name)\n",
    "\n",
    "    if model_versions:\n",
    "        # Fetch the latest version\n",
    "        latest_version = model_versions[-1].version\n",
    "        print(f\"Latest model version: {latest_version}\")\n",
    "    else:\n",
    "        print(\"No versions available for the model.\")\n",
    "else:\n",
    "    print(f\"Model {model_name} is not found.\")\n"
   ]
  },
  {
   "cell_type": "code",
   "execution_count": 21,
   "id": "ea60a748-ee74-425b-9459-0b44e843b077",
   "metadata": {},
   "outputs": [
    {
     "name": "stdout",
     "output_type": "stream",
     "text": [
      "Error fetching model registry version: Registered Model with name=RandomForest_Iris_Model not found\n"
     ]
    }
   ],
   "source": [
    "from mlflow.tracking import MlflowClient\n",
    "\n",
    "client = MlflowClient()\n",
    "\n",
    "# Specify the model name\n",
    "model_name = \"RandomForest_Iris_Model\"\n",
    "\n",
    "# Fetch the model and its version\n",
    "try:\n",
    "    model = client.get_registered_model(model_name)\n",
    "    # If the model is registered, you can fetch its latest version\n",
    "    latest_versions = client.get_latest_versions(model_name)\n",
    "    if latest_versions:\n",
    "        model_registry_version = latest_versions[0].version\n",
    "    else:\n",
    "        model_registry_version = \"N/A\"\n",
    "    print(f\"Model Registry Version: {model_registry_version}\")\n",
    "except Exception as e:\n",
    "    print(f\"Error fetching model registry version: {e}\")\n"
   ]
  },
  {
   "cell_type": "code",
   "execution_count": null,
   "id": "be8a21eb-5cd6-4557-9f1f-937484516b8f",
   "metadata": {},
   "outputs": [],
   "source": []
  },
  {
   "cell_type": "code",
   "execution_count": null,
   "id": "d1bae5d8-bc8b-423e-8c25-4d0dd2db8f16",
   "metadata": {},
   "outputs": [],
   "source": []
  },
  {
   "cell_type": "code",
   "execution_count": 15,
   "id": "32f6a274-7136-423a-a365-94eb6c59d4c8",
   "metadata": {},
   "outputs": [
    {
     "ename": "AttributeError",
     "evalue": "module 'mlflow' has no attribute 'registered_model_version'",
     "output_type": "error",
     "traceback": [
      "\u001b[1;31m---------------------------------------------------------------------------\u001b[0m",
      "\u001b[1;31mAttributeError\u001b[0m                            Traceback (most recent call last)",
      "Cell \u001b[1;32mIn[15], line 34\u001b[0m\n\u001b[0;32m      1\u001b[0m \u001b[38;5;66;03m# === Save Final Provenance JSON ===\u001b[39;00m\n\u001b[0;32m      3\u001b[0m provenance \u001b[38;5;241m=\u001b[39m {\n\u001b[0;32m      4\u001b[0m        \u001b[38;5;124m\"\u001b[39m\u001b[38;5;124mrun_id\u001b[39m\u001b[38;5;124m\"\u001b[39m: run_id,\n\u001b[0;32m      5\u001b[0m        \u001b[38;5;124m\"\u001b[39m\u001b[38;5;124mgit_commit\u001b[39m\u001b[38;5;124m\"\u001b[39m: git_commit,\n\u001b[0;32m      6\u001b[0m        \u001b[38;5;124m\"\u001b[39m\u001b[38;5;124mgit_branch\u001b[39m\u001b[38;5;124m\"\u001b[39m: git_branch,\n\u001b[0;32m      7\u001b[0m        \u001b[38;5;124m\"\u001b[39m\u001b[38;5;124mgit_remote\u001b[39m\u001b[38;5;124m\"\u001b[39m: git_remote,\n\u001b[0;32m      8\u001b[0m        \u001b[38;5;124m\"\u001b[39m\u001b[38;5;124mdataset\u001b[39m\u001b[38;5;124m\"\u001b[39m: \u001b[38;5;124m\"\u001b[39m\u001b[38;5;124miris\u001b[39m\u001b[38;5;124m\"\u001b[39m,\n\u001b[0;32m      9\u001b[0m        \u001b[38;5;124m\"\u001b[39m\u001b[38;5;124mdataset_hash\u001b[39m\u001b[38;5;124m\"\u001b[39m: hash_dataset(X),\n\u001b[0;32m     10\u001b[0m        \u001b[38;5;124m\"\u001b[39m\u001b[38;5;124mmodel_type\u001b[39m\u001b[38;5;124m\"\u001b[39m: \u001b[38;5;124m\"\u001b[39m\u001b[38;5;124mRandomForestClassifier\u001b[39m\u001b[38;5;124m\"\u001b[39m,\n\u001b[0;32m     11\u001b[0m        \u001b[38;5;124m\"\u001b[39m\u001b[38;5;124mparameters\u001b[39m\u001b[38;5;124m\"\u001b[39m: {\n\u001b[0;32m     12\u001b[0m            \u001b[38;5;124m\"\u001b[39m\u001b[38;5;124mn_estimators\u001b[39m\u001b[38;5;124m\"\u001b[39m: \u001b[38;5;241m100\u001b[39m,\n\u001b[0;32m     13\u001b[0m            \u001b[38;5;124m\"\u001b[39m\u001b[38;5;124mmax_depth\u001b[39m\u001b[38;5;124m\"\u001b[39m: \u001b[38;5;241m4\u001b[39m,\n\u001b[0;32m     14\u001b[0m            \u001b[38;5;124m\"\u001b[39m\u001b[38;5;124mrandom_seed\u001b[39m\u001b[38;5;124m\"\u001b[39m: SEED\n\u001b[0;32m     15\u001b[0m        },\n\u001b[0;32m     16\u001b[0m        \u001b[38;5;124m\"\u001b[39m\u001b[38;5;124menvironment\u001b[39m\u001b[38;5;124m\"\u001b[39m: {\n\u001b[0;32m     17\u001b[0m            \u001b[38;5;124m\"\u001b[39m\u001b[38;5;124mpython_version\u001b[39m\u001b[38;5;124m\"\u001b[39m: platform\u001b[38;5;241m.\u001b[39mpython_version(),\n\u001b[0;32m     18\u001b[0m            \u001b[38;5;124m\"\u001b[39m\u001b[38;5;124mos_platform\u001b[39m\u001b[38;5;124m\"\u001b[39m: platform\u001b[38;5;241m.\u001b[39mplatform(),\n\u001b[0;32m     19\u001b[0m            \u001b[38;5;124m\"\u001b[39m\u001b[38;5;124mpackages\u001b[39m\u001b[38;5;124m\"\u001b[39m: installed_packages\n\u001b[0;32m     20\u001b[0m        },\n\u001b[0;32m     21\u001b[0m        \u001b[38;5;124m\"\u001b[39m\u001b[38;5;124mmetrics\u001b[39m\u001b[38;5;124m\"\u001b[39m: {\n\u001b[0;32m     22\u001b[0m            \u001b[38;5;124m\"\u001b[39m\u001b[38;5;124maccuracy\u001b[39m\u001b[38;5;124m\"\u001b[39m: acc,\n\u001b[0;32m     23\u001b[0m            \u001b[38;5;124m\"\u001b[39m\u001b[38;5;124mprecision\u001b[39m\u001b[38;5;124m\"\u001b[39m: prec,\n\u001b[0;32m     24\u001b[0m            \u001b[38;5;124m\"\u001b[39m\u001b[38;5;124mrecall\u001b[39m\u001b[38;5;124m\"\u001b[39m: rec,\n\u001b[0;32m     25\u001b[0m            \u001b[38;5;124m\"\u001b[39m\u001b[38;5;124mf1_score\u001b[39m\u001b[38;5;124m\"\u001b[39m: f1\n\u001b[0;32m     26\u001b[0m        },\n\u001b[0;32m     27\u001b[0m        \u001b[38;5;124m\"\u001b[39m\u001b[38;5;124mcreated_by\u001b[39m\u001b[38;5;124m\"\u001b[39m: os\u001b[38;5;241m.\u001b[39mgetenv(\u001b[38;5;124m\"\u001b[39m\u001b[38;5;124mUSER\u001b[39m\u001b[38;5;124m\"\u001b[39m) \u001b[38;5;129;01mor\u001b[39;00m os\u001b[38;5;241m.\u001b[39mgetenv(\u001b[38;5;124m\"\u001b[39m\u001b[38;5;124mUSERNAME\u001b[39m\u001b[38;5;124m\"\u001b[39m),\n\u001b[0;32m     28\u001b[0m        \u001b[38;5;124m\"\u001b[39m\u001b[38;5;124mtimestamp\u001b[39m\u001b[38;5;124m\"\u001b[39m: \u001b[38;5;28mstr\u001b[39m(datetime\u001b[38;5;241m.\u001b[39mnow()),\n\u001b[0;32m     29\u001b[0m        \u001b[38;5;66;03m# Adding missing fields\u001b[39;00m\n\u001b[0;32m     30\u001b[0m        \u001b[38;5;124m\"\u001b[39m\u001b[38;5;124mexperiment_name\u001b[39m\u001b[38;5;124m\"\u001b[39m: mlflow\u001b[38;5;241m.\u001b[39mget_experiment_by_name(\u001b[38;5;124m\"\u001b[39m\u001b[38;5;124mIris_Model_Tracking\u001b[39m\u001b[38;5;124m\"\u001b[39m)\u001b[38;5;241m.\u001b[39mname,\n\u001b[0;32m     31\u001b[0m        \u001b[38;5;124m\"\u001b[39m\u001b[38;5;124mrun_name\u001b[39m\u001b[38;5;124m\"\u001b[39m: run\u001b[38;5;241m.\u001b[39minfo\u001b[38;5;241m.\u001b[39mrun_name,  \u001b[38;5;66;03m# Default run name or custom name\u001b[39;00m\n\u001b[0;32m     32\u001b[0m        \u001b[38;5;124m\"\u001b[39m\u001b[38;5;124mscript_path\u001b[39m\u001b[38;5;124m\"\u001b[39m: script_path,  \u001b[38;5;66;03m# Path to the script\u001b[39;00m\n\u001b[0;32m     33\u001b[0m        \u001b[38;5;124m\"\u001b[39m\u001b[38;5;124mmlflow_source_name\u001b[39m\u001b[38;5;124m\"\u001b[39m: mlflow\u001b[38;5;241m.\u001b[39m\u001b[38;5;18m__file__\u001b[39m,\n\u001b[1;32m---> 34\u001b[0m        \u001b[38;5;124m\"\u001b[39m\u001b[38;5;124mmodel_registry_version\u001b[39m\u001b[38;5;124m\"\u001b[39m: \u001b[43mmlflow\u001b[49m\u001b[38;5;241;43m.\u001b[39;49m\u001b[43mregistered_model_version\u001b[49m(\u001b[38;5;124m\"\u001b[39m\u001b[38;5;124mmodel\u001b[39m\u001b[38;5;124m\"\u001b[39m, \u001b[38;5;124m\"\u001b[39m\u001b[38;5;124m1.0\u001b[39m\u001b[38;5;124m\"\u001b[39m)  \u001b[38;5;66;03m# Placeholder for model registry version\u001b[39;00m\n\u001b[0;32m     35\u001b[0m    }\n\u001b[0;32m     37\u001b[0m \u001b[38;5;28;01mwith\u001b[39;00m \u001b[38;5;28mopen\u001b[39m(\u001b[38;5;124m\"\u001b[39m\u001b[38;5;124mrun_provenance.json\u001b[39m\u001b[38;5;124m\"\u001b[39m, \u001b[38;5;124m\"\u001b[39m\u001b[38;5;124mw\u001b[39m\u001b[38;5;124m\"\u001b[39m) \u001b[38;5;28;01mas\u001b[39;00m f:\n\u001b[0;32m     38\u001b[0m        json\u001b[38;5;241m.\u001b[39mdump(provenance, f, indent\u001b[38;5;241m=\u001b[39m\u001b[38;5;241m4\u001b[39m)\n",
      "\u001b[1;31mAttributeError\u001b[0m: module 'mlflow' has no attribute 'registered_model_version'"
     ]
    }
   ],
   "source": [
    " # === Save Final Provenance JSON ===\n",
    "\n",
    "provenance = {\n",
    "        \"run_id\": run_id,\n",
    "        \"git_commit\": git_commit,\n",
    "        \"git_branch\": git_branch,\n",
    "        \"git_remote\": git_remote,\n",
    "        \"dataset\": \"iris\",\n",
    "        \"dataset_hash\": hash_dataset(X),\n",
    "        \"model_type\": \"RandomForestClassifier\",\n",
    "        \"parameters\": {\n",
    "            \"n_estimators\": 100,\n",
    "            \"max_depth\": 4,\n",
    "            \"random_seed\": SEED\n",
    "        },\n",
    "        \"environment\": {\n",
    "            \"python_version\": platform.python_version(),\n",
    "            \"os_platform\": platform.platform(),\n",
    "            \"packages\": installed_packages\n",
    "        },\n",
    "        \"metrics\": {\n",
    "            \"accuracy\": acc,\n",
    "            \"precision\": prec,\n",
    "            \"recall\": rec,\n",
    "            \"f1_score\": f1\n",
    "        },\n",
    "        \"created_by\": os.getenv(\"USER\") or os.getenv(\"USERNAME\"),\n",
    "        \"timestamp\": str(datetime.now()),\n",
    "        # Adding missing fields\n",
    "        \"experiment_name\": mlflow.get_experiment_by_name(\"Iris_Model_Tracking\").name,\n",
    "        \"run_name\": run.info.run_name,  # Default run name or custom name\n",
    "        \"script_path\": script_path,  # Path to the script\n",
    "        \"mlflow_source_name\": mlflow.__file__,\n",
    "        \"model_registry_version\":   # Placeholder for model registry version\n",
    "    }\n",
    "\n",
    "with open(\"run_provenance.json\", \"w\") as f:\n",
    "        json.dump(provenance, f, indent=4)\n",
    "\n",
    "mlflow.log_artifact(\"run_provenance.json\")"
   ]
  },
  {
   "cell_type": "code",
   "execution_count": null,
   "id": "fd8b42ba-84ed-4a64-a4ca-131487596a6f",
   "metadata": {},
   "outputs": [],
   "source": [
    "\n"
   ]
  },
  {
   "cell_type": "code",
   "execution_count": null,
   "id": "79394aea-ddd4-4c80-ba74-e4b407ceff45",
   "metadata": {},
   "outputs": [],
   "source": []
  }
 ],
 "metadata": {
  "kernelspec": {
   "display_name": "Python 3 (ipykernel)",
   "language": "python",
   "name": "python3"
  },
  "language_info": {
   "codemirror_mode": {
    "name": "ipython",
    "version": 3
   },
   "file_extension": ".py",
   "mimetype": "text/x-python",
   "name": "python",
   "nbconvert_exporter": "python",
   "pygments_lexer": "ipython3",
   "version": "3.11.5"
  }
 },
 "nbformat": 4,
 "nbformat_minor": 5
}
