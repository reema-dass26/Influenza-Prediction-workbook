# import subprocess
# import sys
# import os

# # Step 1: Create the conda environment
# def create_conda_env():
#     try:
#         subprocess.check_call([sys.executable, "-m", "conda", "create", "-n", "thesis-env", "python=3.10", "-y"])
#         print("Conda environment created successfully.")
#     except subprocess.CalledProcessError as e:
#         print(f"Error creating conda environment: {e}")
#         raise

# # Step 2: Install ipykernel and add the conda environment to Jupyter
# def install_ipykernel_and_add_to_jupyter():
#     try:
#         # Activate the conda environment using subprocess and install ipykernel
#         subprocess.check_call([sys.executable, "-m", "conda", "run", "-n", "thesis-env", "pip", "install", "ipykernel"])
#         print("ipykernel installed successfully.")

#         # Add the conda environment to Jupyter as a new kernel
#         subprocess.check_call([sys.executable, "-m", "conda", "run", "-n", "thesis-env", "python", "-m", "ipykernel", "install", "--user", "--name=thesis-env", "--display-name=Python (thesis-env)"])
#         print("Kernel added to Jupyter successfully.")
#     except subprocess.CalledProcessError as e:
#         print(f"Error installing ipykernel or adding kernel to Jupyter: {e}")
#         raise

# # Run the functions to create the environment and add it to Jupyter
# create_conda_env()
# install_ipykernel_and_add_to_jupyter()

