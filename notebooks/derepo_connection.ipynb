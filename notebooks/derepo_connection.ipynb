{
 "cells": [
  {
   "cell_type": "code",
   "execution_count": 1,
   "id": "1885d2d8-67c2-4400-bbb2-39c439d2ca0f",
   "metadata": {
    "scrolled": true
   },
   "outputs": [
    {
     "name": "stdout",
     "output_type": "stream",
     "text": [
      "Requirement already satisfied: pika in c:\\users\\reema\\anaconda3\\lib\\site-packages (1.3.2)\n",
      "Requirement already satisfied: pandas in c:\\users\\reema\\anaconda3\\lib\\site-packages (2.0.3)\n",
      "Requirement already satisfied: scikit-learn in c:\\users\\reema\\anaconda3\\lib\\site-packages (1.3.0)\n",
      "Requirement already satisfied: python-dateutil>=2.8.2 in c:\\users\\reema\\anaconda3\\lib\\site-packages (from pandas) (2.8.2)\n",
      "Requirement already satisfied: pytz>=2020.1 in c:\\users\\reema\\anaconda3\\lib\\site-packages (from pandas) (2023.3.post1)\n",
      "Requirement already satisfied: tzdata>=2022.1 in c:\\users\\reema\\anaconda3\\lib\\site-packages (from pandas) (2023.3)\n",
      "Requirement already satisfied: numpy>=1.21.0 in c:\\users\\reema\\anaconda3\\lib\\site-packages (from pandas) (1.24.3)\n",
      "Requirement already satisfied: scipy>=1.5.0 in c:\\users\\reema\\anaconda3\\lib\\site-packages (from scikit-learn) (1.11.1)\n",
      "Requirement already satisfied: joblib>=1.1.1 in c:\\users\\reema\\anaconda3\\lib\\site-packages (from scikit-learn) (1.2.0)\n",
      "Requirement already satisfied: threadpoolctl>=2.0.0 in c:\\users\\reema\\anaconda3\\lib\\site-packages (from scikit-learn) (2.2.0)\n",
      "Requirement already satisfied: six>=1.5 in c:\\users\\reema\\anaconda3\\lib\\site-packages (from python-dateutil>=2.8.2->pandas) (1.16.0)\n"
     ]
    },
    {
     "name": "stderr",
     "output_type": "stream",
     "text": [
      "\n",
      "[notice] A new release of pip is available: 24.3.1 -> 25.0\n",
      "[notice] To update, run: python.exe -m pip install --upgrade pip\n"
     ]
    }
   ],
   "source": [
    "!pip install pika pandas scikit-learn\n"
   ]
  },
  {
   "cell_type": "code",
   "execution_count": 2,
   "id": "12026d31-eec8-4962-b3fe-b76d9404c7f1",
   "metadata": {},
   "outputs": [
    {
     "name": "stdout",
     "output_type": "stream",
     "text": [
      "Requirement already satisfied: pymysql in c:\\users\\reema\\anaconda3\\lib\\site-packages (1.1.1)\n"
     ]
    },
    {
     "name": "stderr",
     "output_type": "stream",
     "text": [
      "\n",
      "[notice] A new release of pip is available: 24.3.1 -> 25.0\n",
      "[notice] To update, run: python.exe -m pip install --upgrade pip\n"
     ]
    }
   ],
   "source": [
    "!pip install pymysql\n"
   ]
  },
  {
   "cell_type": "code",
   "execution_count": 20,
   "id": "9a7bdcdf-8fa4-443b-96d4-acc4cefec450",
   "metadata": {},
   "outputs": [
    {
     "name": "stdout",
     "output_type": "stream",
     "text": [
      "Connected successfully!\n",
      "<dbrepo.AmqpClient.AmqpClient object at 0x000001C48AA23DD0>\n"
     ]
    }
   ],
   "source": [
    "# from dbrepo.AmqpClient import AmqpClient\n",
    "\n",
    "# try:\n",
    "#     client = AmqpClient(broker_host=\"localhost:3306/iris_classification_jmio\")\n",
    "#     print(\"Connected successfully!\")\n",
    "#     print(client)\n",
    "\n",
    "# except Exception as e:\n",
    "#     print(f\"Error connecting to the database: {e}\")\n"
   ]
  },
  {
   "cell_type": "code",
   "execution_count": 22,
   "id": "1139b6fb-22ed-4905-a682-354c59db3e6d",
   "metadata": {},
   "outputs": [
    {
     "name": "stdout",
     "output_type": "stream",
     "text": [
      "Connected successfully!\n"
     ]
    }
   ],
   "source": [
    "# from dbrepo.AmqpClient import AmqpClient\n",
    "# from dbrepo.RestClient import RestClient\n",
    "\n",
    "# import dbrepo\n",
    "\n",
    "# try:\n",
    "#     client = AmqpClient(broker_host=\"localhost:3306/iris_classification_jmio\", \n",
    "#                         username=\"reema\",\n",
    "#                         password=\"admin\")\n",
    "#     print(\"Connected successfully!\")\n",
    "\n",
    "#     # Example query to fetch data\n",
    "#     # query = \"SELECT * FROM your_table_name;\"\n",
    "#     # result = client.execute_query(query)\n",
    "#     # client.\n",
    "\n",
    "#     # for row in result:\n",
    "#     #     print(row)\n",
    "\n",
    "# except Exception as e:\n",
    "#     print(f\"Error retrieving data: {e}\")\n"
   ]
  },
  {
   "cell_type": "code",
   "execution_count": 42,
   "id": "bab93b15-d4bf-4463-8eae-631172e83894",
   "metadata": {},
   "outputs": [
    {
     "name": "stdout",
     "output_type": "stream",
     "text": [
      "client created\n"
     ]
    },
    {
     "ename": "ValidationError",
     "evalue": "1 validation error for Result\n  Input should be a valid dictionary or instance of Result [type=model_type, input_value=[{'id': '1', 'sepal_lengt...es': 'Iris-versicolor'}], input_type=list]\n    For further information visit https://errors.pydantic.dev/2.10/v/model_type",
     "output_type": "error",
     "traceback": [
      "\u001b[1;31m---------------------------------------------------------------------------\u001b[0m",
      "\u001b[1;31mValidationError\u001b[0m                           Traceback (most recent call last)",
      "Cell \u001b[1;32mIn[42], line 10\u001b[0m\n\u001b[0;32m      7\u001b[0m client \u001b[38;5;241m=\u001b[39m RestClient(endpoint\u001b[38;5;241m=\u001b[39m\u001b[38;5;124m\"\u001b[39m\u001b[38;5;124mhttp://localhost\u001b[39m\u001b[38;5;124m\"\u001b[39m, username\u001b[38;5;241m=\u001b[39m\u001b[38;5;124m\"\u001b[39m\u001b[38;5;124mreema\u001b[39m\u001b[38;5;124m\"\u001b[39m,\n\u001b[0;32m      8\u001b[0m             password\u001b[38;5;241m=\u001b[39m\u001b[38;5;124m\"\u001b[39m\u001b[38;5;124madmin\u001b[39m\u001b[38;5;124m\"\u001b[39m)\n\u001b[0;32m      9\u001b[0m \u001b[38;5;28mprint\u001b[39m(\u001b[38;5;124m'\u001b[39m\u001b[38;5;124mclient created\u001b[39m\u001b[38;5;124m'\u001b[39m)\n\u001b[1;32m---> 10\u001b[0m response \u001b[38;5;241m=\u001b[39m \u001b[43mclient\u001b[49m\u001b[38;5;241;43m.\u001b[39;49m\u001b[43mget_subset_data\u001b[49m\u001b[43m(\u001b[49m\u001b[43mdatabase_id\u001b[49m\u001b[38;5;241;43m=\u001b[39;49m\u001b[38;5;241;43m1\u001b[39;49m\u001b[43m,\u001b[49m\u001b[43msubset_id\u001b[49m\u001b[38;5;241;43m=\u001b[39;49m\u001b[38;5;241;43m1\u001b[39;49m\u001b[43m \u001b[49m\u001b[43m,\u001b[49m\u001b[43mdf\u001b[49m\u001b[38;5;241;43m=\u001b[39;49m\u001b[38;5;28;43;01mTrue\u001b[39;49;00m\u001b[43m)\u001b[49m\n\u001b[0;32m     11\u001b[0m \u001b[38;5;28mprint\u001b[39m(response)\n",
      "File \u001b[1;32m~\\anaconda3\\Lib\\site-packages\\dbrepo\\RestClient.py:1635\u001b[0m, in \u001b[0;36mRestClient.get_subset_data\u001b[1;34m(self, database_id, subset_id, page, size, df)\u001b[0m\n\u001b[0;32m   1633\u001b[0m \u001b[38;5;28;01mif\u001b[39;00m response\u001b[38;5;241m.\u001b[39mstatus_code \u001b[38;5;241m==\u001b[39m \u001b[38;5;241m200\u001b[39m:\n\u001b[0;32m   1634\u001b[0m     body \u001b[38;5;241m=\u001b[39m response\u001b[38;5;241m.\u001b[39mjson()\n\u001b[1;32m-> 1635\u001b[0m     res \u001b[38;5;241m=\u001b[39m \u001b[43mResult\u001b[49m\u001b[38;5;241;43m.\u001b[39;49m\u001b[43mmodel_validate\u001b[49m\u001b[43m(\u001b[49m\u001b[43mbody\u001b[49m\u001b[43m)\u001b[49m\n\u001b[0;32m   1636\u001b[0m     \u001b[38;5;28;01mif\u001b[39;00m df:\n\u001b[0;32m   1637\u001b[0m         \u001b[38;5;28;01mreturn\u001b[39;00m DataFrame\u001b[38;5;241m.\u001b[39mfrom_records(res\u001b[38;5;241m.\u001b[39mresult)\n",
      "File \u001b[1;32m~\\anaconda3\\Lib\\site-packages\\pydantic\\main.py:627\u001b[0m, in \u001b[0;36mBaseModel.model_validate\u001b[1;34m(cls, obj, strict, from_attributes, context)\u001b[0m\n\u001b[0;32m    625\u001b[0m \u001b[38;5;66;03m# `__tracebackhide__` tells pytest and some other tools to omit this function from tracebacks\u001b[39;00m\n\u001b[0;32m    626\u001b[0m __tracebackhide__ \u001b[38;5;241m=\u001b[39m \u001b[38;5;28;01mTrue\u001b[39;00m\n\u001b[1;32m--> 627\u001b[0m \u001b[38;5;28;01mreturn\u001b[39;00m \u001b[38;5;28;43mcls\u001b[39;49m\u001b[38;5;241;43m.\u001b[39;49m\u001b[43m__pydantic_validator__\u001b[49m\u001b[38;5;241;43m.\u001b[39;49m\u001b[43mvalidate_python\u001b[49m\u001b[43m(\u001b[49m\n\u001b[0;32m    628\u001b[0m \u001b[43m    \u001b[49m\u001b[43mobj\u001b[49m\u001b[43m,\u001b[49m\u001b[43m \u001b[49m\u001b[43mstrict\u001b[49m\u001b[38;5;241;43m=\u001b[39;49m\u001b[43mstrict\u001b[49m\u001b[43m,\u001b[49m\u001b[43m \u001b[49m\u001b[43mfrom_attributes\u001b[49m\u001b[38;5;241;43m=\u001b[39;49m\u001b[43mfrom_attributes\u001b[49m\u001b[43m,\u001b[49m\u001b[43m \u001b[49m\u001b[43mcontext\u001b[49m\u001b[38;5;241;43m=\u001b[39;49m\u001b[43mcontext\u001b[49m\n\u001b[0;32m    629\u001b[0m \u001b[43m\u001b[49m\u001b[43m)\u001b[49m\n",
      "\u001b[1;31mValidationError\u001b[0m: 1 validation error for Result\n  Input should be a valid dictionary or instance of Result [type=model_type, input_value=[{'id': '1', 'sepal_lengt...es': 'Iris-versicolor'}], input_type=list]\n    For further information visit https://errors.pydantic.dev/2.10/v/model_type"
     ]
    }
   ],
   "source": [
    "# from dbrepo.RestClient import RestClient\n",
    "# from pydantic import BaseModel\n",
    "# from typing import List\n",
    "\n",
    "\n",
    "\n",
    "# client = RestClient(endpoint=\"http://localhost\", username=\"reema\",\n",
    "#             password=\"admin\")\n",
    "# print('client created')\n",
    "# response = client.get_subset_data(database_id=1,subset_id=1 ,df=True)\n",
    "# print(response)\n"
   ]
  },
  {
   "cell_type": "code",
   "execution_count": 63,
   "id": "2383e64d-6f75-47a4-9976-90771afd46e1",
   "metadata": {},
   "outputs": [
    {
     "name": "stdout",
     "output_type": "stream",
     "text": [
      "client created\n",
      "1\n"
     ]
    }
   ],
   "source": [
    "# import pandas as pd\n",
    "# from dbrepo.RestClient import RestClient\n",
    "# import pydantic\n",
    "\n",
    "\n",
    "# client = RestClient(endpoint=\"http://localhost\", username=\"reema\", password=\"admin\")\n",
    "# print('client created')\n",
    "\n",
    "# try:\n",
    "#     # Get data as a DataFrame\n",
    "#     count = client.get_databases_count()\n",
    "#     print(count)\n",
    "\n",
    "# except Exception as e:\n",
    "#     print(f\"Error retrieving data: {e}\")\n"
   ]
  },
  {
   "cell_type": "code",
   "execution_count": 71,
   "id": "d6bd8c6a-c4ef-4a98-a270-0fcc7691c2b7",
   "metadata": {
    "scrolled": true
   },
   "outputs": [
    {
     "name": "stdout",
     "output_type": "stream",
     "text": [
      "client created\n",
      "Validation errors occurred:\n"
     ]
    },
    {
     "ename": "IndexError",
     "evalue": "tuple index out of range",
     "output_type": "error",
     "traceback": [
      "\u001b[1;31m---------------------------------------------------------------------------\u001b[0m",
      "\u001b[1;31mValidationError\u001b[0m                           Traceback (most recent call last)",
      "Cell \u001b[1;32mIn[71], line 34\u001b[0m\n\u001b[0;32m     26\u001b[0m \u001b[38;5;28;01mtry\u001b[39;00m:\n\u001b[0;32m     27\u001b[0m     \u001b[38;5;66;03m# result_data = ResultWithItems(\u001b[39;00m\n\u001b[0;32m     28\u001b[0m     \u001b[38;5;66;03m#     type=\"model_type\",  # Replace with actual type if available in the response\u001b[39;00m\n\u001b[1;32m   (...)\u001b[0m\n\u001b[0;32m     32\u001b[0m \n\u001b[0;32m     33\u001b[0m     \u001b[38;5;66;03m# Get data from API (assuming df=True returns a list of dictionaries)\u001b[39;00m\n\u001b[1;32m---> 34\u001b[0m     result_data \u001b[38;5;241m=\u001b[39m \u001b[43mclient\u001b[49m\u001b[38;5;241;43m.\u001b[39;49m\u001b[43mget_subset_data\u001b[49m\u001b[43m(\u001b[49m\u001b[43mdatabase_id\u001b[49m\u001b[38;5;241;43m=\u001b[39;49m\u001b[38;5;241;43m1\u001b[39;49m\u001b[43m,\u001b[49m\u001b[43m \u001b[49m\u001b[43msubset_id\u001b[49m\u001b[38;5;241;43m=\u001b[39;49m\u001b[38;5;241;43m1\u001b[39;49m\u001b[43m,\u001b[49m\u001b[43m \u001b[49m\u001b[43mdf\u001b[49m\u001b[38;5;241;43m=\u001b[39;49m\u001b[38;5;28;43;01mTrue\u001b[39;49;00m\u001b[43m)\u001b[49m\n\u001b[0;32m     36\u001b[0m    \u001b[38;5;66;03m# Now populate the input_value list with the API data\u001b[39;00m\n\u001b[0;32m     37\u001b[0m     \u001b[38;5;66;03m# Convert response items into InputValueItem objects\u001b[39;00m\n\u001b[0;32m     38\u001b[0m     \u001b[38;5;66;03m# result_data.input_value = [InputValueItem(**item) for item in response]\u001b[39;00m\n\u001b[0;32m     39\u001b[0m \n\u001b[0;32m     40\u001b[0m     \u001b[38;5;66;03m# If everything is valid, this will return the validated data\u001b[39;00m\n",
      "File \u001b[1;32m~\\anaconda3\\Lib\\site-packages\\dbrepo\\RestClient.py:1635\u001b[0m, in \u001b[0;36mRestClient.get_subset_data\u001b[1;34m(self, database_id, subset_id, page, size, df)\u001b[0m\n\u001b[0;32m   1634\u001b[0m body \u001b[38;5;241m=\u001b[39m response\u001b[38;5;241m.\u001b[39mjson()\n\u001b[1;32m-> 1635\u001b[0m res \u001b[38;5;241m=\u001b[39m \u001b[43mResult\u001b[49m\u001b[38;5;241;43m.\u001b[39;49m\u001b[43mmodel_validate\u001b[49m\u001b[43m(\u001b[49m\u001b[43mbody\u001b[49m\u001b[43m)\u001b[49m\n\u001b[0;32m   1636\u001b[0m \u001b[38;5;28;01mif\u001b[39;00m df:\n",
      "File \u001b[1;32m~\\anaconda3\\Lib\\site-packages\\pydantic\\main.py:627\u001b[0m, in \u001b[0;36mBaseModel.model_validate\u001b[1;34m(cls, obj, strict, from_attributes, context)\u001b[0m\n\u001b[0;32m    626\u001b[0m __tracebackhide__ \u001b[38;5;241m=\u001b[39m \u001b[38;5;28;01mTrue\u001b[39;00m\n\u001b[1;32m--> 627\u001b[0m \u001b[38;5;28;01mreturn\u001b[39;00m \u001b[38;5;28;43mcls\u001b[39;49m\u001b[38;5;241;43m.\u001b[39;49m\u001b[43m__pydantic_validator__\u001b[49m\u001b[38;5;241;43m.\u001b[39;49m\u001b[43mvalidate_python\u001b[49m\u001b[43m(\u001b[49m\n\u001b[0;32m    628\u001b[0m \u001b[43m    \u001b[49m\u001b[43mobj\u001b[49m\u001b[43m,\u001b[49m\u001b[43m \u001b[49m\u001b[43mstrict\u001b[49m\u001b[38;5;241;43m=\u001b[39;49m\u001b[43mstrict\u001b[49m\u001b[43m,\u001b[49m\u001b[43m \u001b[49m\u001b[43mfrom_attributes\u001b[49m\u001b[38;5;241;43m=\u001b[39;49m\u001b[43mfrom_attributes\u001b[49m\u001b[43m,\u001b[49m\u001b[43m \u001b[49m\u001b[43mcontext\u001b[49m\u001b[38;5;241;43m=\u001b[39;49m\u001b[43mcontext\u001b[49m\n\u001b[0;32m    629\u001b[0m \u001b[43m\u001b[49m\u001b[43m)\u001b[49m\n",
      "\u001b[1;31mValidationError\u001b[0m: 1 validation error for Result\n  Input should be a valid dictionary or instance of Result [type=model_type, input_value=[{'id': '1', 'sepal_lengt...es': 'Iris-versicolor'}], input_type=list]\n    For further information visit https://errors.pydantic.dev/2.10/v/model_type",
      "\nDuring handling of the above exception, another exception occurred:\n",
      "\u001b[1;31mIndexError\u001b[0m                                Traceback (most recent call last)",
      "Cell \u001b[1;32mIn[71], line 48\u001b[0m\n\u001b[0;32m     46\u001b[0m     \u001b[38;5;28mprint\u001b[39m(\u001b[38;5;124m\"\u001b[39m\u001b[38;5;124mValidation errors occurred:\u001b[39m\u001b[38;5;124m\"\u001b[39m)\n\u001b[0;32m     47\u001b[0m     \u001b[38;5;28;01mfor\u001b[39;00m error \u001b[38;5;129;01min\u001b[39;00m exc\u001b[38;5;241m.\u001b[39merrors():\n\u001b[1;32m---> 48\u001b[0m         \u001b[38;5;28mprint\u001b[39m(\u001b[38;5;124mf\u001b[39m\u001b[38;5;124m\"\u001b[39m\u001b[38;5;124mField: \u001b[39m\u001b[38;5;132;01m{\u001b[39;00m\u001b[43merror\u001b[49m\u001b[43m[\u001b[49m\u001b[38;5;124;43m'\u001b[39;49m\u001b[38;5;124;43mloc\u001b[39;49m\u001b[38;5;124;43m'\u001b[39;49m\u001b[43m]\u001b[49m\u001b[43m[\u001b[49m\u001b[38;5;241;43m0\u001b[39;49m\u001b[43m]\u001b[49m\u001b[38;5;132;01m}\u001b[39;00m\u001b[38;5;124m, Error: \u001b[39m\u001b[38;5;132;01m{\u001b[39;00m\u001b[38;5;28mrepr\u001b[39m(error[\u001b[38;5;124m'\u001b[39m\u001b[38;5;124mtype\u001b[39m\u001b[38;5;124m'\u001b[39m])\u001b[38;5;132;01m}\u001b[39;00m\u001b[38;5;124m, Message: \u001b[39m\u001b[38;5;132;01m{\u001b[39;00merror\u001b[38;5;241m.\u001b[39mget(\u001b[38;5;124m'\u001b[39m\u001b[38;5;124mmsg\u001b[39m\u001b[38;5;124m'\u001b[39m)\u001b[38;5;132;01m}\u001b[39;00m\u001b[38;5;124m\"\u001b[39m)\n\u001b[0;32m     49\u001b[0m \u001b[38;5;28;01mexcept\u001b[39;00m \u001b[38;5;167;01mException\u001b[39;00m \u001b[38;5;28;01mas\u001b[39;00m e:\n\u001b[0;32m     50\u001b[0m     \u001b[38;5;28mprint\u001b[39m(\u001b[38;5;124mf\u001b[39m\u001b[38;5;124m\"\u001b[39m\u001b[38;5;124mError retrieving data: \u001b[39m\u001b[38;5;132;01m{\u001b[39;00me\u001b[38;5;132;01m}\u001b[39;00m\u001b[38;5;124m\"\u001b[39m)\n",
      "\u001b[1;31mIndexError\u001b[0m: tuple index out of range"
     ]
    }
   ],
   "source": [
    "# from pydantic import BaseModel\n",
    "# from typing import List\n",
    "# from dbrepo.RestClient import RestClient\n",
    "\n",
    "# # Define the dictionary structure for the input_value with constraints\n",
    "# class InputValueItem(BaseModel):\n",
    "#     id: int = Field(..., ge=1)  # id must be greater than or equal to 1\n",
    "#     sepal_length: float = Field(..., ge=0)  # sepal_length must be a non-negative number\n",
    "#     sepal_width: float = Field(..., ge=0)  # sepal_width must be a non-negative number\n",
    "#     petal_length: float = Field(..., ge=0)  # petal_length must be a non-negative number\n",
    "#     petal_width: float = Field(..., ge=0)  # petal_width must be a non-negative number\n",
    "#     species: str = Field(..., min_length=3)  # species must have a minimum length of 3 characters\n",
    "\n",
    "\n",
    "# # Define the model for the list of InputValueItem\n",
    "# class ResultWithItems(BaseModel):\n",
    "#     type: str ='data'\n",
    "#     input_type: str ='data'\n",
    "#     input_value: List[InputValueItem]\n",
    "\n",
    "        \n",
    "# # Handling the API response\n",
    "# client = RestClient(endpoint=\"http://localhost\", username=\"reema\", password=\"admin\")\n",
    "# print('client created')\n",
    "\n",
    "# try:\n",
    "#     # result_data = ResultWithItems(\n",
    "#     #     type=\"model_type\",  # Replace with actual type if available in the response\n",
    "#     #     input_type=\"list\",  # Replace with actual input_type if available\n",
    "#     #     input_value=[]  # Start with an empty list\n",
    "#     # )\n",
    "\n",
    "#     # Get data from API (assuming df=True returns a list of dictionaries)\n",
    "#     result_data = client.get_subset_data(database_id=1, subset_id=1, df=True)\n",
    "\n",
    "#    # Now populate the input_value list with the API data\n",
    "#     # Convert response items into InputValueItem objects\n",
    "#     # result_data.input_value = [InputValueItem(**item) for item in response]\n",
    "\n",
    "#     # If everything is valid, this will return the validated data\n",
    "#     print(\"Valid results:\", result_data)\n",
    "#     print(result_data.input_value)  # Print the list of InputValueItem objects\n",
    "\n",
    "# except ValidationError as exc:\n",
    "#     # If validation fails, print the validation errors\n",
    "#     print(\"Validation errors occurred:\")\n",
    "#     for error in exc.errors():\n",
    "#         print(f\"Field: {error['loc'][0]}, Error: {repr(error['type'])}, Message: {error.get('msg')}\")\n",
    "# except Exception as e:\n",
    "#     print(f\"Error retrieving data: {e}\")"
   ]
  },
  {
   "cell_type": "code",
   "execution_count": 50,
   "id": "06efea0a-b3ad-42a1-9b52-8f245a6c7f96",
   "metadata": {},
   "outputs": [
    {
     "name": "stdout",
     "output_type": "stream",
     "text": [
      "client created\n",
      "Error retrieving data: 1 validation error for Result\n",
      "  Input should be a valid dictionary or instance of Result [type=model_type, input_value=[{'id': '1', 'sepal_lengt...es': 'Iris-versicolor'}], input_type=list]\n",
      "    For further information visit https://errors.pydantic.dev/2.10/v/model_type\n"
     ]
    }
   ],
   "source": [
    "# from pydantic import BaseModel\n",
    "# from typing import List\n",
    "# from dbrepo.RestClient import RestClient\n",
    "\n",
    "# # Define your Result model\n",
    "# class Result(BaseModel):\n",
    "#     type:str\n",
    "#     input_value=[{\n",
    "#         id: int\n",
    "#         sepal_length: float\n",
    "#         sepal_width: float\n",
    "#         petal_length: float\n",
    "#         petal_width: float\n",
    "#         species: str\n",
    "#     }]\n",
    "#         input_type:str\n",
    "# # Define a model for the response that will be a list of Result\n",
    "# # class ResultList(BaseModel):\n",
    "# #     results: List[Result]\n",
    "\n",
    "# # Handling the API response\n",
    "# client = RestClient(endpoint=\"http://localhost\", username=\"reema\", password=\"admin\")\n",
    "# print('client created')\n",
    "\n",
    "# try:\n",
    "#     # Get data from the client\n",
    "#     response_data = client.get_subset_data(database_id=1, subset_id=1)\n",
    "    \n",
    "#     # Check if the response is a list of dictionaries\n",
    "#     if isinstance(response_data, list):\n",
    "#         # Create an instance of ResultList by passing the list of dictionaries directly\n",
    "#         result_list = ResultList(results=[Result(**item) for item in response_data])\n",
    "        \n",
    "#         # Now result_list contains a validated list of Result objects\n",
    "#         print(\"Valid results:\", result_list)\n",
    "#         print(result_list.results)  # Print the list of Result objects\n",
    "\n",
    "#     else:\n",
    "#         print(\"Received response is not a list. Actual type:\", type(response_data))\n",
    "    \n",
    "# except Exception as e:\n",
    "#     print(f\"Error retrieving data: {e}\")\n"
   ]
  },
  {
   "cell_type": "code",
   "execution_count": 65,
   "id": "d0fb3e3a-074f-4caf-b695-eadfa3d9255e",
   "metadata": {},
   "outputs": [
    {
     "name": "stdout",
     "output_type": "stream",
     "text": [
      "Validation errors occurred:\n",
      "Field: input_value, Error: 'greater_than_equal', Message: Input should be greater than or equal to 0\n",
      "Field: input_value, Error: 'greater_than_equal', Message: Input should be greater than or equal to 0\n"
     ]
    }
   ],
   "source": [
    "# from pydantic import BaseModel, Field, ValidationError\n",
    "# from typing import List\n",
    "\n",
    "\n",
    "\n",
    "# # Define the dictionary structure for the input_value with constraints\n",
    "# class InputValueItem(BaseModel):\n",
    "#     id: int = Field(..., ge=1)  # id must be greater than or equal to 1\n",
    "#     sepal_length: float = Field(..., ge=0)  # sepal_length must be a non-negative number\n",
    "#     sepal_width: float = Field(..., ge=0)  # sepal_width must be a non-negative number\n",
    "#     petal_length: float = Field(..., ge=0)  # petal_length must be a non-negative number\n",
    "#     petal_width: float = Field(..., ge=0)  # petal_width must be a non-negative number\n",
    "#     species: str = Field(..., min_length=3)  # species must have a minimum length of 3 characters\n",
    "\n",
    "\n",
    "# # Define the model for the list of InputValueItem\n",
    "# class ResultWithItems(BaseModel):\n",
    "#     type: str\n",
    "#     input_type: str\n",
    "#     input_value: List[InputValueItem]\n",
    "\n",
    "# # Test the model with validation error handling\n",
    "# try:\n",
    "#     # Trying to create an instance of ResultWithItems with invalid data\n",
    "#     result_data = ResultWithItems(\n",
    "#         type=\"model_type\",\n",
    "#         input_type=\"list\",\n",
    "#         input_value=[\n",
    "#             {\"id\": 1, \"sepal_length\": -5.0, \"sepal_width\": 2.0, \"petal_length\": 3.0, \"petal_width\": 4.0, \"species\": \"Setosa\"},\n",
    "#             {\"id\": 2, \"sepal_length\": 4.0, \"sepal_width\": -1.0, \"petal_length\": 3.0, \"petal_width\": 4.0, \"species\": \"Versicolor\"}\n",
    "#         ]\n",
    "#     )\n",
    "# except ValidationError as exc:\n",
    "#     # Handle the validation error\n",
    "#     print(\"Validation errors occurred:\")\n",
    "#     for error in exc.errors():\n",
    "#         print(f\"Field: {error['loc'][0]}, Error: {repr(error['type'])}, Message: {error.get('msg')}\")\n"
   ]
  },
  {
   "cell_type": "code",
   "execution_count": 89,
   "id": "5c0ce080-f0eb-4b6a-bd3e-deb79b6f6123",
   "metadata": {},
   "outputs": [
    {
     "name": "stdout",
     "output_type": "stream",
     "text": [
      "client created\n",
      "Error retrieving data: 1 validation error for Result\n",
      "  Input should be a valid dictionary or instance of Result [type=model_type, input_value=[{'id': '1', 'sepal_lengt...es': 'Iris-versicolor'}], input_type=list]\n",
      "    For further information visit https://errors.pydantic.dev/2.10/v/model_type\n"
     ]
    }
   ],
   "source": [
    "# from pydantic import BaseModel, ValidationError\n",
    "# from typing import List\n",
    "# from dbrepo.RestClient import RestClient\n",
    "\n",
    "# # Define your Pydantic models\n",
    "# class InputValueItem(BaseModel):\n",
    "#     id: int\n",
    "#     sepal_length: float\n",
    "#     sepal_width: float\n",
    "#     petal_length: float\n",
    "#     petal_width: float\n",
    "#     species: str\n",
    "\n",
    "# class ResultWithItems(BaseModel):\n",
    "#     input_value: List[InputValueItem]\n",
    "\n",
    "# # Initialize the RestClient\n",
    "# client = RestClient(endpoint=\"http://localhost\", username=\"reema\", password=\"admin\")\n",
    "# print('client created')\n",
    "\n",
    "# try:\n",
    "#     # Fetch data from the API\n",
    "#     df = client.get_subset_data(database_id=1, subset_id=1, df=False)\n",
    "    \n",
    "#     # Print raw response to check if it's what you expect\n",
    "#     print(\"Raw API response:\", df)\n",
    "    \n",
    "#     # Check if the response is a list (expected data structure)\n",
    "#     if isinstance(df, list):\n",
    "#         try:\n",
    "#             # Print the first element of the response to inspect its structure\n",
    "#             print(\"First item in response:\", df[0])\n",
    "\n",
    "#             # Assuming the response is a list of dictionaries, map each item to InputValueItem\n",
    "#             result_data = ResultWithItems(\n",
    "#                 input_value=[InputValueItem(**item) for item in df]  # Create instances of InputValueItem\n",
    "#             )\n",
    "#             print(\"Validated result data:\", result_data)\n",
    "#         except ValidationError as e:\n",
    "#             print(f\"Validation error: {e}\")\n",
    "#     else:\n",
    "#         print(\"API response is not in the expected list format.\")\n",
    "        \n",
    "# except Exception as e:\n",
    "#     print(f\"Error retrieving data: {e}\")\n"
   ]
  },
  {
   "cell_type": "code",
   "execution_count": null,
   "id": "f2d57449-87bb-4259-bbc0-93801e742cec",
   "metadata": {},
   "outputs": [],
   "source": [
    "http://localhost/api/oai?metadataPrefix=string&from=string&until=string&set=string&resumptionToken=string&fromDate=2025-01-25T06%3A57%3A17.255Z&untilDate=2025-01-25T06%3A57%3A17.255Z&parametersString=string"
   ]
  },
  {
   "cell_type": "code",
   "execution_count": 2,
   "id": "87aee526-0513-4a1c-8ec1-70dd09347a09",
   "metadata": {},
   "outputs": [
    {
     "name": "stdout",
     "output_type": "stream",
     "text": [
      "Status Code: 401\n",
      "Raw Response Content: \n",
      "Error: Received status code 401\n"
     ]
    }
   ],
   "source": [
    "import requests\n",
    "\n",
    "# API endpoint URL\n",
    "url = \"http://localhost/api/oai?metadataPrefix=test&from=1&until=2&set=1&resumptionToken=string&fromDate=2025-01-25T06%3A57%3A17.255Z&untilDate=2025-01-25T06%3A57%3A17.255Z&parametersString=0\"\n",
    "url=\"http://localhost/api/identifier/retrieve?url=https%3A%2F%2Fdoi.org%2F10.5281%2Fzenodo.1404173\"\n",
    "try:\n",
    "    # Send a GET request to the APIz\n",
    "    response = requests.get(url)\n",
    "\n",
    "    # Print response status and content\n",
    "    print(f\"Status Code: {response.status_code}\")\n",
    "    print(\"Raw Response Content:\", response.text)\n",
    "\n",
    "    # Check if response contains valid JSON\n",
    "    if response.status_code == 200:\n",
    "        try:\n",
    "            data = response.json()\n",
    "            print(\"API Response (Parsed JSON):\", data)\n",
    "        except ValueError:\n",
    "            print(\"Response is not valid JSON. Here's the raw response:\")\n",
    "            print(response.text)\n",
    "    else:\n",
    "        print(f\"Error: Received status code {response.status_code}\")\n",
    "\n",
    "except requests.exceptions.RequestException as e:\n",
    "    print(f\"Request failed: {e}\")\n"
   ]
  },
  {
   "cell_type": "code",
   "execution_count": 7,
   "id": "31a9d391-d6fc-4c23-b1ab-5ee85466b375",
   "metadata": {
    "scrolled": true
   },
   "outputs": [
    {
     "name": "stdout",
     "output_type": "stream",
     "text": [
      "API Response: {'id': 'c3a42d17-42b7-43c9-a504-2363fb4c9c8d', 'name': 'Iris', 'description': None, 'tables': [{'id': '991f4e40-4524-4dd5-a94b-aa0bf4862f6f', 'name': 'iris_table', 'alias': None, 'identifiers': [], 'owner': {'id': '82520286-97b2-103f-8282-b1a6f55cd3ef', 'username': 'reema', 'name': 'Reema George Dass', 'orcid': None, 'qualified_name': 'Reema George Dass — @reema', 'given_name': 'Reema George', 'family_name': 'Dass'}, 'description': 'table desc', 'columns': [{'id': '75811fa4-5d84-4e37-b256-09fafdb00f6a', 'name': 'Id', 'alias': None, 'size': None, 'd': None, 'mean': 76, 'median': 76, 'concept': None, 'unit': None, 'description': None, 'enums': [], 'sets': [], 'database_id': 'c3a42d17-42b7-43c9-a504-2363fb4c9c8d', 'table_id': '991f4e40-4524-4dd5-a94b-aa0bf4862f6f', 'ord': 0, 'internal_name': 'id', 'index_length': None, 'length': None, 'type': 'bigint', 'data_length': None, 'max_data_length': None, 'num_rows': None, 'val_min': None, 'val_max': None, 'std_dev': 43, 'is_null_allowed': False}, {'id': '92330917-0d50-44e4-acb2-bef47475c8ad', 'name': 'SepalLengthCm', 'alias': None, 'size': 40, 'd': 20, 'mean': 6, 'median': 6, 'concept': None, 'unit': None, 'description': None, 'enums': [], 'sets': [], 'database_id': 'c3a42d17-42b7-43c9-a504-2363fb4c9c8d', 'table_id': '991f4e40-4524-4dd5-a94b-aa0bf4862f6f', 'ord': 1, 'internal_name': 'sepallengthcm', 'index_length': None, 'length': None, 'type': 'decimal', 'data_length': None, 'max_data_length': None, 'num_rows': None, 'val_min': None, 'val_max': None, 'std_dev': 1, 'is_null_allowed': False}, {'id': 'de173391-8e10-4355-84d3-2120c377f8e8', 'name': 'SepalWidthCm', 'alias': None, 'size': 40, 'd': 20, 'mean': 3, 'median': 3, 'concept': None, 'unit': None, 'description': None, 'enums': [], 'sets': [], 'database_id': 'c3a42d17-42b7-43c9-a504-2363fb4c9c8d', 'table_id': '991f4e40-4524-4dd5-a94b-aa0bf4862f6f', 'ord': 2, 'internal_name': 'sepalwidthcm', 'index_length': None, 'length': None, 'type': 'decimal', 'data_length': None, 'max_data_length': None, 'num_rows': None, 'val_min': None, 'val_max': None, 'std_dev': 0, 'is_null_allowed': False}, {'id': '4da5535a-8849-4bff-a017-2e916e9792b4', 'name': 'PetalLengthCm', 'alias': None, 'size': 40, 'd': 20, 'mean': 4, 'median': 4, 'concept': None, 'unit': None, 'description': None, 'enums': [], 'sets': [], 'database_id': 'c3a42d17-42b7-43c9-a504-2363fb4c9c8d', 'table_id': '991f4e40-4524-4dd5-a94b-aa0bf4862f6f', 'ord': 3, 'internal_name': 'petallengthcm', 'index_length': None, 'length': None, 'type': 'decimal', 'data_length': None, 'max_data_length': None, 'num_rows': None, 'val_min': None, 'val_max': None, 'std_dev': 2, 'is_null_allowed': False}, {'id': '6aec0c11-eab9-4d92-a0c2-8a2c3eb07371', 'name': 'PetalWidthCm', 'alias': None, 'size': 40, 'd': 20, 'mean': 1, 'median': 1, 'concept': None, 'unit': None, 'description': None, 'enums': [], 'sets': [], 'database_id': 'c3a42d17-42b7-43c9-a504-2363fb4c9c8d', 'table_id': '991f4e40-4524-4dd5-a94b-aa0bf4862f6f', 'ord': 4, 'internal_name': 'petalwidthcm', 'index_length': None, 'length': None, 'type': 'decimal', 'data_length': None, 'max_data_length': None, 'num_rows': None, 'val_min': None, 'val_max': None, 'std_dev': 1, 'is_null_allowed': False}, {'id': 'f80b506a-dcf9-4c43-90fc-2263598c1f3a', 'name': 'Species', 'alias': None, 'size': 255, 'd': None, 'mean': None, 'median': None, 'concept': None, 'unit': None, 'description': None, 'enums': [], 'sets': [], 'database_id': 'c3a42d17-42b7-43c9-a504-2363fb4c9c8d', 'table_id': '991f4e40-4524-4dd5-a94b-aa0bf4862f6f', 'ord': 5, 'internal_name': 'species', 'index_length': None, 'length': None, 'type': 'varchar', 'data_length': None, 'max_data_length': None, 'num_rows': None, 'val_min': None, 'val_max': None, 'std_dev': None, 'is_null_allowed': False}], 'constraints': {'uniques': [{'id': 'd5a0aca4-185d-40e1-9577-d854176b4c9a', 'name': 'uk_iris_table_0', 'table': {'id': '991f4e40-4524-4dd5-a94b-aa0bf4862f6f', 'name': 'iris_table', 'description': 'table desc', 'database_id': 'c3a42d17-42b7-43c9-a504-2363fb4c9c8d', 'internal_name': 'iris_table', 'is_versioned': True, 'is_public': True, 'is_schema_public': True, 'owned_by': '82520286-97b2-103f-8282-b1a6f55cd3ef'}, 'columns': [{'id': '75811fa4-5d84-4e37-b256-09fafdb00f6a', 'name': 'Id', 'alias': None, 'database_id': 'c3a42d17-42b7-43c9-a504-2363fb4c9c8d', 'table_id': '991f4e40-4524-4dd5-a94b-aa0bf4862f6f', 'internal_name': 'id', 'type': 'bigint'}]}], 'checks': [], 'foreign_keys': [], 'primary_key': [{'id': '3fe957be-c4f7-437c-84ab-1434507232a9', 'table': {'id': '991f4e40-4524-4dd5-a94b-aa0bf4862f6f', 'name': 'iris_table', 'description': 'table desc', 'database_id': 'c3a42d17-42b7-43c9-a504-2363fb4c9c8d', 'internal_name': 'iris_table', 'is_versioned': True, 'is_public': True, 'is_schema_public': True, 'owned_by': '82520286-97b2-103f-8282-b1a6f55cd3ef'}, 'column': {'id': '75811fa4-5d84-4e37-b256-09fafdb00f6a', 'name': 'Id', 'alias': None, 'database_id': 'c3a42d17-42b7-43c9-a504-2363fb4c9c8d', 'table_id': '991f4e40-4524-4dd5-a94b-aa0bf4862f6f', 'internal_name': 'id', 'type': 'bigint'}}]}, 'last_retrieved': None, 'database_id': 'c3a42d17-42b7-43c9-a504-2363fb4c9c8d', 'internal_name': 'iris_table', 'is_versioned': True, 'is_schema_public': True, 'queue_name': 'dbrepo', 'queue_type': 'quorum', 'routing_key': 'dbrepo.c3a42d17-42b7-43c9-a504-2363fb4c9c8d.991f4e40-4524-4dd5-a94b-aa0bf4862f6f', 'is_public': True, 'num_rows': 150, 'data_length': 16384, 'max_data_length': 0, 'avg_row_length': 109}], 'views': [], 'container': {'id': '6cfb3b8e-1792-4e46-871a-f3d103527203', 'name': 'mariadb:11.1.3-debian-11-r6', 'image': {'id': 'd79cb089-363c-488b-9717-649e44d8fcc5', 'name': 'mariadb', 'version': '11.1.3', 'operators': [{'id': 'f91904c7-0340-11f0-9b37-0242ac130006', 'value': '!=', 'documentation': 'https://mariadb.com/kb/en/not-equal/', 'display_name': 'Not equal operator'}, {'id': 'f918f43b-0340-11f0-9b37-0242ac130006', 'value': '<', 'documentation': 'https://mariadb.com/kb/en/less-than/', 'display_name': 'Less-than operator'}, {'id': 'f918fb3a-0340-11f0-9b37-0242ac130006', 'value': '<=', 'documentation': 'https://mariadb.com/kb/en/less-than-or-equal/', 'display_name': 'Less than or equal operator'}, {'id': 'f918d046-0340-11f0-9b37-0242ac130006', 'value': '<=>', 'documentation': 'https://mariadb.com/kb/en/null-safe-equal/', 'display_name': 'NULL-safe equal operator'}, {'id': 'f918c9bf-0340-11f0-9b37-0242ac130006', 'value': '=', 'documentation': 'https://mariadb.com/kb/en/assignment-operators-assignment-operator/', 'display_name': 'Equal operator'}, {'id': 'f9190206-0340-11f0-9b37-0242ac130006', 'value': '>', 'documentation': 'https://mariadb.com/kb/en/greater-than/', 'display_name': 'Greater-than operator'}, {'id': 'f919038d-0340-11f0-9b37-0242ac130006', 'value': '>=', 'documentation': 'https://mariadb.com/kb/en/greater-than-or-equal/', 'display_name': 'Greater than or equal operator'}, {'id': 'f9190e81-0340-11f0-9b37-0242ac130006', 'value': 'IN', 'documentation': 'https://mariadb.com/kb/en/in/', 'display_name': 'IN'}, {'id': 'f919104d-0340-11f0-9b37-0242ac130006', 'value': 'IS NOT NULL', 'documentation': 'https://mariadb.com/kb/en/is-not-null/', 'display_name': 'IS NOT NULL'}, {'id': 'f919112c-0340-11f0-9b37-0242ac130006', 'value': 'IS NULL', 'documentation': 'https://mariadb.com/kb/en/is-null/', 'display_name': 'IS NULL'}, {'id': 'f9190623-0340-11f0-9b37-0242ac130006', 'value': 'LIKE', 'documentation': 'https://mariadb.com/kb/en/like/', 'display_name': 'LIKE'}, {'id': 'f9190f6c-0340-11f0-9b37-0242ac130006', 'value': 'NOT IN', 'documentation': 'https://mariadb.com/kb/en/not-in/', 'display_name': 'NOT IN'}, {'id': 'f9190ced-0340-11f0-9b37-0242ac130006', 'value': 'NOT LIKE', 'documentation': 'https://mariadb.com/kb/en/not-like/', 'display_name': 'NOT LIKE'}, {'id': 'f91915c8-0340-11f0-9b37-0242ac130006', 'value': 'NOT REGEXP', 'documentation': 'https://mariadb.com/kb/en/not-regexp/', 'display_name': 'NOT REGEXP'}, {'id': 'f9191449-0340-11f0-9b37-0242ac130006', 'value': 'REGEXP', 'documentation': 'https://mariadb.com/kb/en/regexp/', 'display_name': 'REGEXP'}], 'default': False, 'data_types': [{'id': 'f916e230-0340-11f0-9b37-0242ac130006', 'value': 'bigint', 'documentation': 'https://mariadb.com/kb/en/bigint/', 'display_name': 'BIGINT(size)', 'size_min': 0, 'size_max': None, 'size_default': None, 'size_required': False, 'd_min': None, 'd_max': None, 'd_default': None, 'd_required': None, 'data_hint': None, 'type_hint': None, 'is_quoted': False, 'is_buildable': True}, {'id': 'f916e7f6-0340-11f0-9b37-0242ac130006', 'value': 'binary', 'documentation': 'https://mariadb.com/kb/en/binary/', 'display_name': 'BINARY(size)', 'size_min': 0, 'size_max': 255, 'size_default': 255, 'size_required': True, 'd_min': None, 'd_max': None, 'd_default': None, 'd_required': None, 'data_hint': None, 'type_hint': 'size in Bytes', 'is_quoted': False, 'is_buildable': True}, {'id': 'f916ea85-0340-11f0-9b37-0242ac130006', 'value': 'bit', 'documentation': 'https://mariadb.com/kb/en/bit/', 'display_name': 'BIT(size)', 'size_min': 0, 'size_max': 64, 'size_default': None, 'size_required': False, 'd_min': None, 'd_max': None, 'd_default': None, 'd_required': None, 'data_hint': None, 'type_hint': None, 'is_quoted': False, 'is_buildable': True}, {'id': 'f916ebdc-0340-11f0-9b37-0242ac130006', 'value': 'blob', 'documentation': 'https://mariadb.com/kb/en/blob/', 'display_name': 'BLOB(size)', 'size_min': 0, 'size_max': 65535, 'size_default': None, 'size_required': False, 'd_min': None, 'd_max': None, 'd_default': None, 'd_required': None, 'data_hint': None, 'type_hint': 'size in Bytes', 'is_quoted': False, 'is_buildable': False}, {'id': 'f916eced-0340-11f0-9b37-0242ac130006', 'value': 'bool', 'documentation': 'https://mariadb.com/kb/en/bool/', 'display_name': 'BOOL', 'size_min': None, 'size_max': None, 'size_default': None, 'size_required': None, 'd_min': None, 'd_max': None, 'd_default': None, 'd_required': None, 'data_hint': None, 'type_hint': None, 'is_quoted': False, 'is_buildable': True}, {'id': 'f916ee01-0340-11f0-9b37-0242ac130006', 'value': 'char', 'documentation': 'https://mariadb.com/kb/en/char/', 'display_name': 'CHAR(size)', 'size_min': 0, 'size_max': 255, 'size_default': 255, 'size_required': False, 'd_min': None, 'd_max': None, 'd_default': None, 'd_required': None, 'data_hint': None, 'type_hint': None, 'is_quoted': False, 'is_buildable': True}, {'id': 'f916ef02-0340-11f0-9b37-0242ac130006', 'value': 'date', 'documentation': 'https://mariadb.com/kb/en/date/', 'display_name': 'DATE', 'size_min': None, 'size_max': None, 'size_default': None, 'size_required': None, 'd_min': None, 'd_max': None, 'd_default': None, 'd_required': None, 'data_hint': 'e.g. YYYY-MM-DD, YY-MM-DD, YYMMDD, YYYY/MM/DD', 'type_hint': 'min. 1000-01-01, max. 9999-12-31', 'is_quoted': True, 'is_buildable': True}, {'id': 'f916f017-0340-11f0-9b37-0242ac130006', 'value': 'datetime', 'documentation': 'https://mariadb.com/kb/en/datetime/', 'display_name': 'DATETIME(fsp)', 'size_min': 0, 'size_max': 6, 'size_default': None, 'size_required': None, 'd_min': None, 'd_max': None, 'd_default': None, 'd_required': None, 'data_hint': 'e.g. YYYY-MM-DD HH:MM:SS, YY-MM-DD HH:MM:SS, YYYYMMDDHHMMSS, YYMMDDHHMMSS, YYYYMMDD, YYMMDD', 'type_hint': 'fsp=microsecond precision, min. 1000-01-01 00:00:00.0, max. 9999-12-31 23:59:59.9', 'is_quoted': True, 'is_buildable': True}, {'id': 'f916f13a-0340-11f0-9b37-0242ac130006', 'value': 'decimal', 'documentation': 'https://mariadb.com/kb/en/decimal/', 'display_name': 'DECIMAL(size, d)', 'size_min': 0, 'size_max': 65, 'size_default': None, 'size_required': False, 'd_min': 0, 'd_max': 38, 'd_default': None, 'd_required': False, 'data_hint': None, 'type_hint': None, 'is_quoted': False, 'is_buildable': True}, {'id': 'f916f21f-0340-11f0-9b37-0242ac130006', 'value': 'double', 'documentation': 'https://mariadb.com/kb/en/double/', 'display_name': 'DOUBLE(size, d)', 'size_min': None, 'size_max': None, 'size_default': None, 'size_required': False, 'd_min': None, 'd_max': None, 'd_default': None, 'd_required': False, 'data_hint': None, 'type_hint': None, 'is_quoted': False, 'is_buildable': True}, {'id': 'f916f2ff-0340-11f0-9b37-0242ac130006', 'value': 'enum', 'documentation': 'https://mariadb.com/kb/en/enum/', 'display_name': 'ENUM(v1,v2,...)', 'size_min': None, 'size_max': None, 'size_default': None, 'size_required': None, 'd_min': None, 'd_max': None, 'd_default': None, 'd_required': None, 'data_hint': 'e.g. value1, value2, ...', 'type_hint': None, 'is_quoted': True, 'is_buildable': True}, {'id': 'f916f3ec-0340-11f0-9b37-0242ac130006', 'value': 'float', 'documentation': 'https://mariadb.com/kb/en/float/', 'display_name': 'FLOAT(size)', 'size_min': None, 'size_max': None, 'size_default': None, 'size_required': False, 'd_min': None, 'd_max': None, 'd_default': None, 'd_required': None, 'data_hint': None, 'type_hint': None, 'is_quoted': False, 'is_buildable': True}, {'id': 'f916f52c-0340-11f0-9b37-0242ac130006', 'value': 'int', 'documentation': 'https://mariadb.com/kb/en/int/', 'display_name': 'INT(size)', 'size_min': None, 'size_max': None, 'size_default': None, 'size_required': False, 'd_min': None, 'd_max': None, 'd_default': None, 'd_required': None, 'data_hint': None, 'type_hint': 'size in Bytes', 'is_quoted': False, 'is_buildable': True}, {'id': 'f916f64c-0340-11f0-9b37-0242ac130006', 'value': 'longblob', 'documentation': 'https://mariadb.com/kb/en/longblob/', 'display_name': 'LONGBLOB', 'size_min': None, 'size_max': None, 'size_default': None, 'size_required': None, 'd_min': None, 'd_max': None, 'd_default': None, 'd_required': None, 'data_hint': None, 'type_hint': 'max. 3.999 GiB', 'is_quoted': False, 'is_buildable': True}, {'id': 'f916f73f-0340-11f0-9b37-0242ac130006', 'value': 'longtext', 'documentation': 'https://mariadb.com/kb/en/longtext/', 'display_name': 'LONGTEXT', 'size_min': None, 'size_max': None, 'size_default': None, 'size_required': None, 'd_min': None, 'd_max': None, 'd_default': None, 'd_required': None, 'data_hint': None, 'type_hint': 'max. 3.999 GiB', 'is_quoted': True, 'is_buildable': True}, {'id': 'f916f827-0340-11f0-9b37-0242ac130006', 'value': 'mediumblob', 'documentation': 'https://mariadb.com/kb/en/mediumblob/', 'display_name': 'MEDIUMBLOB', 'size_min': None, 'size_max': None, 'size_default': None, 'size_required': None, 'd_min': None, 'd_max': None, 'd_default': None, 'd_required': None, 'data_hint': None, 'type_hint': 'max. 15.999 MiB', 'is_quoted': False, 'is_buildable': True}, {'id': 'f916f911-0340-11f0-9b37-0242ac130006', 'value': 'mediumint', 'documentation': 'https://mariadb.com/kb/en/mediumint/', 'display_name': 'MEDIUMINT', 'size_min': None, 'size_max': None, 'size_default': None, 'size_required': None, 'd_min': None, 'd_max': None, 'd_default': None, 'd_required': None, 'data_hint': None, 'type_hint': 'size in Bytes', 'is_quoted': False, 'is_buildable': True}, {'id': 'f916f9f0-0340-11f0-9b37-0242ac130006', 'value': 'mediumtext', 'documentation': 'https://mariadb.com/kb/en/mediumtext/', 'display_name': 'MEDIUMTEXT', 'size_min': None, 'size_max': None, 'size_default': None, 'size_required': None, 'd_min': None, 'd_max': None, 'd_default': None, 'd_required': None, 'data_hint': None, 'type_hint': 'size in Bytes', 'is_quoted': True, 'is_buildable': True}, {'id': 'f916fb2f-0340-11f0-9b37-0242ac130006', 'value': 'serial', 'documentation': 'https://mariadb.com/kb/en/bigint/', 'display_name': 'SERIAL', 'size_min': None, 'size_max': None, 'size_default': None, 'size_required': None, 'd_min': None, 'd_max': None, 'd_default': None, 'd_required': None, 'data_hint': None, 'type_hint': None, 'is_quoted': True, 'is_buildable': True}, {'id': 'f916fc32-0340-11f0-9b37-0242ac130006', 'value': 'set', 'documentation': 'https://mariadb.com/kb/en/set/', 'display_name': 'SET(v1,v2,...)', 'size_min': None, 'size_max': None, 'size_default': None, 'size_required': None, 'd_min': None, 'd_max': None, 'd_default': None, 'd_required': None, 'data_hint': 'e.g. value1, value2, ...', 'type_hint': None, 'is_quoted': True, 'is_buildable': True}, {'id': 'f916fd1a-0340-11f0-9b37-0242ac130006', 'value': 'smallint', 'documentation': 'https://mariadb.com/kb/en/smallint/', 'display_name': 'SMALLINT(size)', 'size_min': 0, 'size_max': None, 'size_default': None, 'size_required': False, 'd_min': None, 'd_max': None, 'd_default': None, 'd_required': None, 'data_hint': None, 'type_hint': 'size in Bytes', 'is_quoted': False, 'is_buildable': True}, {'id': 'f916fdfd-0340-11f0-9b37-0242ac130006', 'value': 'text', 'documentation': 'https://mariadb.com/kb/en/text/', 'display_name': 'TEXT(size)', 'size_min': 0, 'size_max': None, 'size_default': None, 'size_required': False, 'd_min': None, 'd_max': None, 'd_default': None, 'd_required': None, 'data_hint': None, 'type_hint': 'size in Bytes', 'is_quoted': True, 'is_buildable': True}, {'id': 'f916fee0-0340-11f0-9b37-0242ac130006', 'value': 'time', 'documentation': 'https://mariadb.com/kb/en/time/', 'display_name': 'TIME(fsp)', 'size_min': 0, 'size_max': 6, 'size_default': 0, 'size_required': False, 'd_min': None, 'd_max': None, 'd_default': None, 'd_required': None, 'data_hint': 'e.g. HH:MM:SS, HH:MM, HHMMSS, H:M:S', 'type_hint': 'fsp=microsecond precision, min. 0, max. 6', 'is_quoted': True, 'is_buildable': True}, {'id': 'f916ffd4-0340-11f0-9b37-0242ac130006', 'value': 'timestamp', 'documentation': 'https://mariadb.com/kb/en/timestamp/', 'display_name': 'TIMESTAMP(fsp)', 'size_min': 0, 'size_max': 6, 'size_default': 0, 'size_required': False, 'd_min': None, 'd_max': None, 'd_default': None, 'd_required': None, 'data_hint': 'e.g. YYYY-MM-DD HH:MM:SS, YY-MM-DD HH:MM:SS, YYYYMMDDHHMMSS, YYMMDDHHMMSS, YYYYMMDD, YYMMDD', 'type_hint': 'fsp=microsecond precision, min. 0, max. 6', 'is_quoted': True, 'is_buildable': True}, {'id': 'f91700c2-0340-11f0-9b37-0242ac130006', 'value': 'tinyblob', 'documentation': 'https://mariadb.com/kb/en/timestamp/', 'display_name': 'TINYBLOB', 'size_min': None, 'size_max': None, 'size_default': None, 'size_required': None, 'd_min': None, 'd_max': None, 'd_default': None, 'd_required': None, 'data_hint': 'fsp=microsecond precision, min. 0, max. 6', 'type_hint': None, 'is_quoted': False, 'is_buildable': True}, {'id': 'f91701a3-0340-11f0-9b37-0242ac130006', 'value': 'tinyint', 'documentation': 'https://mariadb.com/kb/en/tinyint/', 'display_name': 'TINYINT(size)', 'size_min': 0, 'size_max': None, 'size_default': None, 'size_required': False, 'd_min': None, 'd_max': None, 'd_default': None, 'd_required': None, 'data_hint': 'size in Bytes', 'type_hint': None, 'is_quoted': False, 'is_buildable': True}, {'id': 'f917028b-0340-11f0-9b37-0242ac130006', 'value': 'tinytext', 'documentation': 'https://mariadb.com/kb/en/tinytext/', 'display_name': 'TINYTEXT', 'size_min': None, 'size_max': None, 'size_default': None, 'size_required': None, 'd_min': None, 'd_max': None, 'd_default': None, 'd_required': None, 'data_hint': 'max. 255 characters', 'type_hint': None, 'is_quoted': True, 'is_buildable': True}, {'id': 'f9170368-0340-11f0-9b37-0242ac130006', 'value': 'year', 'documentation': 'https://mariadb.com/kb/en/year/', 'display_name': 'YEAR', 'size_min': 2, 'size_max': 4, 'size_default': None, 'size_required': False, 'd_min': None, 'd_max': None, 'd_default': None, 'd_required': None, 'data_hint': 'e.g. YYYY, YY', 'type_hint': 'min. 1901, max. 2155', 'is_quoted': False, 'is_buildable': True}, {'id': 'f9170478-0340-11f0-9b37-0242ac130006', 'value': 'varbinary', 'documentation': 'https://mariadb.com/kb/en/varbinary/', 'display_name': 'VARBINARY(size)', 'size_min': 0, 'size_max': None, 'size_default': None, 'size_required': True, 'd_min': None, 'd_max': None, 'd_default': None, 'd_required': None, 'data_hint': None, 'type_hint': None, 'is_quoted': False, 'is_buildable': True}, {'id': 'f9170567-0340-11f0-9b37-0242ac130006', 'value': 'varchar', 'documentation': 'https://mariadb.com/kb/en/varchar/', 'display_name': 'VARCHAR(size)', 'size_min': 0, 'size_max': 65532, 'size_default': 255, 'size_required': True, 'd_min': None, 'd_max': None, 'd_default': None, 'd_required': None, 'data_hint': None, 'type_hint': None, 'is_quoted': False, 'is_buildable': True}]}, 'quota': None, 'count': None, 'username': None, 'password': None, 'last_retrieved': None, 'internal_name': 'mariadb_11_1_3'}, 'accesses': [], 'identifiers': [], 'subsets': [], 'contact': {'id': '82520286-97b2-103f-8282-b1a6f55cd3ef', 'username': 'reema', 'name': 'Reema George Dass', 'orcid': None, 'qualified_name': 'Reema George Dass — @reema', 'given_name': 'Reema George', 'family_name': 'Dass'}, 'owner': {'id': '82520286-97b2-103f-8282-b1a6f55cd3ef', 'username': 'reema', 'name': 'Reema George Dass', 'orcid': None, 'qualified_name': 'Reema George Dass — @reema', 'given_name': 'Reema George', 'family_name': 'Dass'}, 'last_retrieved': None, 'exchange_name': 'dbrepo', 'exchange_type': None, 'internal_name': 'iris_akhn', 'is_public': True, 'is_schema_public': True, 'preview_image': None}\n",
      "API response saved to Code_fetched_metadata_dbrep\\database_details.json\n"
     ]
    }
   ],
   "source": [
    "import requests\n",
    "import os\n",
    "import json\n",
    "\n",
    "# API endpoint URL  Databse details\n",
    "url = \"http://localhost/api/database/c3a42d17-42b7-43c9-a504-2363fb4c9c8d\"\n",
    "\n",
    "try:\n",
    "    # Send a GET request to the API\n",
    "    response = requests.get(url)\n",
    "\n",
    "    # Check if the request was successful\n",
    "    if response.status_code == 200:\n",
    "        # Parse the JSON response\n",
    "        data = response.json()\n",
    "        print(\"API Response:\", data)\n",
    "  \n",
    "        data = response.json()\n",
    "        \n",
    "        \n",
    "        \n",
    "                # Define the folder path to save the JSON file\n",
    "        folder_path = \"Code_fetched_metadata_dbrep\"\n",
    "        os.makedirs(folder_path, exist_ok=True)\n",
    "        \n",
    "                # Define the filename for the JSON file\n",
    "        json_filename = os.path.join(folder_path, \"database_details.json\")\n",
    "        \n",
    "                # Save the entire response as a JSON file\n",
    "        with open(json_filename, \"w\") as json_file:\n",
    "                json.dump(data, json_file, indent=4)\n",
    "        \n",
    "        print(f\"API response saved to {json_filename}\")\n",
    "   \n",
    "    else:\n",
    "        print(f\"Error: Received status code {response.status_code}\")\n",
    "        print(\"Response content:\", response.text)\n",
    "except requests.exceptions.RequestException as e:\n",
    "    print(f\"Request failed: {e}\")"
   ]
  },
  {
   "cell_type": "code",
   "execution_count": 11,
   "id": "029a1b5c-3e9d-4f28-8060-6af9f01ffa44",
   "metadata": {},
   "outputs": [
    {
     "name": "stdout",
     "output_type": "stream",
     "text": [
      "API Response: [{'id': '1', 'sepallengthcm': '5.100000000000000000', 'sepalwidthcm': '3.500000000000000000', 'petallengthcm': '1.400000000000000000', 'petalwidthcm': '0.200000000000000000', 'species': 'Iris-setosa'}, {'id': '2', 'sepallengthcm': '4.900000000000000000', 'sepalwidthcm': '3.000000000000000000', 'petallengthcm': '1.400000000000000000', 'petalwidthcm': '0.200000000000000000', 'species': 'Iris-setosa'}, {'id': '3', 'sepallengthcm': '4.700000000000000000', 'sepalwidthcm': '3.200000000000000000', 'petallengthcm': '1.300000000000000000', 'petalwidthcm': '0.200000000000000000', 'species': 'Iris-setosa'}, {'id': '4', 'sepallengthcm': '4.600000000000000000', 'sepalwidthcm': '3.100000000000000000', 'petallengthcm': '1.500000000000000000', 'petalwidthcm': '0.200000000000000000', 'species': 'Iris-setosa'}, {'id': '5', 'sepallengthcm': '5.000000000000000000', 'sepalwidthcm': '3.600000000000000000', 'petallengthcm': '1.400000000000000000', 'petalwidthcm': '0.200000000000000000', 'species': 'Iris-setosa'}, {'id': '6', 'sepallengthcm': '5.400000000000000000', 'sepalwidthcm': '3.900000000000000000', 'petallengthcm': '1.700000000000000000', 'petalwidthcm': '0.400000000000000000', 'species': 'Iris-setosa'}, {'id': '7', 'sepallengthcm': '4.600000000000000000', 'sepalwidthcm': '3.400000000000000000', 'petallengthcm': '1.400000000000000000', 'petalwidthcm': '0.300000000000000000', 'species': 'Iris-setosa'}, {'id': '8', 'sepallengthcm': '5.000000000000000000', 'sepalwidthcm': '3.400000000000000000', 'petallengthcm': '1.500000000000000000', 'petalwidthcm': '0.200000000000000000', 'species': 'Iris-setosa'}, {'id': '9', 'sepallengthcm': '4.400000000000000000', 'sepalwidthcm': '2.900000000000000000', 'petallengthcm': '1.400000000000000000', 'petalwidthcm': '0.200000000000000000', 'species': 'Iris-setosa'}, {'id': '10', 'sepallengthcm': '4.900000000000000000', 'sepalwidthcm': '3.100000000000000000', 'petallengthcm': '1.500000000000000000', 'petalwidthcm': '0.100000000000000000', 'species': 'Iris-setosa'}]\n"
     ]
    }
   ],
   "source": [
    "import requests\n",
    "\n",
    "# API endpoint URL\n",
    "url = \"http://localhost/api/database/c3a42d17-42b7-43c9-a504-2363fb4c9c8d/table/991f4e40-4524-4dd5-a94b-aa0bf4862f6f/data\"\n",
    "# url = \"http://localhost/api/identifier/retrieve?url=https%3A%2F%2Fdoi.org%2F10.5281%2Fzenodo.1404173\"\n",
    "\n",
    "try:\n",
    "    headers = {\"Accept\": \"application/json\"}\n",
    "    response = requests.get(url, headers=headers)\n",
    "\n",
    "    # Send a GET request to the API\n",
    "    # response = requests.get(url)\n",
    "\n",
    "    # Check if the request was successful\n",
    "    if response.status_code == 200:\n",
    "        # Parse the JSON response\n",
    "        data = response.json()\n",
    "        print(\"API Response:\", data)\n",
    "    else:\n",
    "        print(f\"Error: Received status code {response.status_code}\")\n",
    "        print(\"Response content:\", response.text)\n",
    "\n",
    "except requests.exceptions.RequestException as e:\n",
    "    print(f\"Request failed: {e}\")"
   ]
  },
  {
   "cell_type": "code",
   "execution_count": 16,
   "id": "e45c77e7-6a6f-4370-a317-8aa537dc4ea7",
   "metadata": {},
   "outputs": [
    {
     "name": "stdout",
     "output_type": "stream",
     "text": [
      "XML Response Parsed:\n",
      "<ns0:OAI-PMH xmlns:ns0=\"http://www.openarchives.org/OAI/2.0/\" xmlns:xsi=\"http://www.w3.org/2001/XMLSchema-instance\" xsi:schemaLocation=\"http://www.openarchives.org/OAI/2.0/ http://www.openarchives.org/OAI/2.0/OAI-PMH.xsd\">\n",
      "    <ns0:responseDate>2025-03-07T19:43:11Z</ns0:responseDate>\n",
      "    <ns0:request verb=\"Identify\">https://localhost/api/oai</ns0:request>\n",
      "    <ns0:Identify>\n",
      "    <ns0:repositoryName>Database Repository</ns0:repositoryName>\n",
      "    <ns0:baseURL>http://localhost</ns0:baseURL>\n",
      "    <ns0:protocolVersion>2.0</ns0:protocolVersion>\n",
      "    <ns0:adminEmail>noreply@localhost</ns0:adminEmail>\n",
      "    <ns0:earliestDatestamp />\n",
      "    <ns0:deletedRecord>persistent</ns0:deletedRecord>\n",
      "    <ns0:granularity>YYYY-MM-DDThh:mm:ssZ</ns0:granularity>\n",
      "</ns0:Identify>\n",
      "</ns0:OAI-PMH>\n"
     ]
    }
   ],
   "source": [
    "\n",
    "# API endpoint URL\n",
    "\n",
    "# {\n",
    "#   \"metadataPrefix\": \"oai_dc\",  \n",
    "#   \"from\": \"2025-03-01\", \n",
    "#   \"until\": \"2025-03-07\",  \n",
    "#   \"set\": \"Databases/6c1c5dbd-d471-416f-997f-cf5bf72943e4/Tables/1d8801b0-05b8-4066-b7d1-e5c1da11768f\",\n",
    "#   \"resumptionToken\": \"string\",\n",
    "#   \"fromDate\": \"2025-03-07T18:48:43.749Z\",\n",
    "#   \"untilDate\": \"2025-03-07T18:48:43.749Z\",\n",
    "#   \"parametersString\": \"string\"\n",
    "# }\n",
    "# url = \"http://localhost/api/database/6c1c5dbd-d471-416f-997f-cf5bf72943e4/table/1d8801b0-05b8-4066-b7d1-e5c1da11768f/data\"\n",
    "import requests\n",
    "import xml.etree.ElementTree as ET\n",
    "\n",
    "# URL for the API request\n",
    "url = \"https://test.dbrepo.tuwien.ac.at/api/oai?metadataPrefix=string&from=string&until=string&set=string&resumptionToken=string&fromDate=2025-03-07T19%3A35%3A51.476Z&untilDate=2025-03-07T19%3A35%3A51.476Z&parametersString=string\"\n",
    "url =\"https://test.dbrepo.tuwien.ac.at/api/oai?metadataPrefix=oai_dc&from=string&until=string&set=string&resumptionToken=string&fromDate=2025-03-07T19%3A35%3A51.476Z&untilDate=2025-03-07T19%3A35%3A51.476Z&parametersString=string\"\n",
    "url=\"http://localhost/api/oai?metadataPrefix=oai_dc&from=2025-03-01&until=2025-03-07&set=Databases%2F6c1c5dbd-d471-416f-997f-cf5bf72943e4%2FTables%2F1d8801b0-05b8-4066-b7d1-e5c1da11768f&resumptionToken=string&fromDate=2025-03-07T19%3A35%3A51.476Z&untilDate=2025-03-07T19%3A35%3A51.476Z&parametersString=string\"\n",
    "\n",
    "\n",
    "\n",
    "try:\n",
    "    # Send a GET request to the API\n",
    "    response = requests.get(url)\n",
    "\n",
    "    # Check if the request was successful\n",
    "    if response.status_code == 200:\n",
    "        # Check if the content type is XML (text/xml or application/xml)\n",
    "        if 'xml' in response.headers.get('Content-Type', ''):\n",
    "            # Parse the XML response\n",
    "            root = ET.fromstring(response.text)\n",
    "            print(\"XML Response Parsed:\")\n",
    "            # Print the XML tree (raw XML response)\n",
    "            print(ET.tostring(root, encoding='utf-8', method='xml').decode())\n",
    "        else:\n",
    "            print(\"Error: Response content is not in XML format. Content-Type:\", response.headers.get('Content-Type'))\n",
    "    else:\n",
    "        print(f\"Error: Received status code {response.status_code}\")\n",
    "        print(\"Response content:\", response.text)\n",
    "\n",
    "except requests.exceptions.RequestException as e:\n",
    "    print(f\"Request failed: {e}\")\n",
    "\n"
   ]
  },
  {
   "cell_type": "code",
   "execution_count": null,
   "id": "e4ae94b5-b8a0-465c-846c-adf64992396f",
   "metadata": {},
   "outputs": [],
   "source": [
    "# Status Code: 200\n",
    "# Raw Response Content: <?xml version=\"1.0\" encoding=\"UTF-8\"?>\n",
    "# <OAI-PMH xmlns=\"http://www.openarchives.org/OAI/2.0/\" xmlns:xsi=\"http://www.w3.org/2001/XMLSchema-instance\"\n",
    "#          xsi:schemaLocation=\"http://www.openarchives.org/OAI/2.0/ http://www.openarchives.org/OAI/2.0/OAI-PMH.xsd\">\n",
    "#     <responseDate>2025-01-25T07:07:35Z</responseDate>\n",
    "#     <request verb=\"Identify\">https://localhost/api/oai</request>\n",
    "#     <Identify>\n",
    "#     <repositoryName>Database Repository</repositoryName>\n",
    "#     <baseURL>http://localhost</baseURL>\n",
    "#     <protocolVersion>2.0</protocolVersion>\n",
    "#     <adminEmail>noreply@localhost</adminEmail>\n",
    "#     <earliestDatestamp></earliestDatestamp>\n",
    "#     <deletedRecord>persistent</deletedRecord>\n",
    "#     <granularity>YYYY-MM-DDThh:mm:ssZ</granularity>\n",
    "# </Identify>\n",
    "# </OAI-PMH>\n",
    "# Response is not valid JSON. Here's the raw response:\n",
    "# <?xml version=\"1.0\" encoding=\"UTF-8\"?>\n",
    "# <OAI-PMH xmlns=\"http://www.openarchives.org/OAI/2.0/\" xmlns:xsi=\"http://www.w3.org/2001/XMLSchema-instance\"\n",
    "#          xsi:schemaLocation=\"http://www.openarchives.org/OAI/2.0/ http://www.openarchives.org/OAI/2.0/OAI-PMH.xsd\">\n",
    "#     <responseDate>2025-01-25T07:07:35Z</responseDate>\n",
    "#     <request verb=\"Identify\">https://localhost/api/oai</request>\n",
    "#     <Identify>\n",
    "#     <repositoryName>Database Repository</repositoryName>\n",
    "#     <baseURL>http://localhost</baseURL>\n",
    "#     <protocolVersion>2.0</protocolVersion>\n",
    "#     <adminEmail>noreply@localhost</adminEmail>\n",
    "#     <earliestDatestamp></earliestDatestamp>\n",
    "#     <deletedRecord>persistent</deletedRecord>\n",
    "#     <granularity>YYYY-MM-DDThh:mm:ssZ</granularity>\n",
    "# </Identify>\n",
    "# </OAI-PMH>"
   ]
  },
  {
   "cell_type": "code",
   "execution_count": 17,
   "id": "1d70d532-5257-4783-9bf3-7939d45db4f3",
   "metadata": {},
   "outputs": [
    {
     "name": "stdout",
     "output_type": "stream",
     "text": [
      "API Response: [{'id': 'cafa07cc-284c-4907-9bbd-049e2a3caf59', 'name': 'iris_view', 'query': 'select id, sepallengthcm, sepalwidthcm, petallengthcm, petalwidthcm, species from iris_data', 'database_id': '6c1c5dbd-d471-416f-997f-cf5bf72943e4', 'internal_name': 'iris_view', 'is_public': True, 'is_schema_public': True, 'initial_view': False, 'query_hash': 'f41e7177bb69d28e64bb3b4dbe811d63aac6184e17fbbe612832f7daf0432e6d', 'owned_by': 'b5f8ee32-8fcf-103f-8096-190a4a536a8d'}]\n"
     ]
    }
   ],
   "source": [
    "# import requests\n",
    "\n",
    "# # API endpoint URL\n",
    "# # view if exists\n",
    "# url = \"http://localhost/api/database/6c1c5dbd-d471-416f-997f-cf5bf72943e4/view\"\n",
    "\n",
    "# try:\n",
    "#     # Send a GET request to the API\n",
    "#     response = requests.get(url)\n",
    "\n",
    "#     # Check if the request was successful\n",
    "#     if response.status_code == 200:\n",
    "#         # Parse the JSON response\n",
    "#         data = response.json()\n",
    "#         print(\"API Response:\", data)\n",
    "#     else:\n",
    "#         print(f\"Error: Received status code {response.status_code}\")\n",
    "#         print(\"Response content:\", response.text)\n",
    "\n",
    "# except requests.exceptions.RequestException as e:\n",
    "#     print(f\"Request failed: {e}\")"
   ]
  },
  {
   "cell_type": "code",
   "execution_count": 23,
   "id": "cd7be688-21a8-4a00-b7e8-70c77e6ad159",
   "metadata": {},
   "outputs": [
    {
     "name": "stdout",
     "output_type": "stream",
     "text": [
      "Error: Received status code 405\n",
      "Response content: {\"type\":\"about:blank\",\"title\":\"Method Not Allowed\",\"status\":405,\"detail\":\"Method 'GET' is not supported.\",\"instance\":\"/api/database/6c1c5dbd-d471-416f-997f-cf5bf72943e4/table/1d8801b0-05b8-4066-b7d1-e5c1da11768f/statistic\",\"properties\":null}\n"
     ]
    }
   ],
   "source": [
    "import requests\n",
    "\n",
    "# API endpoint URL\n",
    "# url = \"http://localhost/api/database/6c1c5dbd-d471-416f-997f-cf5bf72943e4/table/1d8801b0-05b8-4066-b7d1-e5c1da11768f/data\"\n",
    "url = \"http://localhost/api/database/6c1c5dbd-d471-416f-997f-cf5bf72943e4/table/1d8801b0-05b8-4066-b7d1-e5c1da11768f/statistic\"\n",
    "\n",
    "try:\n",
    "    # Send a GET request to the API\n",
    "    response = requests.get(url)\n",
    "\n",
    "    # Check if the request was successful\n",
    "    if response.status_code == 200:\n",
    "        # Parse the JSON response\n",
    "        data = response.json()\n",
    "        print(\"API Response:\", data)\n",
    "    else:\n",
    "        print(f\"Error: Received status code {response.status_code}\")\n",
    "        print(\"Response content:\", response.text)\n",
    "\n",
    "except requests.exceptions.RequestException as e:\n",
    "    print(f\"Request failed: {e}\")"
   ]
  },
  {
   "cell_type": "code",
   "execution_count": 24,
   "id": "ff2f6b69-4829-464a-bc69-62d84999c563",
   "metadata": {},
   "outputs": [
    {
     "name": "stdout",
     "output_type": "stream",
     "text": [
      "API Response: [{'timestamp': '2025-03-07T18:44:50.364Z', 'event': 'insert', 'total': 150}]\n"
     ]
    }
   ],
   "source": [
    "import requests\n",
    "\n",
    "# API endpoint URL\n",
    "# url = \"http://localhost/api/database/6c1c5dbd-d471-416f-997f-cf5bf72943e4/table/1d8801b0-05b8-4066-b7d1-e5c1da11768f/data\"\n",
    "url = \"http://localhost/api/database/6c1c5dbd-d471-416f-997f-cf5bf72943e4/table/1d8801b0-05b8-4066-b7d1-e5c1da11768f/history\"\n",
    "\n",
    "try:\n",
    "    # Send a GET request to the API\n",
    "    response = requests.get(url)\n",
    "\n",
    "    # Check if the request was successful\n",
    "    if response.status_code == 200:\n",
    "        # Parse the JSON response\n",
    "        data = response.json()\n",
    "        print(\"API Response:\", data)\n",
    "    else:\n",
    "        print(f\"Error: Received status code {response.status_code}\")\n",
    "        print(\"Response content:\", response.text)\n",
    "\n",
    "except requests.exceptions.RequestException as e:\n",
    "    print(f\"Request failed: {e}\")"
   ]
  },
  {
   "cell_type": "code",
   "execution_count": 25,
   "id": "d2de0c2c-d1eb-4a61-ba2a-4dcff07fd5c5",
   "metadata": {},
   "outputs": [
    {
     "name": "stdout",
     "output_type": "stream",
     "text": [
      "Error: Received status code 404\n",
      "Response content: {\"type\":\"about:blank\",\"title\":\"Not Found\",\"status\":404,\"detail\":\"No static resource api/database/6c1c5dbd-d471-416f-997f-cf5bf72943e4/table/1d8801b0-05b8-4066-b7d1-e5c1da11768f/export.\",\"instance\":\"/api/database/6c1c5dbd-d471-416f-997f-cf5bf72943e4/table/1d8801b0-05b8-4066-b7d1-e5c1da11768f/export\",\"properties\":null}\n"
     ]
    }
   ],
   "source": [
    "import requests\n",
    "\n",
    "# API endpoint URL\n",
    "# url = \"http://localhost/api/database/6c1c5dbd-d471-416f-997f-cf5bf72943e4/table/1d8801b0-05b8-4066-b7d1-e5c1da11768f/data\"\n",
    "url = \"http://localhost/api/database/6c1c5dbd-d471-416f-997f-cf5bf72943e4/table/1d8801b0-05b8-4066-b7d1-e5c1da11768f/export\"\n",
    "\n",
    "try:\n",
    "    # Send a GET request to the API\n",
    "    response = requests.get(url)\n",
    "\n",
    "    # Check if the request was successful\n",
    "    if response.status_code == 200:\n",
    "        # Parse the JSON response\n",
    "        data = response.json()\n",
    "        print(\"API Response:\", data)\n",
    "    else:\n",
    "        print(f\"Error: Received status code {response.status_code}\")\n",
    "        print(\"Response content:\", response.text)\n",
    "\n",
    "except requests.exceptions.RequestException as e:\n",
    "    print(f\"Request failed: {e}\")"
   ]
  },
  {
   "cell_type": "code",
   "execution_count": 26,
   "id": "289cae86-520e-483c-9956-cf51c2d723dd",
   "metadata": {},
   "outputs": [
    {
     "name": "stdout",
     "output_type": "stream",
     "text": [
      "Error: Received status code 400\n",
      "Response content: {\"type\":\"about:blank\",\"title\":\"Bad Request\",\"status\":400,\"detail\":\"Validation failure\",\"instance\":\"/api/database/6c1c5dbd-d471-416f-997f-cf5bf72943e4/table/1d8801b0-05b8-4066-b7d1-e5c1da11768f/suggest\",\"properties\":null}\n"
     ]
    }
   ],
   "source": [
    "import requests\n",
    "\n",
    "# API endpoint URL\n",
    "# url = \"http://localhost/api/database/6c1c5dbd-d471-416f-997f-cf5bf72943e4/table/1d8801b0-05b8-4066-b7d1-e5c1da11768f/data\"\n",
    "url = \"http://localhost/api/database/6c1c5dbd-d471-416f-997f-cf5bf72943e4/table/1d8801b0-05b8-4066-b7d1-e5c1da11768f/suggest\"\n",
    "\n",
    "try:\n",
    "    # Send a GET request to the API\n",
    "    response = requests.get(url)\n",
    "\n",
    "    # Check if the request was successful\n",
    "    if response.status_code == 200:\n",
    "        # Parse the JSON response\n",
    "        data = response.json()\n",
    "        print(\"API Response:\", data)\n",
    "    else:\n",
    "        print(f\"Error: Received status code {response.status_code}\")\n",
    "        print(\"Response content:\", response.text)\n",
    "\n",
    "except requests.exceptions.RequestException as e:\n",
    "    print(f\"Request failed: {e}\")"
   ]
  },
  {
   "cell_type": "code",
   "execution_count": 27,
   "id": "27eae83a-830c-49eb-8b93-e4b02b3ef281",
   "metadata": {},
   "outputs": [
    {
     "name": "stdout",
     "output_type": "stream",
     "text": [
      "API Response: [{'id': '6c1c5dbd-d471-416f-997f-cf5bf72943e4', 'name': 'IRIS', 'description': None, 'identifiers': [], 'contact': {'id': 'b5f8ee32-8fcf-103f-8096-190a4a536a8d', 'username': 'reema', 'name': 'Reema George Dass', 'orcid': None, 'qualified_name': 'Reema George Dass — @reema', 'given_name': 'Reema George', 'family_name': 'Dass'}, 'internal_name': 'iris_ivce', 'is_public': True, 'is_schema_public': True, 'owner_id': 'b5f8ee32-8fcf-103f-8096-190a4a536a8d', 'preview_image': None}]\n"
     ]
    }
   ],
   "source": [
    "import requests\n",
    "\n",
    "# API endpoint URL\n",
    "# url = \"http://localhost/api/database/6c1c5dbd-d471-416f-997f-cf5bf72943e4/table/1d8801b0-05b8-4066-b7d1-e5c1da11768f/data\"\n",
    "url = \"http://localhost/api/database?internal_name=iris_ivce\"\n",
    "\n",
    "try:\n",
    "    # Send a GET request to the API\n",
    "    response = requests.get(url)\n",
    "\n",
    "    # Check if the request was successful\n",
    "    if response.status_code == 200:\n",
    "        # Parse the JSON response\n",
    "        data = response.json()\n",
    "        print(\"API Response:\", data)\n",
    "    else:\n",
    "        print(f\"Error: Received status code {response.status_code}\")\n",
    "        print(\"Response content:\", response.text)\n",
    "\n",
    "except requests.exceptions.RequestException as e:\n",
    "    print(f\"Request failed: {e}\")"
   ]
  },
  {
   "cell_type": "code",
   "execution_count": 28,
   "id": "8e7f4d29-9a55-42e4-a2a9-27b0c2eb578e",
   "metadata": {
    "scrolled": true
   },
   "outputs": [
    {
     "name": "stdout",
     "output_type": "stream",
     "text": [
      "API Response: {'id': '6c1c5dbd-d471-416f-997f-cf5bf72943e4', 'name': 'IRIS', 'description': None, 'tables': [{'id': '1d8801b0-05b8-4066-b7d1-e5c1da11768f', 'name': 'iris_data', 'alias': None, 'identifiers': [], 'owner': {'id': 'b5f8ee32-8fcf-103f-8096-190a4a536a8d', 'username': 'reema', 'name': 'Reema George Dass', 'orcid': None, 'qualified_name': 'Reema George Dass — @reema', 'given_name': 'Reema George', 'family_name': 'Dass'}, 'description': 'this is the description', 'columns': [{'id': 'c366eed6-ea01-41df-932e-2254bf83e26e', 'name': 'Id', 'alias': None, 'size': None, 'd': None, 'mean': 76, 'median': 76, 'concept': None, 'unit': None, 'description': None, 'enums': [], 'sets': [], 'database_id': '6c1c5dbd-d471-416f-997f-cf5bf72943e4', 'table_id': '1d8801b0-05b8-4066-b7d1-e5c1da11768f', 'ord': 0, 'internal_name': 'id', 'index_length': None, 'length': None, 'type': 'bigint', 'data_length': None, 'max_data_length': None, 'num_rows': None, 'val_min': None, 'val_max': None, 'std_dev': 43, 'is_null_allowed': False}, {'id': '26503794-c7b9-4061-abc8-99a732d9341b', 'name': 'SepalLengthCm', 'alias': None, 'size': 40, 'd': 20, 'mean': 6, 'median': 6, 'concept': None, 'unit': None, 'description': None, 'enums': [], 'sets': [], 'database_id': '6c1c5dbd-d471-416f-997f-cf5bf72943e4', 'table_id': '1d8801b0-05b8-4066-b7d1-e5c1da11768f', 'ord': 1, 'internal_name': 'sepallengthcm', 'index_length': None, 'length': None, 'type': 'decimal', 'data_length': None, 'max_data_length': None, 'num_rows': None, 'val_min': None, 'val_max': None, 'std_dev': 1, 'is_null_allowed': False}, {'id': '4ed9835a-642d-4b3c-a18f-cf11e0925a9f', 'name': 'SepalWidthCm', 'alias': None, 'size': 40, 'd': 20, 'mean': 3, 'median': 3, 'concept': None, 'unit': None, 'description': None, 'enums': [], 'sets': [], 'database_id': '6c1c5dbd-d471-416f-997f-cf5bf72943e4', 'table_id': '1d8801b0-05b8-4066-b7d1-e5c1da11768f', 'ord': 2, 'internal_name': 'sepalwidthcm', 'index_length': None, 'length': None, 'type': 'decimal', 'data_length': None, 'max_data_length': None, 'num_rows': None, 'val_min': None, 'val_max': None, 'std_dev': 0, 'is_null_allowed': False}, {'id': 'a6eb5d86-8482-4c00-93b9-cf5474b43bb4', 'name': 'PetalLengthCm', 'alias': None, 'size': 40, 'd': 20, 'mean': 4, 'median': 4, 'concept': None, 'unit': None, 'description': None, 'enums': [], 'sets': [], 'database_id': '6c1c5dbd-d471-416f-997f-cf5bf72943e4', 'table_id': '1d8801b0-05b8-4066-b7d1-e5c1da11768f', 'ord': 3, 'internal_name': 'petallengthcm', 'index_length': None, 'length': None, 'type': 'decimal', 'data_length': None, 'max_data_length': None, 'num_rows': None, 'val_min': None, 'val_max': None, 'std_dev': 2, 'is_null_allowed': False}, {'id': '06f7597b-571b-4039-9a9b-0ac0c7729200', 'name': 'PetalWidthCm', 'alias': None, 'size': 40, 'd': 20, 'mean': 1, 'median': 1, 'concept': None, 'unit': None, 'description': None, 'enums': [], 'sets': [], 'database_id': '6c1c5dbd-d471-416f-997f-cf5bf72943e4', 'table_id': '1d8801b0-05b8-4066-b7d1-e5c1da11768f', 'ord': 4, 'internal_name': 'petalwidthcm', 'index_length': None, 'length': None, 'type': 'decimal', 'data_length': None, 'max_data_length': None, 'num_rows': None, 'val_min': None, 'val_max': None, 'std_dev': 1, 'is_null_allowed': False}, {'id': '29aeda96-08be-47a9-b1fd-5b35c2daed58', 'name': 'Species', 'alias': None, 'size': 255, 'd': None, 'mean': None, 'median': None, 'concept': None, 'unit': None, 'description': None, 'enums': [], 'sets': [], 'database_id': '6c1c5dbd-d471-416f-997f-cf5bf72943e4', 'table_id': '1d8801b0-05b8-4066-b7d1-e5c1da11768f', 'ord': 5, 'internal_name': 'species', 'index_length': None, 'length': None, 'type': 'varchar', 'data_length': None, 'max_data_length': None, 'num_rows': None, 'val_min': None, 'val_max': None, 'std_dev': None, 'is_null_allowed': False}], 'constraints': {'uniques': [{'id': '0861cfa5-5833-4f9d-8760-ac4fa56b6a6e', 'name': 'uk_iris_data_0', 'table': {'id': '1d8801b0-05b8-4066-b7d1-e5c1da11768f', 'name': 'iris_data', 'description': 'this is the description', 'database_id': '6c1c5dbd-d471-416f-997f-cf5bf72943e4', 'internal_name': 'iris_data', 'is_versioned': True, 'is_public': True, 'is_schema_public': True, 'owned_by': 'b5f8ee32-8fcf-103f-8096-190a4a536a8d'}, 'columns': [{'id': 'c366eed6-ea01-41df-932e-2254bf83e26e', 'name': 'Id', 'alias': None, 'database_id': '6c1c5dbd-d471-416f-997f-cf5bf72943e4', 'table_id': '1d8801b0-05b8-4066-b7d1-e5c1da11768f', 'internal_name': 'id', 'type': 'bigint'}]}], 'checks': [], 'foreign_keys': [], 'primary_key': [{'id': '0496ee52-6c8a-485b-b1e5-b2c5ed667ac6', 'table': {'id': '1d8801b0-05b8-4066-b7d1-e5c1da11768f', 'name': 'iris_data', 'description': 'this is the description', 'database_id': '6c1c5dbd-d471-416f-997f-cf5bf72943e4', 'internal_name': 'iris_data', 'is_versioned': True, 'is_public': True, 'is_schema_public': True, 'owned_by': 'b5f8ee32-8fcf-103f-8096-190a4a536a8d'}, 'column': {'id': 'c366eed6-ea01-41df-932e-2254bf83e26e', 'name': 'Id', 'alias': None, 'database_id': '6c1c5dbd-d471-416f-997f-cf5bf72943e4', 'table_id': '1d8801b0-05b8-4066-b7d1-e5c1da11768f', 'internal_name': 'id', 'type': 'bigint'}}]}, 'last_retrieved': None, 'database_id': '6c1c5dbd-d471-416f-997f-cf5bf72943e4', 'internal_name': 'iris_data', 'is_versioned': True, 'is_schema_public': True, 'queue_name': 'dbrepo', 'queue_type': 'quorum', 'routing_key': 'dbrepo.6c1c5dbd-d471-416f-997f-cf5bf72943e4.1d8801b0-05b8-4066-b7d1-e5c1da11768f', 'is_public': True, 'num_rows': 150, 'data_length': 16384, 'max_data_length': 0, 'avg_row_length': 109}], 'views': [{'id': 'cafa07cc-284c-4907-9bbd-049e2a3caf59', 'name': 'iris_view', 'identifiers': [], 'query': 'select id, sepallengthcm, sepalwidthcm, petallengthcm, petalwidthcm, species from iris_data', 'owner': {'id': 'b5f8ee32-8fcf-103f-8096-190a4a536a8d', 'username': 'reema', 'name': 'Reema George Dass', 'orcid': None, 'qualified_name': 'Reema George Dass — @reema', 'given_name': 'Reema George', 'family_name': 'Dass'}, 'columns': [{'id': '0d361ab1-f3b1-459e-8379-d7bde5abe267', 'name': 'id', 'size': 19, 'd': 0, 'description': None, 'database_id': '6c1c5dbd-d471-416f-997f-cf5bf72943e4', 'ord': 0, 'internal_name': 'id', 'index_length': None, 'length': None, 'type': 'bigint', 'is_null_allowed': False}, {'id': '3043ff40-a827-484f-bec5-8555a3bbd647', 'name': 'sepallengthcm', 'size': 40, 'd': 20, 'description': None, 'database_id': '6c1c5dbd-d471-416f-997f-cf5bf72943e4', 'ord': 1, 'internal_name': 'sepallengthcm', 'index_length': None, 'length': None, 'type': 'decimal', 'is_null_allowed': False}, {'id': '2ff01cbc-6e72-475d-b891-155cc6080e4c', 'name': 'sepalwidthcm', 'size': 40, 'd': 20, 'description': None, 'database_id': '6c1c5dbd-d471-416f-997f-cf5bf72943e4', 'ord': 2, 'internal_name': 'sepalwidthcm', 'index_length': None, 'length': None, 'type': 'decimal', 'is_null_allowed': False}, {'id': '91fdc169-60bb-4842-9638-cd6220a46d3a', 'name': 'petallengthcm', 'size': 40, 'd': 20, 'description': None, 'database_id': '6c1c5dbd-d471-416f-997f-cf5bf72943e4', 'ord': 3, 'internal_name': 'petallengthcm', 'index_length': None, 'length': None, 'type': 'decimal', 'is_null_allowed': False}, {'id': '55880239-fd30-4131-93ef-94f7ee425e73', 'name': 'petalwidthcm', 'size': 40, 'd': 20, 'description': None, 'database_id': '6c1c5dbd-d471-416f-997f-cf5bf72943e4', 'ord': 4, 'internal_name': 'petalwidthcm', 'index_length': None, 'length': None, 'type': 'decimal', 'is_null_allowed': False}, {'id': '366848c6-7695-4a78-910f-a87d49dc2b9b', 'name': 'species', 'size': 255, 'd': None, 'description': None, 'database_id': '6c1c5dbd-d471-416f-997f-cf5bf72943e4', 'ord': 5, 'internal_name': 'species', 'index_length': None, 'length': None, 'type': 'varchar', 'is_null_allowed': False}], 'last_retrieved': None, 'database_id': '6c1c5dbd-d471-416f-997f-cf5bf72943e4', 'internal_name': 'iris_view', 'is_public': True, 'is_schema_public': True, 'initial_view': False, 'query_hash': 'f41e7177bb69d28e64bb3b4dbe811d63aac6184e17fbbe612832f7daf0432e6d'}], 'container': {'id': '6cfb3b8e-1792-4e46-871a-f3d103527203', 'name': 'mariadb:11.1.3-debian-11-r6', 'image': {'id': 'd79cb089-363c-488b-9717-649e44d8fcc5', 'name': 'mariadb', 'version': '11.1.3', 'operators': [{'id': '88b5a6be-fb83-11ef-bbdb-0242ac180003', 'value': '!=', 'documentation': 'https://mariadb.com/kb/en/not-equal/', 'display_name': 'Not equal operator'}, {'id': '88b5a07b-fb83-11ef-bbdb-0242ac180003', 'value': '<', 'documentation': 'https://mariadb.com/kb/en/less-than/', 'display_name': 'Less-than operator'}, {'id': '88b5a23c-fb83-11ef-bbdb-0242ac180003', 'value': '<=', 'documentation': 'https://mariadb.com/kb/en/less-than-or-equal/', 'display_name': 'Less than or equal operator'}, {'id': '88b59acb-fb83-11ef-bbdb-0242ac180003', 'value': '<=>', 'documentation': 'https://mariadb.com/kb/en/null-safe-equal/', 'display_name': 'NULL-safe equal operator'}, {'id': '88b59299-fb83-11ef-bbdb-0242ac180003', 'value': '=', 'documentation': 'https://mariadb.com/kb/en/assignment-operators-assignment-operator/', 'display_name': 'Equal operator'}, {'id': '88b5a4e3-fb83-11ef-bbdb-0242ac180003', 'value': '>', 'documentation': 'https://mariadb.com/kb/en/greater-than/', 'display_name': 'Greater-than operator'}, {'id': '88b5a5e6-fb83-11ef-bbdb-0242ac180003', 'value': '>=', 'documentation': 'https://mariadb.com/kb/en/greater-than-or-equal/', 'display_name': 'Greater than or equal operator'}, {'id': '88b5a988-fb83-11ef-bbdb-0242ac180003', 'value': 'IN', 'documentation': 'https://mariadb.com/kb/en/in/', 'display_name': 'IN'}, {'id': '88b5ab2f-fb83-11ef-bbdb-0242ac180003', 'value': 'IS NOT NULL', 'documentation': 'https://mariadb.com/kb/en/is-not-null/', 'display_name': 'IS NOT NULL'}, {'id': '88b5abfa-fb83-11ef-bbdb-0242ac180003', 'value': 'IS NULL', 'documentation': 'https://mariadb.com/kb/en/is-null/', 'display_name': 'IS NULL'}, {'id': '88b5a790-fb83-11ef-bbdb-0242ac180003', 'value': 'LIKE', 'documentation': 'https://mariadb.com/kb/en/like/', 'display_name': 'LIKE'}, {'id': '88b5aa58-fb83-11ef-bbdb-0242ac180003', 'value': 'NOT IN', 'documentation': 'https://mariadb.com/kb/en/not-in/', 'display_name': 'NOT IN'}, {'id': '88b5a881-fb83-11ef-bbdb-0242ac180003', 'value': 'NOT LIKE', 'documentation': 'https://mariadb.com/kb/en/not-like/', 'display_name': 'NOT LIKE'}, {'id': '88b5ad15-fb83-11ef-bbdb-0242ac180003', 'value': 'NOT REGEXP', 'documentation': 'https://mariadb.com/kb/en/not-regexp/', 'display_name': 'NOT REGEXP'}, {'id': '88b5ac83-fb83-11ef-bbdb-0242ac180003', 'value': 'REGEXP', 'documentation': 'https://mariadb.com/kb/en/regexp/', 'display_name': 'REGEXP'}], 'default': False, 'data_types': [{'id': '88b3f457-fb83-11ef-bbdb-0242ac180003', 'value': 'bigint', 'documentation': 'https://mariadb.com/kb/en/bigint/', 'display_name': 'BIGINT(size)', 'size_min': 0, 'size_max': None, 'size_default': None, 'size_required': False, 'd_min': None, 'd_max': None, 'd_default': None, 'd_required': None, 'data_hint': None, 'type_hint': None, 'is_quoted': False, 'is_buildable': True}, {'id': '88b3fad4-fb83-11ef-bbdb-0242ac180003', 'value': 'binary', 'documentation': 'https://mariadb.com/kb/en/binary/', 'display_name': 'BINARY(size)', 'size_min': 0, 'size_max': 255, 'size_default': 255, 'size_required': True, 'd_min': None, 'd_max': None, 'd_default': None, 'd_required': None, 'data_hint': None, 'type_hint': 'size in Bytes', 'is_quoted': False, 'is_buildable': True}, {'id': '88b41536-fb83-11ef-bbdb-0242ac180003', 'value': 'bit', 'documentation': 'https://mariadb.com/kb/en/bit/', 'display_name': 'BIT(size)', 'size_min': 0, 'size_max': 64, 'size_default': None, 'size_required': False, 'd_min': None, 'd_max': None, 'd_default': None, 'd_required': None, 'data_hint': None, 'type_hint': None, 'is_quoted': False, 'is_buildable': True}, {'id': '88b416e7-fb83-11ef-bbdb-0242ac180003', 'value': 'blob', 'documentation': 'https://mariadb.com/kb/en/blob/', 'display_name': 'BLOB(size)', 'size_min': 0, 'size_max': 65535, 'size_default': None, 'size_required': False, 'd_min': None, 'd_max': None, 'd_default': None, 'd_required': None, 'data_hint': None, 'type_hint': 'size in Bytes', 'is_quoted': False, 'is_buildable': False}, {'id': '88b417be-fb83-11ef-bbdb-0242ac180003', 'value': 'bool', 'documentation': 'https://mariadb.com/kb/en/bool/', 'display_name': 'BOOL', 'size_min': None, 'size_max': None, 'size_default': None, 'size_required': None, 'd_min': None, 'd_max': None, 'd_default': None, 'd_required': None, 'data_hint': None, 'type_hint': None, 'is_quoted': False, 'is_buildable': True}, {'id': '88b41882-fb83-11ef-bbdb-0242ac180003', 'value': 'char', 'documentation': 'https://mariadb.com/kb/en/char/', 'display_name': 'CHAR(size)', 'size_min': 0, 'size_max': 255, 'size_default': 255, 'size_required': False, 'd_min': None, 'd_max': None, 'd_default': None, 'd_required': None, 'data_hint': None, 'type_hint': None, 'is_quoted': False, 'is_buildable': True}, {'id': '88b41a8e-fb83-11ef-bbdb-0242ac180003', 'value': 'date', 'documentation': 'https://mariadb.com/kb/en/date/', 'display_name': 'DATE', 'size_min': None, 'size_max': None, 'size_default': None, 'size_required': None, 'd_min': None, 'd_max': None, 'd_default': None, 'd_required': None, 'data_hint': 'e.g. YYYY-MM-DD, YY-MM-DD, YYMMDD, YYYY/MM/DD', 'type_hint': 'min. 1000-01-01, max. 9999-12-31', 'is_quoted': True, 'is_buildable': True}, {'id': '88b41b6c-fb83-11ef-bbdb-0242ac180003', 'value': 'datetime', 'documentation': 'https://mariadb.com/kb/en/datetime/', 'display_name': 'DATETIME(fsp)', 'size_min': 0, 'size_max': 6, 'size_default': None, 'size_required': None, 'd_min': None, 'd_max': None, 'd_default': None, 'd_required': None, 'data_hint': 'e.g. YYYY-MM-DD HH:MM:SS, YY-MM-DD HH:MM:SS, YYYYMMDDHHMMSS, YYMMDDHHMMSS, YYYYMMDD, YYMMDD', 'type_hint': 'fsp=microsecond precision, min. 1000-01-01 00:00:00.0, max. 9999-12-31 23:59:59.9', 'is_quoted': True, 'is_buildable': True}, {'id': '88b41c44-fb83-11ef-bbdb-0242ac180003', 'value': 'decimal', 'documentation': 'https://mariadb.com/kb/en/decimal/', 'display_name': 'DECIMAL(size, d)', 'size_min': 0, 'size_max': 65, 'size_default': None, 'size_required': False, 'd_min': 0, 'd_max': 38, 'd_default': None, 'd_required': False, 'data_hint': None, 'type_hint': None, 'is_quoted': False, 'is_buildable': True}, {'id': '88b41d09-fb83-11ef-bbdb-0242ac180003', 'value': 'double', 'documentation': 'https://mariadb.com/kb/en/double/', 'display_name': 'DOUBLE(size, d)', 'size_min': None, 'size_max': None, 'size_default': None, 'size_required': False, 'd_min': None, 'd_max': None, 'd_default': None, 'd_required': False, 'data_hint': None, 'type_hint': None, 'is_quoted': False, 'is_buildable': True}, {'id': '88b41dc9-fb83-11ef-bbdb-0242ac180003', 'value': 'enum', 'documentation': 'https://mariadb.com/kb/en/enum/', 'display_name': 'ENUM(v1,v2,...)', 'size_min': None, 'size_max': None, 'size_default': None, 'size_required': None, 'd_min': None, 'd_max': None, 'd_default': None, 'd_required': None, 'data_hint': 'e.g. value1, value2, ...', 'type_hint': None, 'is_quoted': True, 'is_buildable': True}, {'id': '88b41e7c-fb83-11ef-bbdb-0242ac180003', 'value': 'float', 'documentation': 'https://mariadb.com/kb/en/float/', 'display_name': 'FLOAT(size)', 'size_min': None, 'size_max': None, 'size_default': None, 'size_required': False, 'd_min': None, 'd_max': None, 'd_default': None, 'd_required': None, 'data_hint': None, 'type_hint': None, 'is_quoted': False, 'is_buildable': True}, {'id': '88b41f2a-fb83-11ef-bbdb-0242ac180003', 'value': 'int', 'documentation': 'https://mariadb.com/kb/en/int/', 'display_name': 'INT(size)', 'size_min': None, 'size_max': None, 'size_default': None, 'size_required': False, 'd_min': None, 'd_max': None, 'd_default': None, 'd_required': None, 'data_hint': None, 'type_hint': 'size in Bytes', 'is_quoted': False, 'is_buildable': True}, {'id': '88b41fe5-fb83-11ef-bbdb-0242ac180003', 'value': 'longblob', 'documentation': 'https://mariadb.com/kb/en/longblob/', 'display_name': 'LONGBLOB', 'size_min': None, 'size_max': None, 'size_default': None, 'size_required': None, 'd_min': None, 'd_max': None, 'd_default': None, 'd_required': None, 'data_hint': None, 'type_hint': 'max. 3.999 GiB', 'is_quoted': False, 'is_buildable': True}, {'id': '88b42097-fb83-11ef-bbdb-0242ac180003', 'value': 'longtext', 'documentation': 'https://mariadb.com/kb/en/longtext/', 'display_name': 'LONGTEXT', 'size_min': None, 'size_max': None, 'size_default': None, 'size_required': None, 'd_min': None, 'd_max': None, 'd_default': None, 'd_required': None, 'data_hint': None, 'type_hint': 'max. 3.999 GiB', 'is_quoted': True, 'is_buildable': True}, {'id': '88b42140-fb83-11ef-bbdb-0242ac180003', 'value': 'mediumblob', 'documentation': 'https://mariadb.com/kb/en/mediumblob/', 'display_name': 'MEDIUMBLOB', 'size_min': None, 'size_max': None, 'size_default': None, 'size_required': None, 'd_min': None, 'd_max': None, 'd_default': None, 'd_required': None, 'data_hint': None, 'type_hint': 'max. 15.999 MiB', 'is_quoted': False, 'is_buildable': True}, {'id': '88b423ee-fb83-11ef-bbdb-0242ac180003', 'value': 'mediumint', 'documentation': 'https://mariadb.com/kb/en/mediumint/', 'display_name': 'MEDIUMINT', 'size_min': None, 'size_max': None, 'size_default': None, 'size_required': None, 'd_min': None, 'd_max': None, 'd_default': None, 'd_required': None, 'data_hint': None, 'type_hint': 'size in Bytes', 'is_quoted': False, 'is_buildable': True}, {'id': '88b42558-fb83-11ef-bbdb-0242ac180003', 'value': 'mediumtext', 'documentation': 'https://mariadb.com/kb/en/mediumtext/', 'display_name': 'MEDIUMTEXT', 'size_min': None, 'size_max': None, 'size_default': None, 'size_required': None, 'd_min': None, 'd_max': None, 'd_default': None, 'd_required': None, 'data_hint': None, 'type_hint': 'size in Bytes', 'is_quoted': True, 'is_buildable': True}, {'id': '88b4272a-fb83-11ef-bbdb-0242ac180003', 'value': 'serial', 'documentation': 'https://mariadb.com/kb/en/bigint/', 'display_name': 'SERIAL', 'size_min': None, 'size_max': None, 'size_default': None, 'size_required': None, 'd_min': None, 'd_max': None, 'd_default': None, 'd_required': None, 'data_hint': None, 'type_hint': None, 'is_quoted': True, 'is_buildable': True}, {'id': '88b428b9-fb83-11ef-bbdb-0242ac180003', 'value': 'set', 'documentation': 'https://mariadb.com/kb/en/set/', 'display_name': 'SET(v1,v2,...)', 'size_min': None, 'size_max': None, 'size_default': None, 'size_required': None, 'd_min': None, 'd_max': None, 'd_default': None, 'd_required': None, 'data_hint': 'e.g. value1, value2, ...', 'type_hint': None, 'is_quoted': True, 'is_buildable': True}, {'id': '88b429f1-fb83-11ef-bbdb-0242ac180003', 'value': 'smallint', 'documentation': 'https://mariadb.com/kb/en/smallint/', 'display_name': 'SMALLINT(size)', 'size_min': 0, 'size_max': None, 'size_default': None, 'size_required': False, 'd_min': None, 'd_max': None, 'd_default': None, 'd_required': None, 'data_hint': None, 'type_hint': 'size in Bytes', 'is_quoted': False, 'is_buildable': True}, {'id': '88b42aa3-fb83-11ef-bbdb-0242ac180003', 'value': 'text', 'documentation': 'https://mariadb.com/kb/en/text/', 'display_name': 'TEXT(size)', 'size_min': 0, 'size_max': None, 'size_default': None, 'size_required': False, 'd_min': None, 'd_max': None, 'd_default': None, 'd_required': None, 'data_hint': None, 'type_hint': 'size in Bytes', 'is_quoted': True, 'is_buildable': True}, {'id': '88b42b49-fb83-11ef-bbdb-0242ac180003', 'value': 'time', 'documentation': 'https://mariadb.com/kb/en/time/', 'display_name': 'TIME(fsp)', 'size_min': 0, 'size_max': 6, 'size_default': 0, 'size_required': False, 'd_min': None, 'd_max': None, 'd_default': None, 'd_required': None, 'data_hint': 'e.g. HH:MM:SS, HH:MM, HHMMSS, H:M:S', 'type_hint': 'fsp=microsecond precision, min. 0, max. 6', 'is_quoted': True, 'is_buildable': True}, {'id': '88b42bf7-fb83-11ef-bbdb-0242ac180003', 'value': 'timestamp', 'documentation': 'https://mariadb.com/kb/en/timestamp/', 'display_name': 'TIMESTAMP(fsp)', 'size_min': 0, 'size_max': 6, 'size_default': 0, 'size_required': False, 'd_min': None, 'd_max': None, 'd_default': None, 'd_required': None, 'data_hint': 'e.g. YYYY-MM-DD HH:MM:SS, YY-MM-DD HH:MM:SS, YYYYMMDDHHMMSS, YYMMDDHHMMSS, YYYYMMDD, YYMMDD', 'type_hint': 'fsp=microsecond precision, min. 0, max. 6', 'is_quoted': True, 'is_buildable': True}, {'id': '88b42d85-fb83-11ef-bbdb-0242ac180003', 'value': 'tinyblob', 'documentation': 'https://mariadb.com/kb/en/timestamp/', 'display_name': 'TINYBLOB', 'size_min': None, 'size_max': None, 'size_default': None, 'size_required': None, 'd_min': None, 'd_max': None, 'd_default': None, 'd_required': None, 'data_hint': 'fsp=microsecond precision, min. 0, max. 6', 'type_hint': None, 'is_quoted': False, 'is_buildable': True}, {'id': '88b42e2f-fb83-11ef-bbdb-0242ac180003', 'value': 'tinyint', 'documentation': 'https://mariadb.com/kb/en/tinyint/', 'display_name': 'TINYINT(size)', 'size_min': 0, 'size_max': None, 'size_default': None, 'size_required': False, 'd_min': None, 'd_max': None, 'd_default': None, 'd_required': None, 'data_hint': 'size in Bytes', 'type_hint': None, 'is_quoted': False, 'is_buildable': True}, {'id': '88b42ecb-fb83-11ef-bbdb-0242ac180003', 'value': 'tinytext', 'documentation': 'https://mariadb.com/kb/en/tinytext/', 'display_name': 'TINYTEXT', 'size_min': None, 'size_max': None, 'size_default': None, 'size_required': None, 'd_min': None, 'd_max': None, 'd_default': None, 'd_required': None, 'data_hint': 'max. 255 characters', 'type_hint': None, 'is_quoted': True, 'is_buildable': True}, {'id': '88b42f5e-fb83-11ef-bbdb-0242ac180003', 'value': 'year', 'documentation': 'https://mariadb.com/kb/en/year/', 'display_name': 'YEAR', 'size_min': 2, 'size_max': 4, 'size_default': None, 'size_required': False, 'd_min': None, 'd_max': None, 'd_default': None, 'd_required': None, 'data_hint': 'e.g. YYYY, YY', 'type_hint': 'min. 1901, max. 2155', 'is_quoted': False, 'is_buildable': True}, {'id': '88b42ffc-fb83-11ef-bbdb-0242ac180003', 'value': 'varbinary', 'documentation': 'https://mariadb.com/kb/en/varbinary/', 'display_name': 'VARBINARY(size)', 'size_min': 0, 'size_max': None, 'size_default': None, 'size_required': True, 'd_min': None, 'd_max': None, 'd_default': None, 'd_required': None, 'data_hint': None, 'type_hint': None, 'is_quoted': False, 'is_buildable': True}, {'id': '88b43098-fb83-11ef-bbdb-0242ac180003', 'value': 'varchar', 'documentation': 'https://mariadb.com/kb/en/varchar/', 'display_name': 'VARCHAR(size)', 'size_min': 0, 'size_max': 65532, 'size_default': 255, 'size_required': True, 'd_min': None, 'd_max': None, 'd_default': None, 'd_required': None, 'data_hint': None, 'type_hint': None, 'is_quoted': False, 'is_buildable': True}]}, 'quota': None, 'count': None, 'username': None, 'password': None, 'last_retrieved': None, 'internal_name': 'mariadb_11_1_3'}, 'accesses': [], 'identifiers': [], 'subsets': [], 'contact': {'id': 'b5f8ee32-8fcf-103f-8096-190a4a536a8d', 'username': 'reema', 'name': 'Reema George Dass', 'orcid': None, 'qualified_name': 'Reema George Dass — @reema', 'given_name': 'Reema George', 'family_name': 'Dass'}, 'owner': {'id': 'b5f8ee32-8fcf-103f-8096-190a4a536a8d', 'username': 'reema', 'name': 'Reema George Dass', 'orcid': None, 'qualified_name': 'Reema George Dass — @reema', 'given_name': 'Reema George', 'family_name': 'Dass'}, 'last_retrieved': None, 'exchange_name': 'dbrepo', 'exchange_type': None, 'internal_name': 'iris_ivce', 'is_public': True, 'is_schema_public': True, 'preview_image': None}\n"
     ]
    }
   ],
   "source": [
    "import requests\n",
    "\n",
    "# API endpoint URL\n",
    "# url = \"http://localhost/api/database/6c1c5dbd-d471-416f-997f-cf5bf72943e4/table/1d8801b0-05b8-4066-b7d1-e5c1da11768f/data\"\n",
    "url = \"http://localhost/api/database/6c1c5dbd-d471-416f-997f-cf5bf72943e4\"\n",
    "\n",
    "try:\n",
    "    # Send a GET request to the API\n",
    "    response = requests.get(url)\n",
    "\n",
    "    # Check if the request was successful\n",
    "    if response.status_code == 200:\n",
    "        # Parse the JSON response\n",
    "        data = response.json()\n",
    "        print(\"API Response:\", data)\n",
    "    else:\n",
    "        print(f\"Error: Received status code {response.status_code}\")\n",
    "        print(\"Response content:\", response.text)\n",
    "\n",
    "except requests.exceptions.RequestException as e:\n",
    "    print(f\"Request failed: {e}\")"
   ]
  }
 ],
 "metadata": {
  "kernelspec": {
   "display_name": "Python 3 (ipykernel)",
   "language": "python",
   "name": "python3"
  },
  "language_info": {
   "codemirror_mode": {
    "name": "ipython",
    "version": 3
   },
   "file_extension": ".py",
   "mimetype": "text/x-python",
   "name": "python",
   "nbconvert_exporter": "python",
   "pygments_lexer": "ipython3",
   "version": "3.11.5"
  }
 },
 "nbformat": 4,
 "nbformat_minor": 5
}
