{
 "cells": [
  {
   "cell_type": "markdown",
   "id": "d55b8ff1-b8ac-4dbf-861f-458e234526f3",
   "metadata": {},
   "source": [
    "TODO\n",
    "create venv to wrap up all installation programatically\n",
    "set the experiment name in mlflow dynamically\n",
    "update teh target name dynamic after db repo integration"
   ]
  },
  {
   "cell_type": "code",
   "execution_count": null,
   "id": "387a312e-e0db-4522-b4b2-4a346fd008ba",
   "metadata": {
    "editable": true,
    "scrolled": true,
    "slideshow": {
     "slide_type": ""
    },
    "tags": []
   },
   "outputs": [],
   "source": [
    "# ⚙️ Install required packages in the notebook itself\n",
    "# !pip install --quiet --upgrade pip\n",
    "!pip install mlflow scikit-learn\n",
    "!pip install pandas\n",
    "!pip install numpy\n",
    "!pip install jupyter\n",
    "!pip install shap\n"
   ]
  },
  {
   "cell_type": "code",
   "execution_count": null,
   "id": "1d52b769-2727-457d-ba78-29726ebf4fe3",
   "metadata": {},
   "outputs": [],
   "source": [
    "!pip install scikit-learn"
   ]
  },
  {
   "cell_type": "code",
   "execution_count": null,
   "id": "3e42e4c3-ab59-40dd-ac48-aef4bbecd4b6",
   "metadata": {
    "scrolled": true
   },
   "outputs": [],
   "source": [
    "!pip uninstall numpy\n",
    "!pip install numpy --force-reinstall --upgrade\n",
    "!pip uninstall shap\n",
    "!pip install shap --upgrade\n",
    "!pip install mkl"
   ]
  },
  {
   "cell_type": "code",
   "execution_count": 46,
   "id": "8e95a3c5-c669-421f-891a-a58799d81de1",
   "metadata": {
    "editable": true,
    "scrolled": true,
    "slideshow": {
     "slide_type": ""
    },
    "tags": []
   },
   "outputs": [],
   "source": [
    "# import mlflow\n",
    "# import mlflow.sklearn\n",
    "# import mlflow.shap\n",
    "# import mlflow.data\n",
    "# import mlflow.tracing\n",
    "# from mlflow.tracking import MlflowClient\n",
    "# import mlflow.environment_variables as mlenv\n",
    "# import mlflow.utils.environment\n",
    "# import mlflow.system_metrics as sys_metric\n",
    "# import mlflow.projects\n",
    "# import platform\n",
    "\n",
    "# import time\n",
    "# import psutil\n",
    "# import shap\n",
    "# import seaborn as sns\n",
    "# import matplotlib.pyplot as plt\n",
    "# import pandas as pd\n",
    "# from sklearn.ensemble import RandomForestClassifier\n",
    "# from sklearn.metrics import accuracy_score, confusion_matrix, roc_auc_score, roc_curve\n",
    "# from sklearn.datasets import load_iris\n",
    "# from sklearn.model_selection import train_test_split\n",
    "import git  \n",
    "import mlflow\n",
    "from mlflow import MlflowClient\n",
    "import time\n",
    "import psutil\n",
    "import platform\n",
    "import sklearn\n",
    "import pandas as pd\n",
    "import numpy as np\n",
    "import matplotlib\n",
    "import seaborn\n",
    "import json\n",
    "import os\n",
    "from sklearn.ensemble import RandomForestClassifier\n",
    "from sklearn.model_selection import train_test_split\n",
    "from sklearn.metrics import (\n",
    "    accuracy_score, roc_auc_score, confusion_matrix,\n",
    "    precision_score, recall_score, f1_score, roc_curve\n",
    ")\n",
    "import shap\n",
    "import seaborn as sns\n",
    "import matplotlib.pyplot as plt\n",
    "os.environ[\"MLFLOW_SYSTEM_METRICS_ENABLED\"] = \"true\"\n"
   ]
  },
  {
   "cell_type": "code",
   "execution_count": 47,
   "id": "b5930009-6cf8-4258-9375-0ee20f290bc3",
   "metadata": {},
   "outputs": [
    {
     "name": "stdout",
     "output_type": "stream",
     "text": [
      "Tracking URI set to: mlrunlogs/mlflow.db\n"
     ]
    },
    {
     "data": {
      "text/plain": [
       "<Experiment: artifact_location='file:///C:/Users/reema/OneDrive/Dokumente/Provenance_tracking_thesis/Provenence-Tracking-Thesis-Research/notebooks/RQ_notebooks/mlrunlogs/mlflow.db/350083769514222255', creation_time=1744653654888, experiment_id='350083769514222255', last_update_time=1744653654888, lifecycle_stage='active', name='RandomForest-Iris-CSV', tags={}>"
      ]
     },
     "execution_count": 47,
     "metadata": {},
     "output_type": "execute_result"
    }
   ],
   "source": [
    "# Set experiment name\n",
    "# ============================\n",
    "# 🔧 Configuration\n",
    "# ============================\n",
    "project_dir = os.getcwd()\n",
    "tracking_dir = os.path.join(project_dir, \"mlruns\")\n",
    "mlflow.set_tracking_uri(\"mlrunlogs/mlflow.db\")\n",
    "# ✅ setting the mlflow logs in the local folder \n",
    "print(\"Tracking URI set to:\", mlflow.get_tracking_uri())\n",
    "\n",
    "mlflow.set_experiment(\"RandomForest-Iris-CSV\")\n"
   ]
  },
  {
   "cell_type": "code",
   "execution_count": 48,
   "id": "055a90d6-b671-46bc-8daf-b1b442347915",
   "metadata": {},
   "outputs": [],
   "source": [
    "# ============================\n",
    "# 📥 Load Data from CSV\n",
    "# ============================\n",
    "# Read data from CSV file\n",
    "df = pd.read_csv(\"C:/Users/reema/OneDrive/Dokumente/Provenance_tracking_thesis/Provenence-Tracking-Thesis-Research/data/Iris.csv\")\n",
    "# Use the last column as the target variable\n",
    "X = df.iloc[:, :-1]  # All columns except the last one are features\n",
    "y = df.iloc[:, -1]   # The last column is the target\n",
    "\n",
    "# Create a dataset object with mlflow.data\n",
    "dataset = mlflow.data.from_pandas(df, name=\"Iris Dataset\")"
   ]
  },
  {
   "cell_type": "code",
   "execution_count": 49,
   "id": "91732c7f-362c-4557-8b8e-71ed640ae8d4",
   "metadata": {},
   "outputs": [],
   "source": [
    "# Dataset Metadata to be logged 'TODO_update based on DBREPO LOG\n",
    "dataset_metadata = {\n",
    "    \"dataset_name\": \"Iris Dataset\",\n",
    "    \"dataset_version\": \"1.0.0\",  # or use a Git commit hash or timestamp\n",
    "    \"dataset_source_url_or_path\": \"C:/Users/reema/OneDrive/Dokumente/Provenance_tracking_thesis/Provenence-Tracking-Thesis-Research/data/Iris.csv\",\n",
    "    \"dataset_size_bytes\": os.path.getsize(\"C:/Users/reema/OneDrive/Dokumente/Provenance_tracking_thesis/Provenence-Tracking-Thesis-Research/data/Iris.csv\"),\n",
    "    \"dataset_shape\": f\"{df.shape[0]} x {df.shape[1]}\",\n",
    "    \"dataset_format\": \"CSV\",\n",
    "    \"feature_names\": list(X.columns),\n",
    "    \"feature_types\": [str(X[col].dtype) for col in X.columns],\n",
    "    \"target_column\": y.name,\n",
    "    \"class_distribution\": y.value_counts().to_dict(),\n",
    "    \"missing_value_strategy\": \"None\",  # Update based on your strategy (e.g., imputation or dropping missing values)\n",
    "    \"scaling_encoding_steps\": \"None\",  # Update if any scaling or encoding is performed\n",
    "    \"data_split_method\": \"Train-test split (80-20)\",\n",
    "    \"data_random_seed\": 42,  # Random state for reproducibility\n",
    "    \"preprocessing_pipeline\": \"None\",  # Or provide a path or summary of preprocessing steps\n",
    "}"
   ]
  },
  {
   "cell_type": "code",
   "execution_count": 50,
   "id": "f47aa487-ab46-4032-b00f-4b8067a12066",
   "metadata": {},
   "outputs": [
    {
     "ename": "NoSuchPathError",
     "evalue": "C:\\Users\\reema\\OneDrive\\Dokumente\\Provenance_tracking_thesis\\Provenence-Tracking-Thesis-Research\\notebooks\\RQ_notebooks\\https:\\github.com\\reema-dass26\\Provenence-Tracking-Thesis-Research",
     "output_type": "error",
     "traceback": [
      "\u001b[1;31m---------------------------------------------------------------------------\u001b[0m",
      "\u001b[1;31mNoSuchPathError\u001b[0m                           Traceback (most recent call last)",
      "Cell \u001b[1;32mIn[50], line 3\u001b[0m\n\u001b[0;32m      1\u001b[0m \u001b[38;5;66;03m# Capture Git commit hash (if code is in a git repo) 👈 **Git Commit for every run**\u001b[39;00m\n\u001b[0;32m      2\u001b[0m repo_dir \u001b[38;5;241m=\u001b[39m \u001b[38;5;124m\"\u001b[39m\u001b[38;5;124mhttps://github.com/reema-dass26/Provenence-Tracking-Thesis-Research\u001b[39m\u001b[38;5;124m\"\u001b[39m  \u001b[38;5;66;03m# Replace with your repo path\u001b[39;00m\n\u001b[1;32m----> 3\u001b[0m repo \u001b[38;5;241m=\u001b[39m \u001b[43mgit\u001b[49m\u001b[38;5;241;43m.\u001b[39;49m\u001b[43mRepo\u001b[49m\u001b[43m(\u001b[49m\u001b[43mrepo_dir\u001b[49m\u001b[43m)\u001b[49m\n\u001b[0;32m      4\u001b[0m commit_hash \u001b[38;5;241m=\u001b[39m repo\u001b[38;5;241m.\u001b[39mhead\u001b[38;5;241m.\u001b[39mobject\u001b[38;5;241m.\u001b[39mhexsha  \u001b[38;5;66;03m# Capturing Git commit hash of the code used\u001b[39;00m\n\u001b[0;32m      6\u001b[0m \u001b[38;5;66;03m# Automatically commit the code with each run 👈 **New**\u001b[39;00m\n",
      "File \u001b[1;32m~\\anaconda3\\Lib\\site-packages\\git\\repo\\base.py:236\u001b[0m, in \u001b[0;36mRepo.__init__\u001b[1;34m(self, path, odbt, search_parent_directories, expand_vars)\u001b[0m\n\u001b[0;32m    234\u001b[0m \u001b[38;5;28;01mif\u001b[39;00m epath \u001b[38;5;129;01mis\u001b[39;00m \u001b[38;5;129;01mnot\u001b[39;00m \u001b[38;5;28;01mNone\u001b[39;00m:\n\u001b[0;32m    235\u001b[0m     \u001b[38;5;28;01mif\u001b[39;00m \u001b[38;5;129;01mnot\u001b[39;00m os\u001b[38;5;241m.\u001b[39mpath\u001b[38;5;241m.\u001b[39mexists(epath):\n\u001b[1;32m--> 236\u001b[0m         \u001b[38;5;28;01mraise\u001b[39;00m NoSuchPathError(epath)\n\u001b[0;32m    238\u001b[0m \u001b[38;5;66;03m# Walk up the path to find the `.git` dir.\u001b[39;00m\n\u001b[0;32m    239\u001b[0m curpath \u001b[38;5;241m=\u001b[39m epath\n",
      "\u001b[1;31mNoSuchPathError\u001b[0m: C:\\Users\\reema\\OneDrive\\Dokumente\\Provenance_tracking_thesis\\Provenence-Tracking-Thesis-Research\\notebooks\\RQ_notebooks\\https:\\github.com\\reema-dass26\\Provenence-Tracking-Thesis-Research"
     ]
    }
   ],
   "source": [
    "# Capture Git commit hash (if code is in a git repo) 👈 **Git Commit for every run**\n",
    "repo_dir = \"https://github.com/reema-dass26/Provenence-Tracking-Thesis-Research\"  # Replace with your repo path\n",
    "repo = git.Repo(repo_dir)\n",
    "commit_hash = repo.head.object.hexsha  # Capturing Git commit hash of the code used\n",
    "\n",
    "# Automatically commit the code with each run 👈 **New**\n",
    "commit_message = f\"Training model with new data and versioning - Model Version {commit_hash}\"\n",
    "repo.git.add(A=True)  # Staging all changes\n",
    "repo.index.commit(commit_message)  # Committing the changes\n",
    "repo.remotes.origin.push()  # Push the commit to the remote repository (optional)\n",
    "\n",
    "# Capture system information for environment logging\n",
    "python_version = sys.version\n",
    "platform_info = platform.system()"
   ]
  },
  {
   "cell_type": "code",
   "execution_count": 43,
   "id": "b469604a-0b98-45ae-a52a-5a97a14a0657",
   "metadata": {},
   "outputs": [
    {
     "name": "stderr",
     "output_type": "stream",
     "text": [
      "2025/04/14 21:19:07 INFO mlflow.tracking.fluent: Autologging successfully enabled for statsmodels.\n",
      "2025/04/14 21:19:09 WARNING mlflow.sklearn: Model was missing function: predict. Not logging python_function flavor!\n"
     ]
    },
    {
     "name": "stdout",
     "output_type": "stream",
     "text": [
      "Model 'RandomForest_IrisDataset_v1.0.0' already exists. Registering a new version...\n"
     ]
    },
    {
     "name": "stderr",
     "output_type": "stream",
     "text": [
      "2025/04/14 21:19:15 WARNING mlflow.models.model: Model logged without a signature and input example. Please set `input_example` parameter when logging the model to auto infer the model signature.\n",
      "Registered model 'RandomForest_IrisDataset_v1.0.0' already exists. Creating a new version of this model...\n",
      "Created version '5' of model 'RandomForest_IrisDataset_v1.0.0'.\n",
      "C:\\Users\\reema\\AppData\\Local\\Temp\\ipykernel_14504\\3809603253.py:49: FutureWarning: ``mlflow.tracking.client.MlflowClient.get_latest_versions`` is deprecated since 2.9.0. Model registry stages will be removed in a future major release. To learn more about the deprecation of model registry stages, see our migration guide here: https://mlflow.org/docs/latest/model-registry.html#migrating-from-stages\n",
      "  model_versions = client.get_latest_versions(model_name)\n"
     ]
    },
    {
     "name": "stdout",
     "output_type": "stream",
     "text": [
      "✅ Model logged and registered as: RandomForest_IrisDataset_v1.0.0, Version: 5\n",
      "✅ Model logged and registered as: RandomForest_IrisDataset_v1.0.0\n"
     ]
    },
    {
     "name": "stderr",
     "output_type": "stream",
     "text": [
      "2025/04/14 21:19:24 WARNING mlflow.models.model: Model logged without a signature and input example. Please set `input_example` parameter when logging the model to auto infer the model signature.\n",
      "C:\\Users\\reema\\anaconda3\\Lib\\site-packages\\sklearn\\metrics\\_ranking.py:1132: UndefinedMetricWarning: No positive samples in y_true, true positive value should be meaningless\n",
      "  warnings.warn(\n",
      "C:\\Users\\reema\\anaconda3\\Lib\\site-packages\\shap\\plots\\_beeswarm.py:1153: UserWarning: The figure layout has changed to tight\n",
      "  pl.tight_layout()\n",
      "C:\\Users\\reema\\anaconda3\\Lib\\site-packages\\shap\\plots\\_beeswarm.py:761: UserWarning: The figure layout has changed to tight\n",
      "  pl.tight_layout(pad=0, w_pad=0, h_pad=0.0)\n"
     ]
    },
    {
     "name": "stdout",
     "output_type": "stream",
     "text": [
      "Run logged with ID: 93ea99f16950474fba94c72d1453c63c\n"
     ]
    },
    {
     "data": {
      "image/png": "[encoded data removed]",
      "text/plain": [
       "<Figure size 600x600 with 2 Axes>"
      ]
     },
     "metadata": {},
     "output_type": "display_data"
    },
    {
     "data": {
      "text/plain": [
       "<Figure size 640x480 with 0 Axes>"
      ]
     },
     "metadata": {},
     "output_type": "display_data"
    },
    {
     "data": {
      "image/png": "[encoded data removed]",
      "text/plain": [
       "<Figure size 1150x660 with 1 Axes>"
      ]
     },
     "metadata": {},
     "output_type": "display_data"
    }
   ],
   "source": [
    "# 🧠 MLflow Autologging Enabled\n",
    "mlflow.autolog(log_input_examples=True, log_model_signatures=True)\n",
    "# ============================\n",
    "# 🚀 Start MLflow Run\n",
    "# ============================\n",
    "\n",
    "# ✅ Logging Dataset Metadata\n",
    "with mlflow.start_run() as run:\n",
    "    # Track system metrics manually\n",
    "    cpu_before = psutil.cpu_percent(interval=1)\n",
    "    mem_before = psutil.virtual_memory().percent\n",
    "    training_time_start  = time.time()\n",
    "\n",
    "\n",
    "    # Log dataset metadata\n",
    "    mlflow.log_params(dataset_metadata)\n",
    "\n",
    "\n",
    "     # Define dynamic model name\n",
    "    model_name = f\"RandomForest_{dataset_metadata['dataset_name'].replace(' ', '')}_v{dataset_metadata['dataset_version']}\"\n",
    "\n",
    "    # Use the MLflow client to check if the model already exists\n",
    "    client = MlflowClient()\n",
    "     # Check if model already exists\n",
    "    existing_models = client.search_registered_models()\n",
    "    model_registered = False\n",
    "\n",
    "    for model in existing_models:\n",
    "        if model.name == model_name:\n",
    "            model_registered = True\n",
    "            break\n",
    "\n",
    "    # Register the model or update with a new version\n",
    "    if model_registered:\n",
    "        print(f\"Model '{model_name}' already exists. Registering a new version...\")\n",
    "        mlflow.sklearn.log_model(\n",
    "            sk_model=model,\n",
    "            artifact_path=\"model\",\n",
    "            registered_model_name=model_name\n",
    "        )\n",
    "    else:\n",
    "        print(f\"Registering new model '{model_name}'...\")\n",
    "        mlflow.sklearn.log_model(\n",
    "            sk_model=model,\n",
    "            artifact_path=\"model\",\n",
    "            registered_model_name=model_name\n",
    "        )\n",
    "         # Fetch the model version after logging it\n",
    "    model_versions = client.get_latest_versions(model_name)\n",
    "    latest_version = model_versions[0].version if model_versions else None\n",
    "    mlflow.log_param(\"model_name\", model_name)  \n",
    "    mlflow.log_param(\"model_version\", latest_version)\n",
    "    mlflow.log_param(\"all_model_version\", model_versions)  \n",
    "\n",
    "\n",
    "    print(f\"✅ Model logged and registered as: {model_name}, Version: {latest_version}\")\n",
    "\n",
    "    print(f\"✅ Model logged and registered as: {model_name}\")\n",
    "\n",
    "    # Save input data as CSV and log it\n",
    "    Xy = X.copy()\n",
    "    Xy[\"target\"] = y\n",
    "    data_path = \"iris_dataset.csv\"\n",
    "    Xy.to_csv(data_path, index=False)\n",
    "    mlflow.log_artifact(data_path, artifact_path=\"input_data\")\n",
    "\n",
    "   # Model training\n",
    "    X_train, X_test, y_train, y_test = train_test_split(X, y, test_size=0.2, random_state=42)\n",
    "    model = RandomForestClassifier(n_estimators=100, random_state=42)\n",
    "    model.fit(X_train, y_train)\n",
    "    \n",
    "    training_time_end = time.time()\n",
    "    training_time = training_time_end - training_time_start\n",
    "    cpu_after = psutil.cpu_percent(interval=1)\n",
    "    mem_after = psutil.virtual_memory().percent\n",
    "\n",
    "\n",
    "     # Log base params\n",
    "    mlflow.log_params({\n",
    "        \"model_type\": type(model).__name__,\n",
    "        \"model_library\": \"scikit-learn\",\n",
    "        \"dataset_source\": \"DBrepo\",\n",
    "        \"training_time_start\": training_time_start,\n",
    "        \"training_time_end\": training_time_end\n",
    "    })\n",
    "\n",
    "     # Log full model hyperparameters\n",
    "    mlflow.log_params(model.get_params())\n",
    "\n",
    "    # Log metrics\n",
    "    mlflow.log_metrics({\n",
    "        \"cpu_before\": cpu_before,\n",
    "        \"cpu_after\": cpu_after,\n",
    "        \"mem_before\": mem_before,\n",
    "        \"mem_after\": mem_after,\n",
    "        \"training_duration_seconds\": training_time\n",
    "    })\n",
    "\n",
    "\n",
    "    # Log input features\n",
    "    mlflow.log_param(\"model_input_features\", list(X.columns))\n",
    "\n",
    "    # Log script path\n",
    "    mlflow.log_param(\"training_script_path\", \"RQ1.ipynb\")  # or use __file__ if script\n",
    "\n",
    "      # Log Python, OS, and libraries\n",
    "    mlflow.log_params({\n",
    "        \"python_version\": platform.python_version(),\n",
    "        \"os_platform\": f\"{platform.system()} {platform.release()}\",\n",
    "        \"sklearn_version\": sklearn.__version__,\n",
    "        \"pandas_version\": pd.__version__,\n",
    "        \"numpy_version\": np.__version__,\n",
    "        \"matplotlib_version\": matplotlib.__version__,\n",
    "        \"seaborn_version\": seaborn.__version__,\n",
    "        \"virtual_env\": os.environ.get(\"VIRTUAL_ENV\") or os.environ.get(\"CONDA_DEFAULT_ENV\", \"not_detected\")\n",
    "    })\n",
    "\n",
    "     # Log model\n",
    "    mlflow.sklearn.log_model(model, \"random_forest_model\")\n",
    "\n",
    "    # Evaluation\n",
    "    y_pred = model.predict(X_test)\n",
    "    y_proba = model.predict_proba(X_test)\n",
    "    acc = accuracy_score(y_test, y_pred)\n",
    "    auc = roc_auc_score(y_test, y_proba, multi_class=\"ovr\")\n",
    "    mlflow.log_metrics({\n",
    "        \"accuracy\": acc,\n",
    "        \"roc_auc\": auc,\n",
    "        \"precision\": precision_score(y_test, y_pred, average='macro'),\n",
    "        \"recall\": recall_score(y_test, y_pred, average='macro'),\n",
    "        \"f1_score\": f1_score(y_test, y_pred, average='macro')\n",
    "    })\n",
    "    \n",
    "    # Log parameters and metrics\n",
    "    mlflow.log_params({\n",
    "        \"model\": \"RandomForestClassifier\",\n",
    "        \"n_estimators\": 100,\n",
    "        \"dataset_source\": \"DBrepo\"\n",
    "    })\n",
    "\n",
    " \n",
    "  \n",
    "   # Confusion Matrix\n",
    "    confusion = confusion_matrix(y_test, y_pred)\n",
    "    plt.figure(figsize=(6, 6))\n",
    "    sns.heatmap(confusion, annot=True, fmt=\"d\", cmap=\"Blues\")\n",
    "    plt.title(\"Confusion Matrix\")\n",
    "    plt.xlabel(\"Predicted\")\n",
    "    plt.ylabel(\"Actual\")\n",
    "    cm_path = \"confusion_matrix.png\"\n",
    "    plt.savefig(cm_path)\n",
    "    mlflow.log_artifact(cm_path)\n",
    "\n",
    "    # ROC Curve\n",
    "    fpr, tpr, _ = roc_curve(y_test, y_proba[:, 1], pos_label=1)\n",
    "    plt.figure()\n",
    "    plt.plot(fpr, tpr, label=f\"ROC AUC = {auc:.2f}\")\n",
    "    plt.plot([0, 1], [0, 1], \"k--\")\n",
    "    plt.xlabel(\"False Positive Rate\")\n",
    "    plt.ylabel(\"True Positive Rate\")\n",
    "    plt.title(\"ROC Curve\")\n",
    "    roc_path = \"roc_curve.png\"\n",
    "    plt.savefig(roc_path)\n",
    "    mlflow.log_artifact(roc_path)\n",
    "\n",
    "    # SHAP\n",
    "    explainer = shap.TreeExplainer(model)\n",
    "    shap_values = explainer.shap_values(X_test)\n",
    "    shap.summary_plot(shap_values, X_test, show=False)\n",
    "    shap_path = \"shap_summary.png\"\n",
    "    plt.savefig(shap_path)\n",
    "    mlflow.log_artifact(shap_path)\n",
    "\n",
    "    # Feature importance\n",
    "    feat_imp = pd.DataFrame({\n",
    "        \"Feature\": X.columns,\n",
    "        \"Importance\": model.feature_importances_\n",
    "    }).sort_values(by=\"Importance\", ascending=False)\n",
    "    feat_path = \"feature_importance.csv\"\n",
    "    feat_imp.to_csv(feat_path, index=False)\n",
    "    mlflow.log_artifact(feat_path)\n",
    "\n",
    "    # 🗃️ Save and log dataset as artifact\n",
    "    Xy = X.copy()\n",
    "    Xy[\"target\"] = y\n",
    "    data_path = \"iris_dataset.csv\"\n",
    "    Xy.to_csv(data_path, index=False)\n",
    "    mlflow.log_artifact(data_path, artifact_path=\"input_data\")\n",
    "    \n",
    "  # Input schema\n",
    "    input_schema = X.dtypes.astype(str).to_dict()\n",
    "    with open(\"input_schema.json\", \"w\") as f:\n",
    "        json.dump(input_schema, f)\n",
    "    mlflow.log_artifact(\"input_schema.json\")\n",
    "\n",
    "    # Output schema\n",
    "    output_schema = {\n",
    "        \"output_type\": str(type(y_pred[0])),\n",
    "        \"classes\": model.classes_.tolist()\n",
    "    }\n",
    "    with open(\"output_schema.json\", \"w\") as f:\n",
    "        json.dump(output_schema, f)\n",
    "    mlflow.log_artifact(\"output_schema.json\")\n",
    "\n",
    "    # Register model\n",
    "    model_uri = f\"runs:/{run.info.run_id}/random_forest_model\"\n",
    "    # mlflow.register_model(model_uri, \"RandomForest_Iris_CSV_Model\")\n",
    "    print(f\"Run logged with ID: {run.info.run_id}\")\n",
    "    mlflow.end_run()\n",
    "\n",
    "mlflow.set_experiment(\"RandomForest-Iris-CSV\")\n",
    "client = MlflowClient()\n",
    "\n"
   ]
  },
  {
   "cell_type": "code",
   "execution_count": null,
   "id": "2526ebe3-18f0-4951-a553-05a21d96db12",
   "metadata": {},
   "outputs": [],
   "source": []
  },
  {
   "cell_type": "code",
   "execution_count": null,
   "id": "43d84ba7-bf8a-4a8a-a797-de01d1aec67a",
   "metadata": {},
   "outputs": [],
   "source": []
  },
  {
   "cell_type": "code",
   "execution_count": null,
   "id": "389db24b-0578-40a0-8731-2c2f9d58d0ef",
   "metadata": {},
   "outputs": [],
   "source": []
  },
  {
   "cell_type": "code",
   "execution_count": null,
   "id": "cc4f0725-805c-44ce-9926-d0d849fce621",
   "metadata": {},
   "outputs": [],
   "source": []
  },
  {
   "cell_type": "code",
   "execution_count": null,
   "id": "9202135f-8c33-4f97-9458-173183b92111",
   "metadata": {},
   "outputs": [],
   "source": []
  },
  {
   "cell_type": "code",
   "execution_count": null,
   "id": "a4703d1d-9cf2-4416-b627-74ef93e009e4",
   "metadata": {},
   "outputs": [],
   "source": []
  },
  {
   "cell_type": "code",
   "execution_count": null,
   "id": "e39da051-b6cc-4d52-bc9b-ada392d4de47",
   "metadata": {},
   "outputs": [],
   "source": []
  }
 ],
 "metadata": {
  "kernelspec": {
   "display_name": "Python 3 (ipykernel)",
   "language": "python",
   "name": "python3"
  },
  "language_info": {
   "codemirror_mode": {
    "name": "ipython",
    "version": 3
   },
   "file_extension": ".py",
   "mimetype": "text/x-python",
   "name": "python",
   "nbconvert_exporter": "python",
   "pygments_lexer": "ipython3",
   "version": "3.11.5"
  }
 },
 "nbformat": 4,
 "nbformat_minor": 5
}
