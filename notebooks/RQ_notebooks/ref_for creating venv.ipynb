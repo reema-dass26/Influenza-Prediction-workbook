{
 "cells": [
  {
   "cell_type": "code",
   "execution_count": 4,
   "id": "02474ffc-32c9-44fa-8317-46211ed44b6d",
   "metadata": {},
   "outputs": [
    {
     "name": "stdout",
     "output_type": "stream",
     "text": [
      "Conda environment created successfully.\n",
      "ipykernel installed successfully.\n",
      "Kernel added to Jupyter successfully.\n"
     ]
    }
   ],
   "source": [
    "# import subprocess\n",
    "# import sys\n",
    "# import os\n",
    "\n",
    "# # Step 1: Create the conda environment\n",
    "# def create_conda_env():\n",
    "#     try:\n",
    "#         subprocess.check_call([sys.executable, \"-m\", \"conda\", \"create\", \"-n\", \"thesis-env\", \"python=3.10\", \"-y\"])\n",
    "#         print(\"Conda environment created successfully.\")\n",
    "#     except subprocess.CalledProcessError as e:\n",
    "#         print(f\"Error creating conda environment: {e}\")\n",
    "#         raise\n",
    "\n",
    "# # Step 2: Install ipykernel and add the conda environment to Jupyter\n",
    "# def install_ipykernel_and_add_to_jupyter():\n",
    "#     try:\n",
    "#         # Activate the conda environment using subprocess and install ipykernel\n",
    "#         subprocess.check_call([sys.executable, \"-m\", \"conda\", \"run\", \"-n\", \"thesis-env\", \"pip\", \"install\", \"ipykernel\"])\n",
    "#         print(\"ipykernel installed successfully.\")\n",
    "\n",
    "#         # Add the conda environment to Jupyter as a new kernel\n",
    "#         subprocess.check_call([sys.executable, \"-m\", \"conda\", \"run\", \"-n\", \"thesis-env\", \"python\", \"-m\", \"ipykernel\", \"install\", \"--user\", \"--name=thesis-env\", \"--display-name=Python (thesis-env)\"])\n",
    "#         print(\"Kernel added to Jupyter successfully.\")\n",
    "#     except subprocess.CalledProcessError as e:\n",
    "#         print(f\"Error installing ipykernel or adding kernel to Jupyter: {e}\")\n",
    "#         raise\n",
    "\n",
    "# # Run the functions to create the environment and add it to Jupyter\n",
    "# create_conda_env()\n",
    "# install_ipykernel_and_add_to_jupyter()\n"
   ]
  }
 ],
 "metadata": {
  "kernelspec": {
   "display_name": "Python 3 (ipykernel)",
   "language": "python",
   "name": "python3"
  },
  "language_info": {
   "codemirror_mode": {
    "name": "ipython",
    "version": 3
   },
   "file_extension": ".py",
   "mimetype": "text/x-python",
   "name": "python",
   "nbconvert_exporter": "python",
   "pygments_lexer": "ipython3",
   "version": "3.11.5"
  }
 },
 "nbformat": 4,
 "nbformat_minor": 5
}
